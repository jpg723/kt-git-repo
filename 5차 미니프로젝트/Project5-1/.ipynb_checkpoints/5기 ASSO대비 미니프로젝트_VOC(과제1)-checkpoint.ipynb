{
 "cells": [
  {
   "cell_type": "markdown",
   "metadata": {},
   "source": [
    "**AIVLE School 미니프로젝트**\n",
    "### **VOC를 제기한 고객의 <span style=\"color:darkgreen\">해지 여부</span> 예측 문제**\n",
    "---"
   ]
  },
  {
   "cell_type": "markdown",
   "metadata": {
    "tags": []
   },
   "source": [
    "#### **<span style=\"color:red\">[미션 안내]</span>**\n",
    "* VOC를 제기한 고객의 데이터를 읽어들여 데이터를 분석 및 전처리한 후 머신러닝과 딥러닝으로 해지 여부를 예측하고 결과를 분석하세요."
   ]
  },
  {
   "cell_type": "markdown",
   "metadata": {},
   "source": [
    "#### **<span style=\"color:red\">[유의 사항]</span>**\n",
    "* 각 문항의 답안코드는 반드시 '#여기에 답안코드를 작성하세요'로 표시된 cell에 작성해야 합니다.\n",
    "* 제공된 cell을 추가/삭제하고 다른 cell에 답안코드를 작성 시 채점되지 않습니다.\n",
    "* 반드시 문제에 제시된 가이드를 읽고 답안 작성하세요.\n",
    "* 문제에 변수명이 제시된 경우 반드시 해당 변수명을 사용하세요.\n",
    "* 문제와 데이터는 제3자에게 공유하거나 개인적인 용도로 사용하는 등 외부로 유출할 수 없으며 유출로 인한 책임은 응시자 본인에게 있습니다."
   ]
  },
  {
   "cell_type": "code",
   "execution_count": 180,
   "metadata": {
    "tags": []
   },
   "outputs": [],
   "source": [
    "# 코드실행시 경고 메시지 무시\n",
    "import warnings\n",
    "warnings.filterwarnings(action='ignore')"
   ]
  },
  {
   "cell_type": "markdown",
   "metadata": {},
   "source": [
    "<br>"
   ]
  },
  {
   "cell_type": "markdown",
   "metadata": {},
   "source": [
    "## **<span style=\"color:black\">1. 필요한 라이브러리 설치</span>**"
   ]
  },
  {
   "cell_type": "markdown",
   "metadata": {},
   "source": [
    "<Br>\n",
    "<font color=blue>1-1. pip 이용해서 seaborn을 설치하세요.</font>"
   ]
  },
  {
   "cell_type": "code",
   "execution_count": 181,
   "metadata": {
    "tags": []
   },
   "outputs": [
    {
     "name": "stdout",
     "output_type": "stream",
     "text": [
      "Requirement already satisfied: seaborn in c:\\users\\user\\anaconda3\\lib\\site-packages (0.12.2)\n",
      "Requirement already satisfied: numpy!=1.24.0,>=1.17 in c:\\users\\user\\anaconda3\\lib\\site-packages (from seaborn) (1.24.3)\n",
      "Requirement already satisfied: pandas>=0.25 in c:\\users\\user\\anaconda3\\lib\\site-packages (from seaborn) (2.0.3)\n",
      "Requirement already satisfied: matplotlib!=3.6.1,>=3.1 in c:\\users\\user\\anaconda3\\lib\\site-packages (from seaborn) (3.7.2)\n",
      "Requirement already satisfied: contourpy>=1.0.1 in c:\\users\\user\\anaconda3\\lib\\site-packages (from matplotlib!=3.6.1,>=3.1->seaborn) (1.0.5)\n",
      "Requirement already satisfied: cycler>=0.10 in c:\\users\\user\\anaconda3\\lib\\site-packages (from matplotlib!=3.6.1,>=3.1->seaborn) (0.11.0)\n",
      "Requirement already satisfied: fonttools>=4.22.0 in c:\\users\\user\\anaconda3\\lib\\site-packages (from matplotlib!=3.6.1,>=3.1->seaborn) (4.25.0)\n",
      "Requirement already satisfied: kiwisolver>=1.0.1 in c:\\users\\user\\anaconda3\\lib\\site-packages (from matplotlib!=3.6.1,>=3.1->seaborn) (1.4.4)\n",
      "Requirement already satisfied: packaging>=20.0 in c:\\users\\user\\anaconda3\\lib\\site-packages (from matplotlib!=3.6.1,>=3.1->seaborn) (23.1)\n",
      "Requirement already satisfied: pillow>=6.2.0 in c:\\users\\user\\anaconda3\\lib\\site-packages (from matplotlib!=3.6.1,>=3.1->seaborn) (10.0.1)\n",
      "Requirement already satisfied: pyparsing<3.1,>=2.3.1 in c:\\users\\user\\anaconda3\\lib\\site-packages (from matplotlib!=3.6.1,>=3.1->seaborn) (3.0.9)\n",
      "Requirement already satisfied: python-dateutil>=2.7 in c:\\users\\user\\anaconda3\\lib\\site-packages (from matplotlib!=3.6.1,>=3.1->seaborn) (2.8.2)\n",
      "Requirement already satisfied: pytz>=2020.1 in c:\\users\\user\\anaconda3\\lib\\site-packages (from pandas>=0.25->seaborn) (2023.3.post1)\n",
      "Requirement already satisfied: tzdata>=2022.1 in c:\\users\\user\\anaconda3\\lib\\site-packages (from pandas>=0.25->seaborn) (2023.3)\n",
      "Requirement already satisfied: six>=1.5 in c:\\users\\user\\anaconda3\\lib\\site-packages (from python-dateutil>=2.7->matplotlib!=3.6.1,>=3.1->seaborn) (1.16.0)\n"
     ]
    }
   ],
   "source": [
    "# 여기에 답안코드를 작성하세요.\n",
    "!pip install seaborn"
   ]
  },
  {
   "cell_type": "markdown",
   "metadata": {},
   "source": [
    "<br>\n",
    "<font color=blue>1-2. numpy 별칭을 np로, pandas 별칭을 pd로 해서 임포트 하세요</font>"
   ]
  },
  {
   "cell_type": "code",
   "execution_count": 182,
   "metadata": {
    "tags": []
   },
   "outputs": [],
   "source": [
    "# 여기에 답안코드를 작성하세요.\n",
    "import numpy as np\n",
    "import pandas as pd"
   ]
  },
  {
   "cell_type": "markdown",
   "metadata": {},
   "source": [
    "<br>\n",
    "<font color=blue>1-3. matplotlib 라이브러리를 plt로, seaborn을 sns로 해서 임포트 하세요"
   ]
  },
  {
   "cell_type": "code",
   "execution_count": 183,
   "metadata": {
    "tags": []
   },
   "outputs": [],
   "source": [
    "# 여기에 답안코드를 작성하세요.\n",
    "import matplotlib.pylab as plt\n",
    "import seaborn as sns"
   ]
  },
  {
   "cell_type": "markdown",
   "metadata": {},
   "source": [
    "<br>"
   ]
  },
  {
   "cell_type": "markdown",
   "metadata": {},
   "source": [
    "## **<span style=\"color:black\">2. Tabular 데이터 로딩</span>**"
   ]
  },
  {
   "cell_type": "markdown",
   "metadata": {},
   "source": [
    "<br>\n",
    "<font color=blue>2-1. pandas read_csv 함수를 사용하여 voc_data.csv 파일을 읽어온 후 df에 저장하세요.</font>"
   ]
  },
  {
   "cell_type": "code",
   "execution_count": 184,
   "metadata": {
    "tags": []
   },
   "outputs": [
    {
     "data": {
      "text/html": [
       "<div>\n",
       "<style scoped>\n",
       "    .dataframe tbody tr th:only-of-type {\n",
       "        vertical-align: middle;\n",
       "    }\n",
       "\n",
       "    .dataframe tbody tr th {\n",
       "        vertical-align: top;\n",
       "    }\n",
       "\n",
       "    .dataframe thead th {\n",
       "        text-align: right;\n",
       "    }\n",
       "</style>\n",
       "<table border=\"1\" class=\"dataframe\">\n",
       "  <thead>\n",
       "    <tr style=\"text-align: right;\">\n",
       "      <th></th>\n",
       "      <th>voc_trt_perd_itg_cd</th>\n",
       "      <th>voc_prod_sbt_id</th>\n",
       "      <th>voc_wjt_sorc_id</th>\n",
       "      <th>voc_type_itg_cd</th>\n",
       "      <th>voc_sttus_itg_cd</th>\n",
       "      <th>voc_trt_reslt_itg_cd</th>\n",
       "      <th>cust_clas_itg_cd</th>\n",
       "      <th>bprod_sbt_id</th>\n",
       "      <th>age_itg_cd</th>\n",
       "      <th>cont_sttus_itg_cd</th>\n",
       "      <th>...</th>\n",
       "      <th>voc_dupl_tmscnt</th>\n",
       "      <th>oos_cause_type_itg_cd</th>\n",
       "      <th>voc_trt_need_time_itg_cd</th>\n",
       "      <th>engt_cperd_type_itg_cd</th>\n",
       "      <th>engt_tgt_div_itg_cd</th>\n",
       "      <th>cont_fns_pam_date</th>\n",
       "      <th>voc_mis_pbls_yn</th>\n",
       "      <th>fclt_oos_yn</th>\n",
       "      <th>cust_snsry_base_conf_need_time</th>\n",
       "      <th>trm_yn</th>\n",
       "    </tr>\n",
       "  </thead>\n",
       "  <tbody>\n",
       "    <tr>\n",
       "      <th>0</th>\n",
       "      <td>_</td>\n",
       "      <td>1000665328</td>\n",
       "      <td>2153</td>\n",
       "      <td>10009</td>\n",
       "      <td>10002</td>\n",
       "      <td>_</td>\n",
       "      <td>F</td>\n",
       "      <td>1000001126</td>\n",
       "      <td>36</td>\n",
       "      <td>10001</td>\n",
       "      <td>...</td>\n",
       "      <td>0</td>\n",
       "      <td>_</td>\n",
       "      <td>10001</td>\n",
       "      <td>_</td>\n",
       "      <td>_</td>\n",
       "      <td>99991231</td>\n",
       "      <td>N</td>\n",
       "      <td>_</td>\n",
       "      <td>0</td>\n",
       "      <td>N</td>\n",
       "    </tr>\n",
       "    <tr>\n",
       "      <th>1</th>\n",
       "      <td>_</td>\n",
       "      <td>1001028714</td>\n",
       "      <td>3311</td>\n",
       "      <td>10009</td>\n",
       "      <td>10002</td>\n",
       "      <td>10081</td>\n",
       "      <td>G</td>\n",
       "      <td>1000852226</td>\n",
       "      <td>32</td>\n",
       "      <td>10001</td>\n",
       "      <td>...</td>\n",
       "      <td>0</td>\n",
       "      <td>_</td>\n",
       "      <td>10001</td>\n",
       "      <td>15098</td>\n",
       "      <td>15244</td>\n",
       "      <td>20220319</td>\n",
       "      <td>N</td>\n",
       "      <td>_</td>\n",
       "      <td>0</td>\n",
       "      <td>N</td>\n",
       "    </tr>\n",
       "    <tr>\n",
       "      <th>2</th>\n",
       "      <td>_</td>\n",
       "      <td>1001028567</td>\n",
       "      <td>1575</td>\n",
       "      <td>10009</td>\n",
       "      <td>10002</td>\n",
       "      <td>_</td>\n",
       "      <td>G</td>\n",
       "      <td>1000851875</td>\n",
       "      <td>52</td>\n",
       "      <td>10001</td>\n",
       "      <td>...</td>\n",
       "      <td>0</td>\n",
       "      <td>10268</td>\n",
       "      <td>10001</td>\n",
       "      <td>15097</td>\n",
       "      <td>15244</td>\n",
       "      <td>20220508</td>\n",
       "      <td>N</td>\n",
       "      <td>N</td>\n",
       "      <td>0</td>\n",
       "      <td>N</td>\n",
       "    </tr>\n",
       "    <tr>\n",
       "      <th>3</th>\n",
       "      <td>10000</td>\n",
       "      <td>1000665328</td>\n",
       "      <td>3546</td>\n",
       "      <td>10009</td>\n",
       "      <td>10002</td>\n",
       "      <td>_</td>\n",
       "      <td>_</td>\n",
       "      <td>1000001126</td>\n",
       "      <td>_</td>\n",
       "      <td>10001</td>\n",
       "      <td>...</td>\n",
       "      <td>0</td>\n",
       "      <td>_</td>\n",
       "      <td>10001</td>\n",
       "      <td>_</td>\n",
       "      <td>_</td>\n",
       "      <td>99991231</td>\n",
       "      <td>N</td>\n",
       "      <td>_</td>\n",
       "      <td>0</td>\n",
       "      <td>N</td>\n",
       "    </tr>\n",
       "    <tr>\n",
       "      <th>4</th>\n",
       "      <td>_</td>\n",
       "      <td>1000779276</td>\n",
       "      <td>3086</td>\n",
       "      <td>10009</td>\n",
       "      <td>10002</td>\n",
       "      <td>_</td>\n",
       "      <td>G</td>\n",
       "      <td>1000764639</td>\n",
       "      <td>50</td>\n",
       "      <td>10001</td>\n",
       "      <td>...</td>\n",
       "      <td>0</td>\n",
       "      <td>_</td>\n",
       "      <td>10001</td>\n",
       "      <td>_</td>\n",
       "      <td>_</td>\n",
       "      <td>99991231</td>\n",
       "      <td>N</td>\n",
       "      <td>_</td>\n",
       "      <td>0</td>\n",
       "      <td>N</td>\n",
       "    </tr>\n",
       "    <tr>\n",
       "      <th>...</th>\n",
       "      <td>...</td>\n",
       "      <td>...</td>\n",
       "      <td>...</td>\n",
       "      <td>...</td>\n",
       "      <td>...</td>\n",
       "      <td>...</td>\n",
       "      <td>...</td>\n",
       "      <td>...</td>\n",
       "      <td>...</td>\n",
       "      <td>...</td>\n",
       "      <td>...</td>\n",
       "      <td>...</td>\n",
       "      <td>...</td>\n",
       "      <td>...</td>\n",
       "      <td>...</td>\n",
       "      <td>...</td>\n",
       "      <td>...</td>\n",
       "      <td>...</td>\n",
       "      <td>...</td>\n",
       "      <td>...</td>\n",
       "      <td>...</td>\n",
       "    </tr>\n",
       "    <tr>\n",
       "      <th>9995</th>\n",
       "      <td>_</td>\n",
       "      <td>1000811136</td>\n",
       "      <td>2123</td>\n",
       "      <td>10009</td>\n",
       "      <td>10002</td>\n",
       "      <td>_</td>\n",
       "      <td>G</td>\n",
       "      <td>1000809259</td>\n",
       "      <td>17</td>\n",
       "      <td>10001</td>\n",
       "      <td>...</td>\n",
       "      <td>0</td>\n",
       "      <td>_</td>\n",
       "      <td>10001</td>\n",
       "      <td>_</td>\n",
       "      <td>_</td>\n",
       "      <td>99991231</td>\n",
       "      <td>N</td>\n",
       "      <td>_</td>\n",
       "      <td>0</td>\n",
       "      <td>N</td>\n",
       "    </tr>\n",
       "    <tr>\n",
       "      <th>9996</th>\n",
       "      <td>_</td>\n",
       "      <td>1001047799</td>\n",
       "      <td>2153</td>\n",
       "      <td>10009</td>\n",
       "      <td>10002</td>\n",
       "      <td>_</td>\n",
       "      <td>I</td>\n",
       "      <td>1001046521</td>\n",
       "      <td>35</td>\n",
       "      <td>10001</td>\n",
       "      <td>...</td>\n",
       "      <td>0</td>\n",
       "      <td>_</td>\n",
       "      <td>10001</td>\n",
       "      <td>_</td>\n",
       "      <td>_</td>\n",
       "      <td>99991231</td>\n",
       "      <td>N</td>\n",
       "      <td>_</td>\n",
       "      <td>0</td>\n",
       "      <td>N</td>\n",
       "    </tr>\n",
       "    <tr>\n",
       "      <th>9997</th>\n",
       "      <td>_</td>\n",
       "      <td>1001027819</td>\n",
       "      <td>379</td>\n",
       "      <td>10009</td>\n",
       "      <td>10002</td>\n",
       "      <td>_</td>\n",
       "      <td>G</td>\n",
       "      <td>1000720809</td>\n",
       "      <td>51</td>\n",
       "      <td>10001</td>\n",
       "      <td>...</td>\n",
       "      <td>0</td>\n",
       "      <td>10270</td>\n",
       "      <td>10001</td>\n",
       "      <td>15097</td>\n",
       "      <td>15244</td>\n",
       "      <td>20180903</td>\n",
       "      <td>N</td>\n",
       "      <td>N</td>\n",
       "      <td>0</td>\n",
       "      <td>N</td>\n",
       "    </tr>\n",
       "    <tr>\n",
       "      <th>9998</th>\n",
       "      <td>_</td>\n",
       "      <td>1001027819</td>\n",
       "      <td>314</td>\n",
       "      <td>10009</td>\n",
       "      <td>10002</td>\n",
       "      <td>_</td>\n",
       "      <td>I</td>\n",
       "      <td>1000720809</td>\n",
       "      <td>_</td>\n",
       "      <td>10001</td>\n",
       "      <td>...</td>\n",
       "      <td>0</td>\n",
       "      <td>_</td>\n",
       "      <td>10001</td>\n",
       "      <td>15097</td>\n",
       "      <td>15244</td>\n",
       "      <td>20210412</td>\n",
       "      <td>N</td>\n",
       "      <td>_</td>\n",
       "      <td>0</td>\n",
       "      <td>N</td>\n",
       "    </tr>\n",
       "    <tr>\n",
       "      <th>9999</th>\n",
       "      <td>_</td>\n",
       "      <td>1001047802</td>\n",
       "      <td>2266</td>\n",
       "      <td>10009</td>\n",
       "      <td>10002</td>\n",
       "      <td>_</td>\n",
       "      <td>G</td>\n",
       "      <td>1001046524</td>\n",
       "      <td>27</td>\n",
       "      <td>10001</td>\n",
       "      <td>...</td>\n",
       "      <td>0</td>\n",
       "      <td>_</td>\n",
       "      <td>10001</td>\n",
       "      <td>_</td>\n",
       "      <td>_</td>\n",
       "      <td>99991231</td>\n",
       "      <td>N</td>\n",
       "      <td>_</td>\n",
       "      <td>0</td>\n",
       "      <td>N</td>\n",
       "    </tr>\n",
       "  </tbody>\n",
       "</table>\n",
       "<p>10000 rows × 24 columns</p>\n",
       "</div>"
      ],
      "text/plain": [
       "     voc_trt_perd_itg_cd  voc_prod_sbt_id  voc_wjt_sorc_id  voc_type_itg_cd  \\\n",
       "0                      _       1000665328             2153            10009   \n",
       "1                      _       1001028714             3311            10009   \n",
       "2                      _       1001028567             1575            10009   \n",
       "3                  10000       1000665328             3546            10009   \n",
       "4                      _       1000779276             3086            10009   \n",
       "...                  ...              ...              ...              ...   \n",
       "9995                   _       1000811136             2123            10009   \n",
       "9996                   _       1001047799             2153            10009   \n",
       "9997                   _       1001027819              379            10009   \n",
       "9998                   _       1001027819              314            10009   \n",
       "9999                   _       1001047802             2266            10009   \n",
       "\n",
       "      voc_sttus_itg_cd voc_trt_reslt_itg_cd cust_clas_itg_cd  bprod_sbt_id  \\\n",
       "0                10002                    _                F    1000001126   \n",
       "1                10002                10081                G    1000852226   \n",
       "2                10002                    _                G    1000851875   \n",
       "3                10002                    _                _    1000001126   \n",
       "4                10002                    _                G    1000764639   \n",
       "...                ...                  ...              ...           ...   \n",
       "9995             10002                    _                G    1000809259   \n",
       "9996             10002                    _                I    1001046521   \n",
       "9997             10002                    _                G    1000720809   \n",
       "9998             10002                    _                I    1000720809   \n",
       "9999             10002                    _                G    1001046524   \n",
       "\n",
       "     age_itg_cd cont_sttus_itg_cd  ...  voc_dupl_tmscnt  \\\n",
       "0            36             10001  ...                0   \n",
       "1            32             10001  ...                0   \n",
       "2            52             10001  ...                0   \n",
       "3             _             10001  ...                0   \n",
       "4            50             10001  ...                0   \n",
       "...         ...               ...  ...              ...   \n",
       "9995         17             10001  ...                0   \n",
       "9996         35             10001  ...                0   \n",
       "9997         51             10001  ...                0   \n",
       "9998          _             10001  ...                0   \n",
       "9999         27             10001  ...                0   \n",
       "\n",
       "      oos_cause_type_itg_cd voc_trt_need_time_itg_cd  engt_cperd_type_itg_cd  \\\n",
       "0                         _                    10001                       _   \n",
       "1                         _                    10001                   15098   \n",
       "2                     10268                    10001                   15097   \n",
       "3                         _                    10001                       _   \n",
       "4                         _                    10001                       _   \n",
       "...                     ...                      ...                     ...   \n",
       "9995                      _                    10001                       _   \n",
       "9996                      _                    10001                       _   \n",
       "9997                  10270                    10001                   15097   \n",
       "9998                      _                    10001                   15097   \n",
       "9999                      _                    10001                       _   \n",
       "\n",
       "      engt_tgt_div_itg_cd cont_fns_pam_date  voc_mis_pbls_yn fclt_oos_yn  \\\n",
       "0                       _          99991231                N           _   \n",
       "1                   15244          20220319                N           _   \n",
       "2                   15244          20220508                N           N   \n",
       "3                       _          99991231                N           _   \n",
       "4                       _          99991231                N           _   \n",
       "...                   ...               ...              ...         ...   \n",
       "9995                    _          99991231                N           _   \n",
       "9996                    _          99991231                N           _   \n",
       "9997                15244          20180903                N           N   \n",
       "9998                15244          20210412                N           _   \n",
       "9999                    _          99991231                N           _   \n",
       "\n",
       "     cust_snsry_base_conf_need_time  trm_yn  \n",
       "0                                 0       N  \n",
       "1                                 0       N  \n",
       "2                                 0       N  \n",
       "3                                 0       N  \n",
       "4                                 0       N  \n",
       "...                             ...     ...  \n",
       "9995                              0       N  \n",
       "9996                              0       N  \n",
       "9997                              0       N  \n",
       "9998                              0       N  \n",
       "9999                              0       N  \n",
       "\n",
       "[10000 rows x 24 columns]"
      ]
     },
     "execution_count": 184,
     "metadata": {},
     "output_type": "execute_result"
    }
   ],
   "source": [
    "# 여기에 답안코드를 작성하세요.\n",
    "df = pd.read_csv('voc_data.csv')\n",
    "df"
   ]
  },
  {
   "cell_type": "markdown",
   "metadata": {},
   "source": [
    "<br>"
   ]
  },
  {
   "cell_type": "markdown",
   "metadata": {},
   "source": [
    "## **<span style=\"color:black\">3. 데이터의 구성 확인</span>**"
   ]
  },
  {
   "cell_type": "markdown",
   "metadata": {},
   "source": [
    "<br>\n",
    "<font color=blue>3-1. \"df\" DataFrame 이용해서 읽어들인 파일의 앞부분 5줄, 뒷부분 5줄을 출력하세요</font>"
   ]
  },
  {
   "cell_type": "code",
   "execution_count": 185,
   "metadata": {
    "tags": []
   },
   "outputs": [
    {
     "data": {
      "text/html": [
       "<div>\n",
       "<style scoped>\n",
       "    .dataframe tbody tr th:only-of-type {\n",
       "        vertical-align: middle;\n",
       "    }\n",
       "\n",
       "    .dataframe tbody tr th {\n",
       "        vertical-align: top;\n",
       "    }\n",
       "\n",
       "    .dataframe thead th {\n",
       "        text-align: right;\n",
       "    }\n",
       "</style>\n",
       "<table border=\"1\" class=\"dataframe\">\n",
       "  <thead>\n",
       "    <tr style=\"text-align: right;\">\n",
       "      <th></th>\n",
       "      <th>voc_trt_perd_itg_cd</th>\n",
       "      <th>voc_prod_sbt_id</th>\n",
       "      <th>voc_wjt_sorc_id</th>\n",
       "      <th>voc_type_itg_cd</th>\n",
       "      <th>voc_sttus_itg_cd</th>\n",
       "      <th>voc_trt_reslt_itg_cd</th>\n",
       "      <th>cust_clas_itg_cd</th>\n",
       "      <th>bprod_sbt_id</th>\n",
       "      <th>age_itg_cd</th>\n",
       "      <th>cont_sttus_itg_cd</th>\n",
       "      <th>...</th>\n",
       "      <th>voc_dupl_tmscnt</th>\n",
       "      <th>oos_cause_type_itg_cd</th>\n",
       "      <th>voc_trt_need_time_itg_cd</th>\n",
       "      <th>engt_cperd_type_itg_cd</th>\n",
       "      <th>engt_tgt_div_itg_cd</th>\n",
       "      <th>cont_fns_pam_date</th>\n",
       "      <th>voc_mis_pbls_yn</th>\n",
       "      <th>fclt_oos_yn</th>\n",
       "      <th>cust_snsry_base_conf_need_time</th>\n",
       "      <th>trm_yn</th>\n",
       "    </tr>\n",
       "  </thead>\n",
       "  <tbody>\n",
       "    <tr>\n",
       "      <th>0</th>\n",
       "      <td>_</td>\n",
       "      <td>1000665328</td>\n",
       "      <td>2153</td>\n",
       "      <td>10009</td>\n",
       "      <td>10002</td>\n",
       "      <td>_</td>\n",
       "      <td>F</td>\n",
       "      <td>1000001126</td>\n",
       "      <td>36</td>\n",
       "      <td>10001</td>\n",
       "      <td>...</td>\n",
       "      <td>0</td>\n",
       "      <td>_</td>\n",
       "      <td>10001</td>\n",
       "      <td>_</td>\n",
       "      <td>_</td>\n",
       "      <td>99991231</td>\n",
       "      <td>N</td>\n",
       "      <td>_</td>\n",
       "      <td>0</td>\n",
       "      <td>N</td>\n",
       "    </tr>\n",
       "    <tr>\n",
       "      <th>1</th>\n",
       "      <td>_</td>\n",
       "      <td>1001028714</td>\n",
       "      <td>3311</td>\n",
       "      <td>10009</td>\n",
       "      <td>10002</td>\n",
       "      <td>10081</td>\n",
       "      <td>G</td>\n",
       "      <td>1000852226</td>\n",
       "      <td>32</td>\n",
       "      <td>10001</td>\n",
       "      <td>...</td>\n",
       "      <td>0</td>\n",
       "      <td>_</td>\n",
       "      <td>10001</td>\n",
       "      <td>15098</td>\n",
       "      <td>15244</td>\n",
       "      <td>20220319</td>\n",
       "      <td>N</td>\n",
       "      <td>_</td>\n",
       "      <td>0</td>\n",
       "      <td>N</td>\n",
       "    </tr>\n",
       "    <tr>\n",
       "      <th>2</th>\n",
       "      <td>_</td>\n",
       "      <td>1001028567</td>\n",
       "      <td>1575</td>\n",
       "      <td>10009</td>\n",
       "      <td>10002</td>\n",
       "      <td>_</td>\n",
       "      <td>G</td>\n",
       "      <td>1000851875</td>\n",
       "      <td>52</td>\n",
       "      <td>10001</td>\n",
       "      <td>...</td>\n",
       "      <td>0</td>\n",
       "      <td>10268</td>\n",
       "      <td>10001</td>\n",
       "      <td>15097</td>\n",
       "      <td>15244</td>\n",
       "      <td>20220508</td>\n",
       "      <td>N</td>\n",
       "      <td>N</td>\n",
       "      <td>0</td>\n",
       "      <td>N</td>\n",
       "    </tr>\n",
       "    <tr>\n",
       "      <th>3</th>\n",
       "      <td>10000</td>\n",
       "      <td>1000665328</td>\n",
       "      <td>3546</td>\n",
       "      <td>10009</td>\n",
       "      <td>10002</td>\n",
       "      <td>_</td>\n",
       "      <td>_</td>\n",
       "      <td>1000001126</td>\n",
       "      <td>_</td>\n",
       "      <td>10001</td>\n",
       "      <td>...</td>\n",
       "      <td>0</td>\n",
       "      <td>_</td>\n",
       "      <td>10001</td>\n",
       "      <td>_</td>\n",
       "      <td>_</td>\n",
       "      <td>99991231</td>\n",
       "      <td>N</td>\n",
       "      <td>_</td>\n",
       "      <td>0</td>\n",
       "      <td>N</td>\n",
       "    </tr>\n",
       "    <tr>\n",
       "      <th>4</th>\n",
       "      <td>_</td>\n",
       "      <td>1000779276</td>\n",
       "      <td>3086</td>\n",
       "      <td>10009</td>\n",
       "      <td>10002</td>\n",
       "      <td>_</td>\n",
       "      <td>G</td>\n",
       "      <td>1000764639</td>\n",
       "      <td>50</td>\n",
       "      <td>10001</td>\n",
       "      <td>...</td>\n",
       "      <td>0</td>\n",
       "      <td>_</td>\n",
       "      <td>10001</td>\n",
       "      <td>_</td>\n",
       "      <td>_</td>\n",
       "      <td>99991231</td>\n",
       "      <td>N</td>\n",
       "      <td>_</td>\n",
       "      <td>0</td>\n",
       "      <td>N</td>\n",
       "    </tr>\n",
       "  </tbody>\n",
       "</table>\n",
       "<p>5 rows × 24 columns</p>\n",
       "</div>"
      ],
      "text/plain": [
       "  voc_trt_perd_itg_cd  voc_prod_sbt_id  voc_wjt_sorc_id  voc_type_itg_cd  \\\n",
       "0                   _       1000665328             2153            10009   \n",
       "1                   _       1001028714             3311            10009   \n",
       "2                   _       1001028567             1575            10009   \n",
       "3               10000       1000665328             3546            10009   \n",
       "4                   _       1000779276             3086            10009   \n",
       "\n",
       "   voc_sttus_itg_cd voc_trt_reslt_itg_cd cust_clas_itg_cd  bprod_sbt_id  \\\n",
       "0             10002                    _                F    1000001126   \n",
       "1             10002                10081                G    1000852226   \n",
       "2             10002                    _                G    1000851875   \n",
       "3             10002                    _                _    1000001126   \n",
       "4             10002                    _                G    1000764639   \n",
       "\n",
       "  age_itg_cd cont_sttus_itg_cd  ...  voc_dupl_tmscnt  oos_cause_type_itg_cd  \\\n",
       "0         36             10001  ...                0                      _   \n",
       "1         32             10001  ...                0                      _   \n",
       "2         52             10001  ...                0                  10268   \n",
       "3          _             10001  ...                0                      _   \n",
       "4         50             10001  ...                0                      _   \n",
       "\n",
       "  voc_trt_need_time_itg_cd  engt_cperd_type_itg_cd  engt_tgt_div_itg_cd  \\\n",
       "0                    10001                       _                    _   \n",
       "1                    10001                   15098                15244   \n",
       "2                    10001                   15097                15244   \n",
       "3                    10001                       _                    _   \n",
       "4                    10001                       _                    _   \n",
       "\n",
       "  cont_fns_pam_date  voc_mis_pbls_yn fclt_oos_yn  \\\n",
       "0          99991231                N           _   \n",
       "1          20220319                N           _   \n",
       "2          20220508                N           N   \n",
       "3          99991231                N           _   \n",
       "4          99991231                N           _   \n",
       "\n",
       "  cust_snsry_base_conf_need_time  trm_yn  \n",
       "0                              0       N  \n",
       "1                              0       N  \n",
       "2                              0       N  \n",
       "3                              0       N  \n",
       "4                              0       N  \n",
       "\n",
       "[5 rows x 24 columns]"
      ]
     },
     "execution_count": 185,
     "metadata": {},
     "output_type": "execute_result"
    }
   ],
   "source": [
    "# 여기에 답안코드를 작성하세요.\n",
    "df.head()"
   ]
  },
  {
   "cell_type": "code",
   "execution_count": 186,
   "metadata": {
    "tags": []
   },
   "outputs": [
    {
     "data": {
      "text/html": [
       "<div>\n",
       "<style scoped>\n",
       "    .dataframe tbody tr th:only-of-type {\n",
       "        vertical-align: middle;\n",
       "    }\n",
       "\n",
       "    .dataframe tbody tr th {\n",
       "        vertical-align: top;\n",
       "    }\n",
       "\n",
       "    .dataframe thead th {\n",
       "        text-align: right;\n",
       "    }\n",
       "</style>\n",
       "<table border=\"1\" class=\"dataframe\">\n",
       "  <thead>\n",
       "    <tr style=\"text-align: right;\">\n",
       "      <th></th>\n",
       "      <th>voc_trt_perd_itg_cd</th>\n",
       "      <th>voc_prod_sbt_id</th>\n",
       "      <th>voc_wjt_sorc_id</th>\n",
       "      <th>voc_type_itg_cd</th>\n",
       "      <th>voc_sttus_itg_cd</th>\n",
       "      <th>voc_trt_reslt_itg_cd</th>\n",
       "      <th>cust_clas_itg_cd</th>\n",
       "      <th>bprod_sbt_id</th>\n",
       "      <th>age_itg_cd</th>\n",
       "      <th>cont_sttus_itg_cd</th>\n",
       "      <th>...</th>\n",
       "      <th>voc_dupl_tmscnt</th>\n",
       "      <th>oos_cause_type_itg_cd</th>\n",
       "      <th>voc_trt_need_time_itg_cd</th>\n",
       "      <th>engt_cperd_type_itg_cd</th>\n",
       "      <th>engt_tgt_div_itg_cd</th>\n",
       "      <th>cont_fns_pam_date</th>\n",
       "      <th>voc_mis_pbls_yn</th>\n",
       "      <th>fclt_oos_yn</th>\n",
       "      <th>cust_snsry_base_conf_need_time</th>\n",
       "      <th>trm_yn</th>\n",
       "    </tr>\n",
       "  </thead>\n",
       "  <tbody>\n",
       "    <tr>\n",
       "      <th>9995</th>\n",
       "      <td>_</td>\n",
       "      <td>1000811136</td>\n",
       "      <td>2123</td>\n",
       "      <td>10009</td>\n",
       "      <td>10002</td>\n",
       "      <td>_</td>\n",
       "      <td>G</td>\n",
       "      <td>1000809259</td>\n",
       "      <td>17</td>\n",
       "      <td>10001</td>\n",
       "      <td>...</td>\n",
       "      <td>0</td>\n",
       "      <td>_</td>\n",
       "      <td>10001</td>\n",
       "      <td>_</td>\n",
       "      <td>_</td>\n",
       "      <td>99991231</td>\n",
       "      <td>N</td>\n",
       "      <td>_</td>\n",
       "      <td>0</td>\n",
       "      <td>N</td>\n",
       "    </tr>\n",
       "    <tr>\n",
       "      <th>9996</th>\n",
       "      <td>_</td>\n",
       "      <td>1001047799</td>\n",
       "      <td>2153</td>\n",
       "      <td>10009</td>\n",
       "      <td>10002</td>\n",
       "      <td>_</td>\n",
       "      <td>I</td>\n",
       "      <td>1001046521</td>\n",
       "      <td>35</td>\n",
       "      <td>10001</td>\n",
       "      <td>...</td>\n",
       "      <td>0</td>\n",
       "      <td>_</td>\n",
       "      <td>10001</td>\n",
       "      <td>_</td>\n",
       "      <td>_</td>\n",
       "      <td>99991231</td>\n",
       "      <td>N</td>\n",
       "      <td>_</td>\n",
       "      <td>0</td>\n",
       "      <td>N</td>\n",
       "    </tr>\n",
       "    <tr>\n",
       "      <th>9997</th>\n",
       "      <td>_</td>\n",
       "      <td>1001027819</td>\n",
       "      <td>379</td>\n",
       "      <td>10009</td>\n",
       "      <td>10002</td>\n",
       "      <td>_</td>\n",
       "      <td>G</td>\n",
       "      <td>1000720809</td>\n",
       "      <td>51</td>\n",
       "      <td>10001</td>\n",
       "      <td>...</td>\n",
       "      <td>0</td>\n",
       "      <td>10270</td>\n",
       "      <td>10001</td>\n",
       "      <td>15097</td>\n",
       "      <td>15244</td>\n",
       "      <td>20180903</td>\n",
       "      <td>N</td>\n",
       "      <td>N</td>\n",
       "      <td>0</td>\n",
       "      <td>N</td>\n",
       "    </tr>\n",
       "    <tr>\n",
       "      <th>9998</th>\n",
       "      <td>_</td>\n",
       "      <td>1001027819</td>\n",
       "      <td>314</td>\n",
       "      <td>10009</td>\n",
       "      <td>10002</td>\n",
       "      <td>_</td>\n",
       "      <td>I</td>\n",
       "      <td>1000720809</td>\n",
       "      <td>_</td>\n",
       "      <td>10001</td>\n",
       "      <td>...</td>\n",
       "      <td>0</td>\n",
       "      <td>_</td>\n",
       "      <td>10001</td>\n",
       "      <td>15097</td>\n",
       "      <td>15244</td>\n",
       "      <td>20210412</td>\n",
       "      <td>N</td>\n",
       "      <td>_</td>\n",
       "      <td>0</td>\n",
       "      <td>N</td>\n",
       "    </tr>\n",
       "    <tr>\n",
       "      <th>9999</th>\n",
       "      <td>_</td>\n",
       "      <td>1001047802</td>\n",
       "      <td>2266</td>\n",
       "      <td>10009</td>\n",
       "      <td>10002</td>\n",
       "      <td>_</td>\n",
       "      <td>G</td>\n",
       "      <td>1001046524</td>\n",
       "      <td>27</td>\n",
       "      <td>10001</td>\n",
       "      <td>...</td>\n",
       "      <td>0</td>\n",
       "      <td>_</td>\n",
       "      <td>10001</td>\n",
       "      <td>_</td>\n",
       "      <td>_</td>\n",
       "      <td>99991231</td>\n",
       "      <td>N</td>\n",
       "      <td>_</td>\n",
       "      <td>0</td>\n",
       "      <td>N</td>\n",
       "    </tr>\n",
       "  </tbody>\n",
       "</table>\n",
       "<p>5 rows × 24 columns</p>\n",
       "</div>"
      ],
      "text/plain": [
       "     voc_trt_perd_itg_cd  voc_prod_sbt_id  voc_wjt_sorc_id  voc_type_itg_cd  \\\n",
       "9995                   _       1000811136             2123            10009   \n",
       "9996                   _       1001047799             2153            10009   \n",
       "9997                   _       1001027819              379            10009   \n",
       "9998                   _       1001027819              314            10009   \n",
       "9999                   _       1001047802             2266            10009   \n",
       "\n",
       "      voc_sttus_itg_cd voc_trt_reslt_itg_cd cust_clas_itg_cd  bprod_sbt_id  \\\n",
       "9995             10002                    _                G    1000809259   \n",
       "9996             10002                    _                I    1001046521   \n",
       "9997             10002                    _                G    1000720809   \n",
       "9998             10002                    _                I    1000720809   \n",
       "9999             10002                    _                G    1001046524   \n",
       "\n",
       "     age_itg_cd cont_sttus_itg_cd  ...  voc_dupl_tmscnt  \\\n",
       "9995         17             10001  ...                0   \n",
       "9996         35             10001  ...                0   \n",
       "9997         51             10001  ...                0   \n",
       "9998          _             10001  ...                0   \n",
       "9999         27             10001  ...                0   \n",
       "\n",
       "      oos_cause_type_itg_cd voc_trt_need_time_itg_cd  engt_cperd_type_itg_cd  \\\n",
       "9995                      _                    10001                       _   \n",
       "9996                      _                    10001                       _   \n",
       "9997                  10270                    10001                   15097   \n",
       "9998                      _                    10001                   15097   \n",
       "9999                      _                    10001                       _   \n",
       "\n",
       "      engt_tgt_div_itg_cd cont_fns_pam_date  voc_mis_pbls_yn fclt_oos_yn  \\\n",
       "9995                    _          99991231                N           _   \n",
       "9996                    _          99991231                N           _   \n",
       "9997                15244          20180903                N           N   \n",
       "9998                15244          20210412                N           _   \n",
       "9999                    _          99991231                N           _   \n",
       "\n",
       "     cust_snsry_base_conf_need_time  trm_yn  \n",
       "9995                              0       N  \n",
       "9996                              0       N  \n",
       "9997                              0       N  \n",
       "9998                              0       N  \n",
       "9999                              0       N  \n",
       "\n",
       "[5 rows x 24 columns]"
      ]
     },
     "execution_count": 186,
     "metadata": {},
     "output_type": "execute_result"
    }
   ],
   "source": [
    "# 여기에 답안코드를 작성하세요.\n",
    "df.tail()"
   ]
  },
  {
   "cell_type": "markdown",
   "metadata": {},
   "source": [
    "<br>\n",
    "<font color=blue>3-2. 데이터프레임 정보(컬럼정보, Null 여부, 타입) 출력하세요</font>"
   ]
  },
  {
   "cell_type": "code",
   "execution_count": 187,
   "metadata": {
    "tags": []
   },
   "outputs": [
    {
     "name": "stdout",
     "output_type": "stream",
     "text": [
      "<class 'pandas.core.frame.DataFrame'>\n",
      "RangeIndex: 10000 entries, 0 to 9999\n",
      "Data columns (total 24 columns):\n",
      " #   Column                          Non-Null Count  Dtype \n",
      "---  ------                          --------------  ----- \n",
      " 0   voc_trt_perd_itg_cd             10000 non-null  object\n",
      " 1   voc_prod_sbt_id                 10000 non-null  int64 \n",
      " 2   voc_wjt_sorc_id                 10000 non-null  int64 \n",
      " 3   voc_type_itg_cd                 10000 non-null  int64 \n",
      " 4   voc_sttus_itg_cd                10000 non-null  int64 \n",
      " 5   voc_trt_reslt_itg_cd            10000 non-null  object\n",
      " 6   cust_clas_itg_cd                10000 non-null  object\n",
      " 7   bprod_sbt_id                    10000 non-null  int64 \n",
      " 8   age_itg_cd                      10000 non-null  object\n",
      " 9   cont_sttus_itg_cd               10000 non-null  object\n",
      " 10  new_date                        10000 non-null  int64 \n",
      " 11  opn_nfl_chg_date                10000 non-null  int64 \n",
      " 12  cust_dtl_ctg_itg_cd             10000 non-null  object\n",
      " 13  voc_trt_degr_div_itg_cd         10000 non-null  int64 \n",
      " 14  voc_dupl_tmscnt                 10000 non-null  int64 \n",
      " 15  oos_cause_type_itg_cd           10000 non-null  object\n",
      " 16  voc_trt_need_time_itg_cd        10000 non-null  int64 \n",
      " 17  engt_cperd_type_itg_cd          10000 non-null  object\n",
      " 18  engt_tgt_div_itg_cd             10000 non-null  object\n",
      " 19  cont_fns_pam_date               10000 non-null  int64 \n",
      " 20  voc_mis_pbls_yn                 10000 non-null  object\n",
      " 21  fclt_oos_yn                     10000 non-null  object\n",
      " 22  cust_snsry_base_conf_need_time  10000 non-null  int64 \n",
      " 23  trm_yn                          10000 non-null  object\n",
      "dtypes: int64(12), object(12)\n",
      "memory usage: 1.8+ MB\n"
     ]
    }
   ],
   "source": [
    "# 여기에 답안코드를 작성하세요.\n",
    "df.info()"
   ]
  },
  {
   "cell_type": "markdown",
   "metadata": {},
   "source": [
    "<br>\n",
    "<font color=blue>3-3. 데이터프레임 인덱스를 확인하세요</font>"
   ]
  },
  {
   "cell_type": "code",
   "execution_count": 188,
   "metadata": {
    "tags": []
   },
   "outputs": [
    {
     "data": {
      "text/plain": [
       "RangeIndex(start=0, stop=10000, step=1)"
      ]
     },
     "execution_count": 188,
     "metadata": {},
     "output_type": "execute_result"
    }
   ],
   "source": [
    "# 여기에 답안코드를 작성하세요.\n",
    "df.index"
   ]
  },
  {
   "cell_type": "markdown",
   "metadata": {},
   "source": [
    "<br>\n",
    "<font color=blue>3-4. 데이터프레임 컬럼을 확인하세요</font>"
   ]
  },
  {
   "cell_type": "code",
   "execution_count": 189,
   "metadata": {
    "tags": []
   },
   "outputs": [
    {
     "data": {
      "text/plain": [
       "Index(['voc_trt_perd_itg_cd', 'voc_prod_sbt_id', 'voc_wjt_sorc_id',\n",
       "       'voc_type_itg_cd', 'voc_sttus_itg_cd', 'voc_trt_reslt_itg_cd',\n",
       "       'cust_clas_itg_cd', 'bprod_sbt_id', 'age_itg_cd', 'cont_sttus_itg_cd',\n",
       "       'new_date', 'opn_nfl_chg_date', 'cust_dtl_ctg_itg_cd',\n",
       "       'voc_trt_degr_div_itg_cd', 'voc_dupl_tmscnt', 'oos_cause_type_itg_cd',\n",
       "       'voc_trt_need_time_itg_cd', 'engt_cperd_type_itg_cd',\n",
       "       'engt_tgt_div_itg_cd', 'cont_fns_pam_date', 'voc_mis_pbls_yn',\n",
       "       'fclt_oos_yn', 'cust_snsry_base_conf_need_time', 'trm_yn'],\n",
       "      dtype='object')"
      ]
     },
     "execution_count": 189,
     "metadata": {},
     "output_type": "execute_result"
    }
   ],
   "source": [
    "# 여기에 답안코드를 작성하세요.\n",
    "df.columns"
   ]
  },
  {
   "cell_type": "markdown",
   "metadata": {},
   "source": [
    "<br>\n",
    "<font color=blue>3-5. 데이터프레임 값(value)을 확인하세요</font>"
   ]
  },
  {
   "cell_type": "code",
   "execution_count": 190,
   "metadata": {
    "tags": []
   },
   "outputs": [
    {
     "data": {
      "text/plain": [
       "array([['_', 1000665328, 2153, ..., '_', 0, 'N'],\n",
       "       ['_', 1001028714, 3311, ..., '_', 0, 'N'],\n",
       "       ['_', 1001028567, 1575, ..., 'N', 0, 'N'],\n",
       "       ...,\n",
       "       ['_', 1001027819, 379, ..., 'N', 0, 'N'],\n",
       "       ['_', 1001027819, 314, ..., '_', 0, 'N'],\n",
       "       ['_', 1001047802, 2266, ..., '_', 0, 'N']], dtype=object)"
      ]
     },
     "execution_count": 190,
     "metadata": {},
     "output_type": "execute_result"
    }
   ],
   "source": [
    "# 여기에 답안코드를 작성하세요.\n",
    "df.values"
   ]
  },
  {
   "cell_type": "markdown",
   "metadata": {},
   "source": [
    "<br>\n",
    "<font color=blue>3-6. 데이터프레임의 계산 가능한 값들에 대한 통계치를 확인하세요</font>"
   ]
  },
  {
   "cell_type": "code",
   "execution_count": 191,
   "metadata": {
    "tags": []
   },
   "outputs": [
    {
     "data": {
      "text/html": [
       "<div>\n",
       "<style scoped>\n",
       "    .dataframe tbody tr th:only-of-type {\n",
       "        vertical-align: middle;\n",
       "    }\n",
       "\n",
       "    .dataframe tbody tr th {\n",
       "        vertical-align: top;\n",
       "    }\n",
       "\n",
       "    .dataframe thead th {\n",
       "        text-align: right;\n",
       "    }\n",
       "</style>\n",
       "<table border=\"1\" class=\"dataframe\">\n",
       "  <thead>\n",
       "    <tr style=\"text-align: right;\">\n",
       "      <th></th>\n",
       "      <th>voc_prod_sbt_id</th>\n",
       "      <th>voc_wjt_sorc_id</th>\n",
       "      <th>voc_type_itg_cd</th>\n",
       "      <th>voc_sttus_itg_cd</th>\n",
       "      <th>bprod_sbt_id</th>\n",
       "      <th>new_date</th>\n",
       "      <th>opn_nfl_chg_date</th>\n",
       "      <th>voc_trt_degr_div_itg_cd</th>\n",
       "      <th>voc_dupl_tmscnt</th>\n",
       "      <th>voc_trt_need_time_itg_cd</th>\n",
       "      <th>cont_fns_pam_date</th>\n",
       "      <th>cust_snsry_base_conf_need_time</th>\n",
       "    </tr>\n",
       "  </thead>\n",
       "  <tbody>\n",
       "    <tr>\n",
       "      <th>count</th>\n",
       "      <td>1.000000e+04</td>\n",
       "      <td>10000.00000</td>\n",
       "      <td>10000.00000</td>\n",
       "      <td>10000.000000</td>\n",
       "      <td>1.000000e+04</td>\n",
       "      <td>1.000000e+04</td>\n",
       "      <td>1.000000e+04</td>\n",
       "      <td>10000.000000</td>\n",
       "      <td>10000.000000</td>\n",
       "      <td>10000.000000</td>\n",
       "      <td>1.000000e+04</td>\n",
       "      <td>10000.00000</td>\n",
       "    </tr>\n",
       "    <tr>\n",
       "      <th>mean</th>\n",
       "      <td>9.907267e+08</td>\n",
       "      <td>1578.29170</td>\n",
       "      <td>10008.52360</td>\n",
       "      <td>10002.043400</td>\n",
       "      <td>8.838173e+08</td>\n",
       "      <td>1.744283e+07</td>\n",
       "      <td>1.744505e+07</td>\n",
       "      <td>20001.074200</td>\n",
       "      <td>0.008800</td>\n",
       "      <td>10002.656800</td>\n",
       "      <td>7.004469e+07</td>\n",
       "      <td>193.88010</td>\n",
       "    </tr>\n",
       "    <tr>\n",
       "      <th>std</th>\n",
       "      <td>1.005780e+08</td>\n",
       "      <td>1078.63717</td>\n",
       "      <td>1.57927</td>\n",
       "      <td>0.314843</td>\n",
       "      <td>3.214229e+08</td>\n",
       "      <td>6.849207e+06</td>\n",
       "      <td>6.850077e+06</td>\n",
       "      <td>0.262109</td>\n",
       "      <td>0.103555</td>\n",
       "      <td>6.576864</td>\n",
       "      <td>3.863802e+07</td>\n",
       "      <td>6970.03853</td>\n",
       "    </tr>\n",
       "    <tr>\n",
       "      <th>min</th>\n",
       "      <td>-9.980000e+02</td>\n",
       "      <td>126.00000</td>\n",
       "      <td>10003.00000</td>\n",
       "      <td>10002.000000</td>\n",
       "      <td>-9.980000e+02</td>\n",
       "      <td>1.010100e+04</td>\n",
       "      <td>1.010100e+04</td>\n",
       "      <td>20001.000000</td>\n",
       "      <td>0.000000</td>\n",
       "      <td>10001.000000</td>\n",
       "      <td>2.001063e+07</td>\n",
       "      <td>0.00000</td>\n",
       "    </tr>\n",
       "    <tr>\n",
       "      <th>25%</th>\n",
       "      <td>1.000782e+09</td>\n",
       "      <td>360.00000</td>\n",
       "      <td>10009.00000</td>\n",
       "      <td>10002.000000</td>\n",
       "      <td>1.000003e+09</td>\n",
       "      <td>2.008053e+07</td>\n",
       "      <td>2.008123e+07</td>\n",
       "      <td>20001.000000</td>\n",
       "      <td>0.000000</td>\n",
       "      <td>10001.000000</td>\n",
       "      <td>2.021102e+07</td>\n",
       "      <td>0.00000</td>\n",
       "    </tr>\n",
       "    <tr>\n",
       "      <th>50%</th>\n",
       "      <td>1.001028e+09</td>\n",
       "      <td>2056.00000</td>\n",
       "      <td>10009.00000</td>\n",
       "      <td>10002.000000</td>\n",
       "      <td>1.000749e+09</td>\n",
       "      <td>2.014121e+07</td>\n",
       "      <td>2.015031e+07</td>\n",
       "      <td>20001.000000</td>\n",
       "      <td>0.000000</td>\n",
       "      <td>10001.000000</td>\n",
       "      <td>9.999123e+07</td>\n",
       "      <td>0.00000</td>\n",
       "    </tr>\n",
       "    <tr>\n",
       "      <th>75%</th>\n",
       "      <td>1.001036e+09</td>\n",
       "      <td>2153.00000</td>\n",
       "      <td>10009.00000</td>\n",
       "      <td>10002.000000</td>\n",
       "      <td>1.001044e+09</td>\n",
       "      <td>2.018010e+07</td>\n",
       "      <td>2.018032e+07</td>\n",
       "      <td>20001.000000</td>\n",
       "      <td>0.000000</td>\n",
       "      <td>10001.000000</td>\n",
       "      <td>9.999123e+07</td>\n",
       "      <td>0.00000</td>\n",
       "    </tr>\n",
       "    <tr>\n",
       "      <th>max</th>\n",
       "      <td>1.001079e+09</td>\n",
       "      <td>3856.00000</td>\n",
       "      <td>10017.00000</td>\n",
       "      <td>10005.000000</td>\n",
       "      <td>1.001078e+09</td>\n",
       "      <td>2.020041e+07</td>\n",
       "      <td>2.020041e+07</td>\n",
       "      <td>20002.000000</td>\n",
       "      <td>3.000000</td>\n",
       "      <td>10038.000000</td>\n",
       "      <td>9.999123e+07</td>\n",
       "      <td>367991.00000</td>\n",
       "    </tr>\n",
       "  </tbody>\n",
       "</table>\n",
       "</div>"
      ],
      "text/plain": [
       "       voc_prod_sbt_id  voc_wjt_sorc_id  voc_type_itg_cd  voc_sttus_itg_cd  \\\n",
       "count     1.000000e+04      10000.00000      10000.00000      10000.000000   \n",
       "mean      9.907267e+08       1578.29170      10008.52360      10002.043400   \n",
       "std       1.005780e+08       1078.63717          1.57927          0.314843   \n",
       "min      -9.980000e+02        126.00000      10003.00000      10002.000000   \n",
       "25%       1.000782e+09        360.00000      10009.00000      10002.000000   \n",
       "50%       1.001028e+09       2056.00000      10009.00000      10002.000000   \n",
       "75%       1.001036e+09       2153.00000      10009.00000      10002.000000   \n",
       "max       1.001079e+09       3856.00000      10017.00000      10005.000000   \n",
       "\n",
       "       bprod_sbt_id      new_date  opn_nfl_chg_date  voc_trt_degr_div_itg_cd  \\\n",
       "count  1.000000e+04  1.000000e+04      1.000000e+04             10000.000000   \n",
       "mean   8.838173e+08  1.744283e+07      1.744505e+07             20001.074200   \n",
       "std    3.214229e+08  6.849207e+06      6.850077e+06                 0.262109   \n",
       "min   -9.980000e+02  1.010100e+04      1.010100e+04             20001.000000   \n",
       "25%    1.000003e+09  2.008053e+07      2.008123e+07             20001.000000   \n",
       "50%    1.000749e+09  2.014121e+07      2.015031e+07             20001.000000   \n",
       "75%    1.001044e+09  2.018010e+07      2.018032e+07             20001.000000   \n",
       "max    1.001078e+09  2.020041e+07      2.020041e+07             20002.000000   \n",
       "\n",
       "       voc_dupl_tmscnt  voc_trt_need_time_itg_cd  cont_fns_pam_date  \\\n",
       "count     10000.000000              10000.000000       1.000000e+04   \n",
       "mean          0.008800              10002.656800       7.004469e+07   \n",
       "std           0.103555                  6.576864       3.863802e+07   \n",
       "min           0.000000              10001.000000       2.001063e+07   \n",
       "25%           0.000000              10001.000000       2.021102e+07   \n",
       "50%           0.000000              10001.000000       9.999123e+07   \n",
       "75%           0.000000              10001.000000       9.999123e+07   \n",
       "max           3.000000              10038.000000       9.999123e+07   \n",
       "\n",
       "       cust_snsry_base_conf_need_time  \n",
       "count                     10000.00000  \n",
       "mean                        193.88010  \n",
       "std                        6970.03853  \n",
       "min                           0.00000  \n",
       "25%                           0.00000  \n",
       "50%                           0.00000  \n",
       "75%                           0.00000  \n",
       "max                      367991.00000  "
      ]
     },
     "execution_count": 191,
     "metadata": {},
     "output_type": "execute_result"
    }
   ],
   "source": [
    "# 여기에 답안코드를 작성하세요.\n",
    "df.describe()"
   ]
  },
  {
   "cell_type": "markdown",
   "metadata": {},
   "source": [
    "<br>\n",
    "<font color=blue>3-7. DataFrame 컬럼 항목에 Null 존재하는지 확인하세요.  (null값의 합계 포함)</font>"
   ]
  },
  {
   "cell_type": "code",
   "execution_count": 192,
   "metadata": {
    "tags": []
   },
   "outputs": [
    {
     "data": {
      "text/plain": [
       "voc_trt_perd_itg_cd               0\n",
       "voc_prod_sbt_id                   0\n",
       "voc_wjt_sorc_id                   0\n",
       "voc_type_itg_cd                   0\n",
       "voc_sttus_itg_cd                  0\n",
       "voc_trt_reslt_itg_cd              0\n",
       "cust_clas_itg_cd                  0\n",
       "bprod_sbt_id                      0\n",
       "age_itg_cd                        0\n",
       "cont_sttus_itg_cd                 0\n",
       "new_date                          0\n",
       "opn_nfl_chg_date                  0\n",
       "cust_dtl_ctg_itg_cd               0\n",
       "voc_trt_degr_div_itg_cd           0\n",
       "voc_dupl_tmscnt                   0\n",
       "oos_cause_type_itg_cd             0\n",
       "voc_trt_need_time_itg_cd          0\n",
       "engt_cperd_type_itg_cd            0\n",
       "engt_tgt_div_itg_cd               0\n",
       "cont_fns_pam_date                 0\n",
       "voc_mis_pbls_yn                   0\n",
       "fclt_oos_yn                       0\n",
       "cust_snsry_base_conf_need_time    0\n",
       "trm_yn                            0\n",
       "dtype: int64"
      ]
     },
     "execution_count": 192,
     "metadata": {},
     "output_type": "execute_result"
    }
   ],
   "source": [
    "# 여기에 답안코드를 작성하세요.\n",
    "df.isna().sum()"
   ]
  },
  {
   "cell_type": "markdown",
   "metadata": {},
   "source": [
    "<br>\n",
    "<font color=blue>3-8. voc_trt_perd_itg_cd 컬럼의 데이터를 확인하세요</font>"
   ]
  },
  {
   "cell_type": "code",
   "execution_count": 193,
   "metadata": {
    "tags": []
   },
   "outputs": [
    {
     "data": {
      "text/plain": [
       "0           _\n",
       "1           _\n",
       "2           _\n",
       "3       10000\n",
       "4           _\n",
       "        ...  \n",
       "9995        _\n",
       "9996        _\n",
       "9997        _\n",
       "9998        _\n",
       "9999        _\n",
       "Name: voc_trt_perd_itg_cd, Length: 10000, dtype: object"
      ]
     },
     "execution_count": 193,
     "metadata": {},
     "output_type": "execute_result"
    }
   ],
   "source": [
    "# 여기에 답안코드를 작성하세요.\n",
    "\n",
    "df['voc_trt_perd_itg_cd']"
   ]
  },
  {
   "cell_type": "markdown",
   "metadata": {},
   "source": [
    "<br>\n",
    "<font color=blue>3-9. voc_trt_perd_itg_cd 컬럼 데이터별 건수를 나열하세요</font>"
   ]
  },
  {
   "cell_type": "code",
   "execution_count": 194,
   "metadata": {
    "tags": []
   },
   "outputs": [
    {
     "data": {
      "text/plain": [
       "voc_trt_perd_itg_cd\n",
       "_        5422\n",
       "10000    4283\n",
       "10001     163\n",
       "10002      58\n",
       "10003      25\n",
       "10004      16\n",
       "10005      10\n",
       "10006       6\n",
       "10008       3\n",
       "10009       3\n",
       "10016       2\n",
       "10011       2\n",
       "10012       2\n",
       "10007       2\n",
       "10014       1\n",
       "10013       1\n",
       "10015       1\n",
       "Name: count, dtype: int64"
      ]
     },
     "execution_count": 194,
     "metadata": {},
     "output_type": "execute_result"
    }
   ],
   "source": [
    "# 여기에 답안코드를 작성하세요.\n",
    "df['voc_trt_perd_itg_cd'].value_counts()"
   ]
  },
  {
   "cell_type": "markdown",
   "metadata": {},
   "source": [
    "### 컬럼에서  '_' 값이 차지하는 비율\n",
    "- voc_trt_perd_itg_cd : 0.54\n",
    "- voc_trt_reslt_itg_cd : 0.88\n",
    "- oos_cause_type_itg_cd : 0.9\n",
    "- engt_cperd_type_itg_cd : 0.63\n",
    "- engt_tgt_div_itg_cd : 0.63\n",
    "- fclt_oos_yn : 0.90  \n",
    "- cust_clas_itg_cd : 0.2\n",
    "- age_itg_cd : 0.22\n",
    "- cont_sttus_itg_cd : 0.11\n",
    "- cust_dtl_ctg_itg_cd : 0.11\n",
    "- voc_mis_pbls_yn : 0.008\n"
   ]
  },
  {
   "cell_type": "markdown",
   "metadata": {},
   "source": [
    "## **<span style=\"color:black\">4. 데이터 결측치 처리</span>**"
   ]
  },
  {
   "cell_type": "markdown",
   "metadata": {},
   "source": [
    "<br>\n",
    "<font color=blue>4-1. voc_trt_perd_itg_cd 컬럼에서 '_' 값이 차지하는 비율이 50%가 넘는 것을 확인하고, 이 voc_trt_perd_itg_cd 컬럼을 삭제하세요. (컬럼이 삭제된 데이터를 df1에 저장하세요)</font>"
   ]
  },
  {
   "cell_type": "code",
   "execution_count": 195,
   "metadata": {
    "tags": []
   },
   "outputs": [
    {
     "name": "stdout",
     "output_type": "stream",
     "text": [
      "voc_trt_perd_itg_cd\n",
      "_        0.5422\n",
      "10000    0.4283\n",
      "10001    0.0163\n",
      "10002    0.0058\n",
      "10003    0.0025\n",
      "10004    0.0016\n",
      "10005    0.0010\n",
      "10006    0.0006\n",
      "10008    0.0003\n",
      "10009    0.0003\n",
      "10016    0.0002\n",
      "10011    0.0002\n",
      "10012    0.0002\n",
      "10007    0.0002\n",
      "10014    0.0001\n",
      "10013    0.0001\n",
      "10015    0.0001\n",
      "Name: proportion, dtype: float64\n"
     ]
    }
   ],
   "source": [
    "# 여기에 답안코드를 작성하세요.\n",
    "print(df['voc_trt_perd_itg_cd'].value_counts(normalize=True))\n",
    "df1 = df.drop(columns='voc_trt_perd_itg_cd')"
   ]
  },
  {
   "cell_type": "markdown",
   "metadata": {},
   "source": [
    "<br>\n",
    "<font color=blue>4-2. 'df1' DataFrame에서 '_' 값이 50% 이상되는 나머지 컬럼도 삭제하세요</font>"
   ]
  },
  {
   "cell_type": "code",
   "execution_count": 196,
   "metadata": {
    "tags": []
   },
   "outputs": [],
   "source": [
    "# 여기에 답안코드를 작성하세요.\n",
    "df1.drop(columns=['voc_trt_reslt_itg_cd', \n",
    "                  'oos_cause_type_itg_cd', \n",
    "                  'engt_cperd_type_itg_cd', \n",
    "                  'engt_tgt_div_itg_cd',\n",
    "                  'fclt_oos_yn'], inplace=True)"
   ]
  },
  {
   "cell_type": "markdown",
   "metadata": {},
   "source": [
    "<br>\n",
    "<font color=blue>4-3. 'df1' DataFrame의 'cust_clas_itg_cd' 컬럼에 '_' 값이 몇 개 있는지 확인하여 출력하세요 </font>"
   ]
  },
  {
   "cell_type": "code",
   "execution_count": 197,
   "metadata": {
    "tags": []
   },
   "outputs": [
    {
     "data": {
      "text/plain": [
       "1934"
      ]
     },
     "execution_count": 197,
     "metadata": {},
     "output_type": "execute_result"
    }
   ],
   "source": [
    "# 여기에 답안코드를 작성하세요.\n",
    "\n",
    "(df1['cust_clas_itg_cd'] == '_').sum()"
   ]
  },
  {
   "cell_type": "markdown",
   "metadata": {},
   "source": [
    "<br>\n",
    "<font color=blue>4-4. df1의 남아있는 '_'값을 null로 변경: DataFrame replace 함수를 사용해서 모든 컬럼에 대해 '_'값을 null로 변경하고 df2에 저장하세요.</font>"
   ]
  },
  {
   "cell_type": "code",
   "execution_count": 198,
   "metadata": {
    "tags": []
   },
   "outputs": [],
   "source": [
    "# 여기에 답안코드를 작성하세요.\n",
    "\n",
    "df2 = df1.replace('_', np.nan)"
   ]
  },
  {
   "cell_type": "markdown",
   "metadata": {},
   "source": [
    "<br>\n",
    "<font color=blue>4-5. df2의 컬럼별 Null 갯수를 확인해보세요.</font>"
   ]
  },
  {
   "cell_type": "code",
   "execution_count": 199,
   "metadata": {
    "tags": []
   },
   "outputs": [
    {
     "data": {
      "text/plain": [
       "voc_prod_sbt_id                      0\n",
       "voc_wjt_sorc_id                      0\n",
       "voc_type_itg_cd                      0\n",
       "voc_sttus_itg_cd                     0\n",
       "cust_clas_itg_cd                  1934\n",
       "bprod_sbt_id                         0\n",
       "age_itg_cd                        2129\n",
       "cont_sttus_itg_cd                 1168\n",
       "new_date                             0\n",
       "opn_nfl_chg_date                     0\n",
       "cust_dtl_ctg_itg_cd               1168\n",
       "voc_trt_degr_div_itg_cd              0\n",
       "voc_dupl_tmscnt                      0\n",
       "voc_trt_need_time_itg_cd             0\n",
       "cont_fns_pam_date                    0\n",
       "voc_mis_pbls_yn                     86\n",
       "cust_snsry_base_conf_need_time       0\n",
       "trm_yn                               0\n",
       "dtype: int64"
      ]
     },
     "execution_count": 199,
     "metadata": {},
     "output_type": "execute_result"
    }
   ],
   "source": [
    "# 여기에 답안코드를 작성하세요.\n",
    "\n",
    "df2.isna().sum()"
   ]
  },
  {
   "cell_type": "markdown",
   "metadata": {},
   "source": [
    "<br>\n",
    "<font color=blue>4-6. df2 데이터프레임 컬럼들의 데이터타입을 확인하세요.</font>"
   ]
  },
  {
   "cell_type": "code",
   "execution_count": 200,
   "metadata": {
    "tags": []
   },
   "outputs": [
    {
     "data": {
      "text/plain": [
       "voc_prod_sbt_id                    int64\n",
       "voc_wjt_sorc_id                    int64\n",
       "voc_type_itg_cd                    int64\n",
       "voc_sttus_itg_cd                   int64\n",
       "cust_clas_itg_cd                  object\n",
       "bprod_sbt_id                       int64\n",
       "age_itg_cd                        object\n",
       "cont_sttus_itg_cd                 object\n",
       "new_date                           int64\n",
       "opn_nfl_chg_date                   int64\n",
       "cust_dtl_ctg_itg_cd               object\n",
       "voc_trt_degr_div_itg_cd            int64\n",
       "voc_dupl_tmscnt                    int64\n",
       "voc_trt_need_time_itg_cd           int64\n",
       "cont_fns_pam_date                  int64\n",
       "voc_mis_pbls_yn                   object\n",
       "cust_snsry_base_conf_need_time     int64\n",
       "trm_yn                            object\n",
       "dtype: object"
      ]
     },
     "execution_count": 200,
     "metadata": {},
     "output_type": "execute_result"
    }
   ],
   "source": [
    "# 여기에 답안코드를 작성하세요.\n",
    "\n",
    "df2.dtypes"
   ]
  },
  {
   "cell_type": "markdown",
   "metadata": {},
   "source": [
    "<br>\n",
    "<font color=blue>4-7. df2 데이터프레임에 대해 먼저, 'cust_clas_itg_cd' 컬럼의 최빈값을 확인하는 코드로 확인하고 다음으로, 이 컬럼의 Null 값을 최빈값으로 변경하세요(fillna 함수 사용). 처리된 데이터프레임은 df3에 저장하세요</font>"
   ]
  },
  {
   "cell_type": "code",
   "execution_count": 201,
   "metadata": {
    "tags": []
   },
   "outputs": [
    {
     "name": "stdout",
     "output_type": "stream",
     "text": [
      "cust_clas_itg_cd의 최빈값: L\n"
     ]
    }
   ],
   "source": [
    "# 여기에 답안코드를 작성하세요.\n",
    "\n",
    "mode1 = df2['cust_clas_itg_cd'].mode()[0]\n",
    "print(\"cust_clas_itg_cd의 최빈값:\", mode1)\n",
    "df2['cust_clas_itg_cd'].fillna(mode1, inplace=True)\n",
    "df3 = df2"
   ]
  },
  {
   "cell_type": "markdown",
   "metadata": {},
   "source": [
    "<br>\n",
    "<font color=blue>4-8. df3에 대해 'age_itg_cd'의 null 값을 중앙값(median)으로 변경하고 데이터 타입을 정수(int)로 변경하세요. 데이터 처리 후 데이터프레임을 df4에 저장하세요.</font>"
   ]
  },
  {
   "cell_type": "code",
   "execution_count": 202,
   "metadata": {
    "tags": []
   },
   "outputs": [
    {
     "name": "stdout",
     "output_type": "stream",
     "text": [
      "age_itg_cd의 최빈값: 49.0\n"
     ]
    }
   ],
   "source": [
    "# 여기에 답안코드를 작성하세요.\n",
    "median1 = df3['age_itg_cd'].median()\n",
    "print(\"age_itg_cd의 최빈값:\", median1)\n",
    "df3['age_itg_cd'].fillna(median1, inplace=True)\n",
    "# 원하는 컬럼의 데이터 타입 변경하는 방법\n",
    "df4 = df3.astype({'age_itg_cd': 'int'})"
   ]
  },
  {
   "cell_type": "markdown",
   "metadata": {},
   "source": [
    "<br>\n",
    "<font color=blue>4-9. df4에 대해 'cont_sttus_itg_cd'의 null 값을 최빈값(mode)으로 변경하세요. 데이터 처리 후 데이터프레임을 df5에 저장하세요.</font>"
   ]
  },
  {
   "cell_type": "code",
   "execution_count": 203,
   "metadata": {
    "tags": []
   },
   "outputs": [],
   "source": [
    "# 여기에 답안코드를 작성하세요.\n",
    "mode2 = df4['cont_sttus_itg_cd'].mode()[0]\n",
    "df4['cont_sttus_itg_cd'].fillna(mode2, inplace=True)\n",
    "df5 = df4"
   ]
  },
  {
   "cell_type": "markdown",
   "metadata": {},
   "source": [
    "<br>\n",
    "<font color=blue>4-10. df5에 대해 'cust_dtl_ctg_itg_cd'의 null 값을 최빈값(mode)으로 변경하세요</font>"
   ]
  },
  {
   "cell_type": "code",
   "execution_count": 204,
   "metadata": {
    "tags": []
   },
   "outputs": [],
   "source": [
    "# 여기에 답안코드를 작성하세요.\n",
    "mode3 = df5['cust_dtl_ctg_itg_cd'].mode()[0]\n",
    "df5['cust_dtl_ctg_itg_cd'].fillna(mode3, inplace=True)"
   ]
  },
  {
   "cell_type": "markdown",
   "metadata": {},
   "source": [
    "<br>\n",
    "<font color=blue>4-11. df5에 대해 다음 날짜 관련 컬럼을 확인 후 삭제하세요. (날짜 관련 컬럼: new_date, opn_nfl_chg_date, cont_fns_pam_date)</font>"
   ]
  },
  {
   "cell_type": "code",
   "execution_count": 205,
   "metadata": {
    "tags": []
   },
   "outputs": [],
   "source": [
    "# 여기에 답안코드를 작성하세요.\n",
    "df5.drop(columns=['new_date', 'opn_nfl_chg_date', 'cont_fns_pam_date'], inplace=True)"
   ]
  },
  {
   "cell_type": "markdown",
   "metadata": {},
   "source": [
    "<br>\n",
    "<font color=blue>4-12. df5에 대해 'voc_mis_pbls_yn' 컬럼을 삭제하세요.</font>"
   ]
  },
  {
   "cell_type": "code",
   "execution_count": 206,
   "metadata": {
    "tags": []
   },
   "outputs": [],
   "source": [
    "# 여기에 답안코드를 작성하세요.\n",
    "df5.drop(columns=['voc_mis_pbls_yn'], inplace=True)"
   ]
  },
  {
   "cell_type": "markdown",
   "metadata": {},
   "source": [
    "## **<span style=\"color:black\">5. 라벨 인코딩, 원핫 인코딩</span>**"
   ]
  },
  {
   "cell_type": "markdown",
   "metadata": {},
   "source": [
    "<br>\n",
    "<font color=blue>5-1. df5에 대해 object 타입 컬럼을 cat_cols에 저장하세요. 그 중 cat_cols의 cust_clas_itg_cd 컬럼에 대해 LabelEncoder를 적용해보세요. (적용 후 df5에 저장)</font>"
   ]
  },
  {
   "cell_type": "code",
   "execution_count": 207,
   "metadata": {
    "tags": []
   },
   "outputs": [],
   "source": [
    "# 여기에 답안코드를 작성하세요.\n",
    "from sklearn.preprocessing import LabelEncoder\n",
    "\n",
    "cat_cols = df5.select_dtypes(include='object')\n",
    "label_encoder = LabelEncoder()\n",
    "df5['cust_clas_itg_cd'] = label_encoder.fit_transform(cat_cols['cust_clas_itg_cd'])"
   ]
  },
  {
   "cell_type": "markdown",
   "metadata": {},
   "source": [
    "<br>\n",
    "<font color=blue>5-2. df5의 나머지 object 컬럼에 대해서 One-Hot-Encoding될수 있도록 Pandas의 get_dummies 함수를 적용하세요. (적용 후 df6에 저장)</font>"
   ]
  },
  {
   "cell_type": "code",
   "execution_count": 208,
   "metadata": {
    "tags": []
   },
   "outputs": [],
   "source": [
    "# 여기에 답안코드를 작성하세요.\n",
    "# cust_clas_itg_cd컬럼을 제외한 나머지 컬럼\n",
    "cat_cols_del = cat_cols.drop(columns=['cust_clas_itg_cd'])\n",
    "df6 = pd.get_dummies(data=df5, columns=cat_cols_del.columns, drop_first=True)"
   ]
  },
  {
   "cell_type": "markdown",
   "metadata": {},
   "source": [
    "## **<span style=\"color:black\">6. x,y 데이터 분리</span>**"
   ]
  },
  {
   "cell_type": "markdown",
   "metadata": {},
   "source": [
    "<br>\n",
    "<font color=blue>6-1. df6에 대해 X, y 값을 가지고 8:2 비율로 Train , Test Dataset으로 나누세요. (y 클래스 비율에 맞게 분리, y 값은 'trm_yn_Y' 컬럼, random_state는 42)</font>"
   ]
  },
  {
   "cell_type": "code",
   "execution_count": 209,
   "metadata": {
    "tags": []
   },
   "outputs": [],
   "source": [
    "# 여기에 답안코드를 작성하세요.\n",
    "from sklearn.model_selection import train_test_split\n",
    "\n",
    "target = 'trm_yn_Y'\n",
    "X = df6.drop(target, axis = 1)\n",
    "y = df6.loc[:, target]\n",
    "\n",
    "X_train, X_test, y_train, y_test = train_test_split(X, y, test_size=0.2, random_state=42)"
   ]
  },
  {
   "cell_type": "markdown",
   "metadata": {},
   "source": [
    "<br>"
   ]
  },
  {
   "cell_type": "markdown",
   "metadata": {},
   "source": [
    "## **<span style=\"color:black\">7. 데이터 정규분포화, 표준화</span>**"
   ]
  },
  {
   "cell_type": "markdown",
   "metadata": {},
   "source": [
    "<br>\n",
    "<font color=blue>7-1. 사이킷런의 StandardScaler로 훈련데이터셋은 정규분포화(fit_transform)하고 테스트 데이터셋은 표준화(transform)하세요.</font>"
   ]
  },
  {
   "cell_type": "code",
   "execution_count": 210,
   "metadata": {
    "tags": []
   },
   "outputs": [],
   "source": [
    "# 여기에 답안코드를 작성하세요.\n",
    "from sklearn.preprocessing import StandardScaler\n",
    "\n",
    "scaler = StandardScaler()\n",
    "\n",
    "x_train = scaler.fit_transform(x_train)\n",
    "x_test = scaler.transform(x_test)"
   ]
  },
  {
   "cell_type": "markdown",
   "metadata": {},
   "source": [
    "## **<span style=\"color:black\">8. 머신러닝 모델링 & 모델 성능평가 및 그래프 출력</span>**"
   ]
  },
  {
   "cell_type": "markdown",
   "metadata": {},
   "source": [
    "### 로지스틱 회귀 (LogisticRegression, 분류)"
   ]
  },
  {
   "cell_type": "markdown",
   "metadata": {},
   "source": [
    "<br>\n",
    "<font color=blue>8-1. LogisticRegression 모델을 만들고 학습을 진행하세요 (단, 규제강도C는 10으로 설정, 계산에 사용할 작업수 max_iter는 2000으로 설정하세요)</font>"
   ]
  },
  {
   "cell_type": "code",
   "execution_count": 211,
   "metadata": {
    "tags": []
   },
   "outputs": [
    {
     "data": {
      "text/html": [
       "<style>#sk-container-id-8 {color: black;}#sk-container-id-8 pre{padding: 0;}#sk-container-id-8 div.sk-toggleable {background-color: white;}#sk-container-id-8 label.sk-toggleable__label {cursor: pointer;display: block;width: 100%;margin-bottom: 0;padding: 0.3em;box-sizing: border-box;text-align: center;}#sk-container-id-8 label.sk-toggleable__label-arrow:before {content: \"▸\";float: left;margin-right: 0.25em;color: #696969;}#sk-container-id-8 label.sk-toggleable__label-arrow:hover:before {color: black;}#sk-container-id-8 div.sk-estimator:hover label.sk-toggleable__label-arrow:before {color: black;}#sk-container-id-8 div.sk-toggleable__content {max-height: 0;max-width: 0;overflow: hidden;text-align: left;background-color: #f0f8ff;}#sk-container-id-8 div.sk-toggleable__content pre {margin: 0.2em;color: black;border-radius: 0.25em;background-color: #f0f8ff;}#sk-container-id-8 input.sk-toggleable__control:checked~div.sk-toggleable__content {max-height: 200px;max-width: 100%;overflow: auto;}#sk-container-id-8 input.sk-toggleable__control:checked~label.sk-toggleable__label-arrow:before {content: \"▾\";}#sk-container-id-8 div.sk-estimator input.sk-toggleable__control:checked~label.sk-toggleable__label {background-color: #d4ebff;}#sk-container-id-8 div.sk-label input.sk-toggleable__control:checked~label.sk-toggleable__label {background-color: #d4ebff;}#sk-container-id-8 input.sk-hidden--visually {border: 0;clip: rect(1px 1px 1px 1px);clip: rect(1px, 1px, 1px, 1px);height: 1px;margin: -1px;overflow: hidden;padding: 0;position: absolute;width: 1px;}#sk-container-id-8 div.sk-estimator {font-family: monospace;background-color: #f0f8ff;border: 1px dotted black;border-radius: 0.25em;box-sizing: border-box;margin-bottom: 0.5em;}#sk-container-id-8 div.sk-estimator:hover {background-color: #d4ebff;}#sk-container-id-8 div.sk-parallel-item::after {content: \"\";width: 100%;border-bottom: 1px solid gray;flex-grow: 1;}#sk-container-id-8 div.sk-label:hover label.sk-toggleable__label {background-color: #d4ebff;}#sk-container-id-8 div.sk-serial::before {content: \"\";position: absolute;border-left: 1px solid gray;box-sizing: border-box;top: 0;bottom: 0;left: 50%;z-index: 0;}#sk-container-id-8 div.sk-serial {display: flex;flex-direction: column;align-items: center;background-color: white;padding-right: 0.2em;padding-left: 0.2em;position: relative;}#sk-container-id-8 div.sk-item {position: relative;z-index: 1;}#sk-container-id-8 div.sk-parallel {display: flex;align-items: stretch;justify-content: center;background-color: white;position: relative;}#sk-container-id-8 div.sk-item::before, #sk-container-id-8 div.sk-parallel-item::before {content: \"\";position: absolute;border-left: 1px solid gray;box-sizing: border-box;top: 0;bottom: 0;left: 50%;z-index: -1;}#sk-container-id-8 div.sk-parallel-item {display: flex;flex-direction: column;z-index: 1;position: relative;background-color: white;}#sk-container-id-8 div.sk-parallel-item:first-child::after {align-self: flex-end;width: 50%;}#sk-container-id-8 div.sk-parallel-item:last-child::after {align-self: flex-start;width: 50%;}#sk-container-id-8 div.sk-parallel-item:only-child::after {width: 0;}#sk-container-id-8 div.sk-dashed-wrapped {border: 1px dashed gray;margin: 0 0.4em 0.5em 0.4em;box-sizing: border-box;padding-bottom: 0.4em;background-color: white;}#sk-container-id-8 div.sk-label label {font-family: monospace;font-weight: bold;display: inline-block;line-height: 1.2em;}#sk-container-id-8 div.sk-label-container {text-align: center;}#sk-container-id-8 div.sk-container {/* jupyter's `normalize.less` sets `[hidden] { display: none; }` but bootstrap.min.css set `[hidden] { display: none !important; }` so we also need the `!important` here to be able to override the default hidden behavior on the sphinx rendered scikit-learn.org. See: https://github.com/scikit-learn/scikit-learn/issues/21755 */display: inline-block !important;position: relative;}#sk-container-id-8 div.sk-text-repr-fallback {display: none;}</style><div id=\"sk-container-id-8\" class=\"sk-top-container\"><div class=\"sk-text-repr-fallback\"><pre>LogisticRegression(C=10, max_iter=2000)</pre><b>In a Jupyter environment, please rerun this cell to show the HTML representation or trust the notebook. <br />On GitHub, the HTML representation is unable to render, please try loading this page with nbviewer.org.</b></div><div class=\"sk-container\" hidden><div class=\"sk-item\"><div class=\"sk-estimator sk-toggleable\"><input class=\"sk-toggleable__control sk-hidden--visually\" id=\"sk-estimator-id-8\" type=\"checkbox\" checked><label for=\"sk-estimator-id-8\" class=\"sk-toggleable__label sk-toggleable__label-arrow\">LogisticRegression</label><div class=\"sk-toggleable__content\"><pre>LogisticRegression(C=10, max_iter=2000)</pre></div></div></div></div></div>"
      ],
      "text/plain": [
       "LogisticRegression(C=10, max_iter=2000)"
      ]
     },
     "execution_count": 211,
     "metadata": {},
     "output_type": "execute_result"
    }
   ],
   "source": [
    "# 여기에 답안코드를 작성하세요.\n",
    "from sklearn.linear_model import LogisticRegression\n",
    "\n",
    "model_lr = LogisticRegression(C=10, max_iter=2000)\n",
    "model_lr.fit(x_train, y_train)"
   ]
  },
  {
   "cell_type": "markdown",
   "metadata": {},
   "source": [
    "<br>\n",
    "<font color=blue>8-2. 위 모델의 성능을 평가하려고 합니다. y값을 예측하여 confusion matrix를 구하고 heatmap 그래프로 시각화하세요. 그리고 Scikit-learn의 classification_report를 활용하여 성능을 출력하세요.</font>"
   ]
  },
  {
   "cell_type": "code",
   "execution_count": 220,
   "metadata": {
    "tags": []
   },
   "outputs": [
    {
     "name": "stdout",
     "output_type": "stream",
     "text": [
      "===confusion_matrix===\n",
      "[[1956    0]\n",
      " [  44    0]]\n",
      "========================\n",
      "              precision    recall  f1-score   support\n",
      "\n",
      "       False       0.98      1.00      0.99      1956\n",
      "        True       0.00      0.00      0.00        44\n",
      "\n",
      "    accuracy                           0.98      2000\n",
      "   macro avg       0.49      0.50      0.49      2000\n",
      "weighted avg       0.96      0.98      0.97      2000\n",
      "\n"
     ]
    },
    {
     "data": {
      "image/png": "[encoded data removed]",
      "text/plain": [
       "<Figure size 600x400 with 2 Axes>"
      ]
     },
     "metadata": {},
     "output_type": "display_data"
    }
   ],
   "source": [
    "# 여기에 답안코드를 작성하세요.\n",
    "from sklearn.metrics import confusion_matrix, classification_report\n",
    "import matplotlib.pylab as plt\n",
    "\n",
    "y_pred = model_lr.predict(x_test)\n",
    "cm = confusion_matrix(y_test, y_pred)\n",
    "print(\"===confusion_matrix===\")\n",
    "print(cm)\n",
    "print(\"========================\")\n",
    "print(classification_report(y_test, y_pred))\n",
    "plt.figure(figsize=(6,4))\n",
    "sns.heatmap(cm, annot=True)\n",
    "plt.show()"
   ]
  },
  {
   "cell_type": "markdown",
   "metadata": {},
   "source": [
    "<br>\n",
    "<font color=blue>8-3. DecisionTree 모델을 만들고 학습을 진행하세요. (단, max_depth는 10, random_state는 42로 설정)</font>"
   ]
  },
  {
   "cell_type": "code",
   "execution_count": 221,
   "metadata": {
    "tags": []
   },
   "outputs": [
    {
     "data": {
      "text/html": [
       "<style>#sk-container-id-9 {color: black;}#sk-container-id-9 pre{padding: 0;}#sk-container-id-9 div.sk-toggleable {background-color: white;}#sk-container-id-9 label.sk-toggleable__label {cursor: pointer;display: block;width: 100%;margin-bottom: 0;padding: 0.3em;box-sizing: border-box;text-align: center;}#sk-container-id-9 label.sk-toggleable__label-arrow:before {content: \"▸\";float: left;margin-right: 0.25em;color: #696969;}#sk-container-id-9 label.sk-toggleable__label-arrow:hover:before {color: black;}#sk-container-id-9 div.sk-estimator:hover label.sk-toggleable__label-arrow:before {color: black;}#sk-container-id-9 div.sk-toggleable__content {max-height: 0;max-width: 0;overflow: hidden;text-align: left;background-color: #f0f8ff;}#sk-container-id-9 div.sk-toggleable__content pre {margin: 0.2em;color: black;border-radius: 0.25em;background-color: #f0f8ff;}#sk-container-id-9 input.sk-toggleable__control:checked~div.sk-toggleable__content {max-height: 200px;max-width: 100%;overflow: auto;}#sk-container-id-9 input.sk-toggleable__control:checked~label.sk-toggleable__label-arrow:before {content: \"▾\";}#sk-container-id-9 div.sk-estimator input.sk-toggleable__control:checked~label.sk-toggleable__label {background-color: #d4ebff;}#sk-container-id-9 div.sk-label input.sk-toggleable__control:checked~label.sk-toggleable__label {background-color: #d4ebff;}#sk-container-id-9 input.sk-hidden--visually {border: 0;clip: rect(1px 1px 1px 1px);clip: rect(1px, 1px, 1px, 1px);height: 1px;margin: -1px;overflow: hidden;padding: 0;position: absolute;width: 1px;}#sk-container-id-9 div.sk-estimator {font-family: monospace;background-color: #f0f8ff;border: 1px dotted black;border-radius: 0.25em;box-sizing: border-box;margin-bottom: 0.5em;}#sk-container-id-9 div.sk-estimator:hover {background-color: #d4ebff;}#sk-container-id-9 div.sk-parallel-item::after {content: \"\";width: 100%;border-bottom: 1px solid gray;flex-grow: 1;}#sk-container-id-9 div.sk-label:hover label.sk-toggleable__label {background-color: #d4ebff;}#sk-container-id-9 div.sk-serial::before {content: \"\";position: absolute;border-left: 1px solid gray;box-sizing: border-box;top: 0;bottom: 0;left: 50%;z-index: 0;}#sk-container-id-9 div.sk-serial {display: flex;flex-direction: column;align-items: center;background-color: white;padding-right: 0.2em;padding-left: 0.2em;position: relative;}#sk-container-id-9 div.sk-item {position: relative;z-index: 1;}#sk-container-id-9 div.sk-parallel {display: flex;align-items: stretch;justify-content: center;background-color: white;position: relative;}#sk-container-id-9 div.sk-item::before, #sk-container-id-9 div.sk-parallel-item::before {content: \"\";position: absolute;border-left: 1px solid gray;box-sizing: border-box;top: 0;bottom: 0;left: 50%;z-index: -1;}#sk-container-id-9 div.sk-parallel-item {display: flex;flex-direction: column;z-index: 1;position: relative;background-color: white;}#sk-container-id-9 div.sk-parallel-item:first-child::after {align-self: flex-end;width: 50%;}#sk-container-id-9 div.sk-parallel-item:last-child::after {align-self: flex-start;width: 50%;}#sk-container-id-9 div.sk-parallel-item:only-child::after {width: 0;}#sk-container-id-9 div.sk-dashed-wrapped {border: 1px dashed gray;margin: 0 0.4em 0.5em 0.4em;box-sizing: border-box;padding-bottom: 0.4em;background-color: white;}#sk-container-id-9 div.sk-label label {font-family: monospace;font-weight: bold;display: inline-block;line-height: 1.2em;}#sk-container-id-9 div.sk-label-container {text-align: center;}#sk-container-id-9 div.sk-container {/* jupyter's `normalize.less` sets `[hidden] { display: none; }` but bootstrap.min.css set `[hidden] { display: none !important; }` so we also need the `!important` here to be able to override the default hidden behavior on the sphinx rendered scikit-learn.org. See: https://github.com/scikit-learn/scikit-learn/issues/21755 */display: inline-block !important;position: relative;}#sk-container-id-9 div.sk-text-repr-fallback {display: none;}</style><div id=\"sk-container-id-9\" class=\"sk-top-container\"><div class=\"sk-text-repr-fallback\"><pre>DecisionTreeClassifier(max_depth=10, random_state=42)</pre><b>In a Jupyter environment, please rerun this cell to show the HTML representation or trust the notebook. <br />On GitHub, the HTML representation is unable to render, please try loading this page with nbviewer.org.</b></div><div class=\"sk-container\" hidden><div class=\"sk-item\"><div class=\"sk-estimator sk-toggleable\"><input class=\"sk-toggleable__control sk-hidden--visually\" id=\"sk-estimator-id-9\" type=\"checkbox\" checked><label for=\"sk-estimator-id-9\" class=\"sk-toggleable__label sk-toggleable__label-arrow\">DecisionTreeClassifier</label><div class=\"sk-toggleable__content\"><pre>DecisionTreeClassifier(max_depth=10, random_state=42)</pre></div></div></div></div></div>"
      ],
      "text/plain": [
       "DecisionTreeClassifier(max_depth=10, random_state=42)"
      ]
     },
     "execution_count": 221,
     "metadata": {},
     "output_type": "execute_result"
    }
   ],
   "source": [
    "# 여기에 답안코드를 작성하세요.\n",
    "from sklearn.tree import DecisionTreeClassifier\n",
    "model_dt = DecisionTreeClassifier(max_depth=10, random_state=42)\n",
    "model_dt.fit(x_train, y_train)"
   ]
  },
  {
   "cell_type": "markdown",
   "metadata": {},
   "source": [
    "<br>\n",
    "<font color=blue>8-4. RandomForest 모델을 만들고 학습을 진행하세요. (단, n_estimators=100, random_state=42 설정)</font>"
   ]
  },
  {
   "cell_type": "code",
   "execution_count": 223,
   "metadata": {
    "tags": []
   },
   "outputs": [
    {
     "data": {
      "text/html": [
       "<style>#sk-container-id-10 {color: black;}#sk-container-id-10 pre{padding: 0;}#sk-container-id-10 div.sk-toggleable {background-color: white;}#sk-container-id-10 label.sk-toggleable__label {cursor: pointer;display: block;width: 100%;margin-bottom: 0;padding: 0.3em;box-sizing: border-box;text-align: center;}#sk-container-id-10 label.sk-toggleable__label-arrow:before {content: \"▸\";float: left;margin-right: 0.25em;color: #696969;}#sk-container-id-10 label.sk-toggleable__label-arrow:hover:before {color: black;}#sk-container-id-10 div.sk-estimator:hover label.sk-toggleable__label-arrow:before {color: black;}#sk-container-id-10 div.sk-toggleable__content {max-height: 0;max-width: 0;overflow: hidden;text-align: left;background-color: #f0f8ff;}#sk-container-id-10 div.sk-toggleable__content pre {margin: 0.2em;color: black;border-radius: 0.25em;background-color: #f0f8ff;}#sk-container-id-10 input.sk-toggleable__control:checked~div.sk-toggleable__content {max-height: 200px;max-width: 100%;overflow: auto;}#sk-container-id-10 input.sk-toggleable__control:checked~label.sk-toggleable__label-arrow:before {content: \"▾\";}#sk-container-id-10 div.sk-estimator input.sk-toggleable__control:checked~label.sk-toggleable__label {background-color: #d4ebff;}#sk-container-id-10 div.sk-label input.sk-toggleable__control:checked~label.sk-toggleable__label {background-color: #d4ebff;}#sk-container-id-10 input.sk-hidden--visually {border: 0;clip: rect(1px 1px 1px 1px);clip: rect(1px, 1px, 1px, 1px);height: 1px;margin: -1px;overflow: hidden;padding: 0;position: absolute;width: 1px;}#sk-container-id-10 div.sk-estimator {font-family: monospace;background-color: #f0f8ff;border: 1px dotted black;border-radius: 0.25em;box-sizing: border-box;margin-bottom: 0.5em;}#sk-container-id-10 div.sk-estimator:hover {background-color: #d4ebff;}#sk-container-id-10 div.sk-parallel-item::after {content: \"\";width: 100%;border-bottom: 1px solid gray;flex-grow: 1;}#sk-container-id-10 div.sk-label:hover label.sk-toggleable__label {background-color: #d4ebff;}#sk-container-id-10 div.sk-serial::before {content: \"\";position: absolute;border-left: 1px solid gray;box-sizing: border-box;top: 0;bottom: 0;left: 50%;z-index: 0;}#sk-container-id-10 div.sk-serial {display: flex;flex-direction: column;align-items: center;background-color: white;padding-right: 0.2em;padding-left: 0.2em;position: relative;}#sk-container-id-10 div.sk-item {position: relative;z-index: 1;}#sk-container-id-10 div.sk-parallel {display: flex;align-items: stretch;justify-content: center;background-color: white;position: relative;}#sk-container-id-10 div.sk-item::before, #sk-container-id-10 div.sk-parallel-item::before {content: \"\";position: absolute;border-left: 1px solid gray;box-sizing: border-box;top: 0;bottom: 0;left: 50%;z-index: -1;}#sk-container-id-10 div.sk-parallel-item {display: flex;flex-direction: column;z-index: 1;position: relative;background-color: white;}#sk-container-id-10 div.sk-parallel-item:first-child::after {align-self: flex-end;width: 50%;}#sk-container-id-10 div.sk-parallel-item:last-child::after {align-self: flex-start;width: 50%;}#sk-container-id-10 div.sk-parallel-item:only-child::after {width: 0;}#sk-container-id-10 div.sk-dashed-wrapped {border: 1px dashed gray;margin: 0 0.4em 0.5em 0.4em;box-sizing: border-box;padding-bottom: 0.4em;background-color: white;}#sk-container-id-10 div.sk-label label {font-family: monospace;font-weight: bold;display: inline-block;line-height: 1.2em;}#sk-container-id-10 div.sk-label-container {text-align: center;}#sk-container-id-10 div.sk-container {/* jupyter's `normalize.less` sets `[hidden] { display: none; }` but bootstrap.min.css set `[hidden] { display: none !important; }` so we also need the `!important` here to be able to override the default hidden behavior on the sphinx rendered scikit-learn.org. See: https://github.com/scikit-learn/scikit-learn/issues/21755 */display: inline-block !important;position: relative;}#sk-container-id-10 div.sk-text-repr-fallback {display: none;}</style><div id=\"sk-container-id-10\" class=\"sk-top-container\"><div class=\"sk-text-repr-fallback\"><pre>RandomForestClassifier(random_state=42)</pre><b>In a Jupyter environment, please rerun this cell to show the HTML representation or trust the notebook. <br />On GitHub, the HTML representation is unable to render, please try loading this page with nbviewer.org.</b></div><div class=\"sk-container\" hidden><div class=\"sk-item\"><div class=\"sk-estimator sk-toggleable\"><input class=\"sk-toggleable__control sk-hidden--visually\" id=\"sk-estimator-id-10\" type=\"checkbox\" checked><label for=\"sk-estimator-id-10\" class=\"sk-toggleable__label sk-toggleable__label-arrow\">RandomForestClassifier</label><div class=\"sk-toggleable__content\"><pre>RandomForestClassifier(random_state=42)</pre></div></div></div></div></div>"
      ],
      "text/plain": [
       "RandomForestClassifier(random_state=42)"
      ]
     },
     "execution_count": 223,
     "metadata": {},
     "output_type": "execute_result"
    }
   ],
   "source": [
    "# 여기에 답안코드를 작성하세요.\n",
    "from sklearn.ensemble import RandomForestClassifier\n",
    "\n",
    "model_rf = RandomForestClassifier(n_estimators=100, random_state=42)\n",
    "model_rf.fit(x_train, y_train)"
   ]
  },
  {
   "cell_type": "markdown",
   "metadata": {},
   "source": [
    "<br>\n",
    "<font color=blue>8-5. XGBoost 모델을 만들고 학습을 진행하세요. (단, n_estimators=5 설정)</font>"
   ]
  },
  {
   "cell_type": "code",
   "execution_count": 224,
   "metadata": {
    "tags": []
   },
   "outputs": [
    {
     "data": {
      "text/html": [
       "<style>#sk-container-id-11 {color: black;}#sk-container-id-11 pre{padding: 0;}#sk-container-id-11 div.sk-toggleable {background-color: white;}#sk-container-id-11 label.sk-toggleable__label {cursor: pointer;display: block;width: 100%;margin-bottom: 0;padding: 0.3em;box-sizing: border-box;text-align: center;}#sk-container-id-11 label.sk-toggleable__label-arrow:before {content: \"▸\";float: left;margin-right: 0.25em;color: #696969;}#sk-container-id-11 label.sk-toggleable__label-arrow:hover:before {color: black;}#sk-container-id-11 div.sk-estimator:hover label.sk-toggleable__label-arrow:before {color: black;}#sk-container-id-11 div.sk-toggleable__content {max-height: 0;max-width: 0;overflow: hidden;text-align: left;background-color: #f0f8ff;}#sk-container-id-11 div.sk-toggleable__content pre {margin: 0.2em;color: black;border-radius: 0.25em;background-color: #f0f8ff;}#sk-container-id-11 input.sk-toggleable__control:checked~div.sk-toggleable__content {max-height: 200px;max-width: 100%;overflow: auto;}#sk-container-id-11 input.sk-toggleable__control:checked~label.sk-toggleable__label-arrow:before {content: \"▾\";}#sk-container-id-11 div.sk-estimator input.sk-toggleable__control:checked~label.sk-toggleable__label {background-color: #d4ebff;}#sk-container-id-11 div.sk-label input.sk-toggleable__control:checked~label.sk-toggleable__label {background-color: #d4ebff;}#sk-container-id-11 input.sk-hidden--visually {border: 0;clip: rect(1px 1px 1px 1px);clip: rect(1px, 1px, 1px, 1px);height: 1px;margin: -1px;overflow: hidden;padding: 0;position: absolute;width: 1px;}#sk-container-id-11 div.sk-estimator {font-family: monospace;background-color: #f0f8ff;border: 1px dotted black;border-radius: 0.25em;box-sizing: border-box;margin-bottom: 0.5em;}#sk-container-id-11 div.sk-estimator:hover {background-color: #d4ebff;}#sk-container-id-11 div.sk-parallel-item::after {content: \"\";width: 100%;border-bottom: 1px solid gray;flex-grow: 1;}#sk-container-id-11 div.sk-label:hover label.sk-toggleable__label {background-color: #d4ebff;}#sk-container-id-11 div.sk-serial::before {content: \"\";position: absolute;border-left: 1px solid gray;box-sizing: border-box;top: 0;bottom: 0;left: 50%;z-index: 0;}#sk-container-id-11 div.sk-serial {display: flex;flex-direction: column;align-items: center;background-color: white;padding-right: 0.2em;padding-left: 0.2em;position: relative;}#sk-container-id-11 div.sk-item {position: relative;z-index: 1;}#sk-container-id-11 div.sk-parallel {display: flex;align-items: stretch;justify-content: center;background-color: white;position: relative;}#sk-container-id-11 div.sk-item::before, #sk-container-id-11 div.sk-parallel-item::before {content: \"\";position: absolute;border-left: 1px solid gray;box-sizing: border-box;top: 0;bottom: 0;left: 50%;z-index: -1;}#sk-container-id-11 div.sk-parallel-item {display: flex;flex-direction: column;z-index: 1;position: relative;background-color: white;}#sk-container-id-11 div.sk-parallel-item:first-child::after {align-self: flex-end;width: 50%;}#sk-container-id-11 div.sk-parallel-item:last-child::after {align-self: flex-start;width: 50%;}#sk-container-id-11 div.sk-parallel-item:only-child::after {width: 0;}#sk-container-id-11 div.sk-dashed-wrapped {border: 1px dashed gray;margin: 0 0.4em 0.5em 0.4em;box-sizing: border-box;padding-bottom: 0.4em;background-color: white;}#sk-container-id-11 div.sk-label label {font-family: monospace;font-weight: bold;display: inline-block;line-height: 1.2em;}#sk-container-id-11 div.sk-label-container {text-align: center;}#sk-container-id-11 div.sk-container {/* jupyter's `normalize.less` sets `[hidden] { display: none; }` but bootstrap.min.css set `[hidden] { display: none !important; }` so we also need the `!important` here to be able to override the default hidden behavior on the sphinx rendered scikit-learn.org. See: https://github.com/scikit-learn/scikit-learn/issues/21755 */display: inline-block !important;position: relative;}#sk-container-id-11 div.sk-text-repr-fallback {display: none;}</style><div id=\"sk-container-id-11\" class=\"sk-top-container\"><div class=\"sk-text-repr-fallback\"><pre>XGBClassifier(base_score=None, booster=None, callbacks=None,\n",
       "              colsample_bylevel=None, colsample_bynode=None,\n",
       "              colsample_bytree=None, device=None, early_stopping_rounds=None,\n",
       "              enable_categorical=False, eval_metric=None, feature_types=None,\n",
       "              gamma=None, grow_policy=None, importance_type=None,\n",
       "              interaction_constraints=None, learning_rate=None, max_bin=None,\n",
       "              max_cat_threshold=None, max_cat_to_onehot=None,\n",
       "              max_delta_step=None, max_depth=None, max_leaves=None,\n",
       "              min_child_weight=None, missing=nan, monotone_constraints=None,\n",
       "              multi_strategy=None, n_estimators=5, n_jobs=None,\n",
       "              num_parallel_tree=None, random_state=None, ...)</pre><b>In a Jupyter environment, please rerun this cell to show the HTML representation or trust the notebook. <br />On GitHub, the HTML representation is unable to render, please try loading this page with nbviewer.org.</b></div><div class=\"sk-container\" hidden><div class=\"sk-item\"><div class=\"sk-estimator sk-toggleable\"><input class=\"sk-toggleable__control sk-hidden--visually\" id=\"sk-estimator-id-11\" type=\"checkbox\" checked><label for=\"sk-estimator-id-11\" class=\"sk-toggleable__label sk-toggleable__label-arrow\">XGBClassifier</label><div class=\"sk-toggleable__content\"><pre>XGBClassifier(base_score=None, booster=None, callbacks=None,\n",
       "              colsample_bylevel=None, colsample_bynode=None,\n",
       "              colsample_bytree=None, device=None, early_stopping_rounds=None,\n",
       "              enable_categorical=False, eval_metric=None, feature_types=None,\n",
       "              gamma=None, grow_policy=None, importance_type=None,\n",
       "              interaction_constraints=None, learning_rate=None, max_bin=None,\n",
       "              max_cat_threshold=None, max_cat_to_onehot=None,\n",
       "              max_delta_step=None, max_depth=None, max_leaves=None,\n",
       "              min_child_weight=None, missing=nan, monotone_constraints=None,\n",
       "              multi_strategy=None, n_estimators=5, n_jobs=None,\n",
       "              num_parallel_tree=None, random_state=None, ...)</pre></div></div></div></div></div>"
      ],
      "text/plain": [
       "XGBClassifier(base_score=None, booster=None, callbacks=None,\n",
       "              colsample_bylevel=None, colsample_bynode=None,\n",
       "              colsample_bytree=None, device=None, early_stopping_rounds=None,\n",
       "              enable_categorical=False, eval_metric=None, feature_types=None,\n",
       "              gamma=None, grow_policy=None, importance_type=None,\n",
       "              interaction_constraints=None, learning_rate=None, max_bin=None,\n",
       "              max_cat_threshold=None, max_cat_to_onehot=None,\n",
       "              max_delta_step=None, max_depth=None, max_leaves=None,\n",
       "              min_child_weight=None, missing=nan, monotone_constraints=None,\n",
       "              multi_strategy=None, n_estimators=5, n_jobs=None,\n",
       "              num_parallel_tree=None, random_state=None, ...)"
      ]
     },
     "execution_count": 224,
     "metadata": {},
     "output_type": "execute_result"
    }
   ],
   "source": [
    "# 여기에 답안코드를 작성하세요.\n",
    "from xgboost import XGBClassifier\n",
    "\n",
    "model_xgb = XGBClassifier(n_estimators=5)\n",
    "model_xgb.fit(x_train, y_train)"
   ]
  },
  {
   "cell_type": "markdown",
   "metadata": {},
   "source": [
    "<br>\n",
    "<font color=blue>8-6. Light GBM 모델을 만들고 학습을 진행하세요. (단, n_estimators=3 설정)</font>"
   ]
  },
  {
   "cell_type": "code",
   "execution_count": 225,
   "metadata": {
    "tags": []
   },
   "outputs": [
    {
     "name": "stdout",
     "output_type": "stream",
     "text": [
      "[LightGBM] [Info] Number of positive: 180, number of negative: 7820\n",
      "[LightGBM] [Info] Auto-choosing row-wise multi-threading, the overhead of testing was 0.000832 seconds.\n",
      "You can set `force_row_wise=true` to remove the overhead.\n",
      "And if memory is not enough, you can set `force_col_wise=true`.\n",
      "[LightGBM] [Info] Total Bins 801\n",
      "[LightGBM] [Info] Number of data points in the train set: 8000, number of used features: 26\n",
      "[LightGBM] [Info] [binary:BoostFromScore]: pavg=0.022500 -> initscore=-3.771483\n",
      "[LightGBM] [Info] Start training from score -3.771483\n"
     ]
    },
    {
     "data": {
      "text/html": [
       "<style>#sk-container-id-12 {color: black;}#sk-container-id-12 pre{padding: 0;}#sk-container-id-12 div.sk-toggleable {background-color: white;}#sk-container-id-12 label.sk-toggleable__label {cursor: pointer;display: block;width: 100%;margin-bottom: 0;padding: 0.3em;box-sizing: border-box;text-align: center;}#sk-container-id-12 label.sk-toggleable__label-arrow:before {content: \"▸\";float: left;margin-right: 0.25em;color: #696969;}#sk-container-id-12 label.sk-toggleable__label-arrow:hover:before {color: black;}#sk-container-id-12 div.sk-estimator:hover label.sk-toggleable__label-arrow:before {color: black;}#sk-container-id-12 div.sk-toggleable__content {max-height: 0;max-width: 0;overflow: hidden;text-align: left;background-color: #f0f8ff;}#sk-container-id-12 div.sk-toggleable__content pre {margin: 0.2em;color: black;border-radius: 0.25em;background-color: #f0f8ff;}#sk-container-id-12 input.sk-toggleable__control:checked~div.sk-toggleable__content {max-height: 200px;max-width: 100%;overflow: auto;}#sk-container-id-12 input.sk-toggleable__control:checked~label.sk-toggleable__label-arrow:before {content: \"▾\";}#sk-container-id-12 div.sk-estimator input.sk-toggleable__control:checked~label.sk-toggleable__label {background-color: #d4ebff;}#sk-container-id-12 div.sk-label input.sk-toggleable__control:checked~label.sk-toggleable__label {background-color: #d4ebff;}#sk-container-id-12 input.sk-hidden--visually {border: 0;clip: rect(1px 1px 1px 1px);clip: rect(1px, 1px, 1px, 1px);height: 1px;margin: -1px;overflow: hidden;padding: 0;position: absolute;width: 1px;}#sk-container-id-12 div.sk-estimator {font-family: monospace;background-color: #f0f8ff;border: 1px dotted black;border-radius: 0.25em;box-sizing: border-box;margin-bottom: 0.5em;}#sk-container-id-12 div.sk-estimator:hover {background-color: #d4ebff;}#sk-container-id-12 div.sk-parallel-item::after {content: \"\";width: 100%;border-bottom: 1px solid gray;flex-grow: 1;}#sk-container-id-12 div.sk-label:hover label.sk-toggleable__label {background-color: #d4ebff;}#sk-container-id-12 div.sk-serial::before {content: \"\";position: absolute;border-left: 1px solid gray;box-sizing: border-box;top: 0;bottom: 0;left: 50%;z-index: 0;}#sk-container-id-12 div.sk-serial {display: flex;flex-direction: column;align-items: center;background-color: white;padding-right: 0.2em;padding-left: 0.2em;position: relative;}#sk-container-id-12 div.sk-item {position: relative;z-index: 1;}#sk-container-id-12 div.sk-parallel {display: flex;align-items: stretch;justify-content: center;background-color: white;position: relative;}#sk-container-id-12 div.sk-item::before, #sk-container-id-12 div.sk-parallel-item::before {content: \"\";position: absolute;border-left: 1px solid gray;box-sizing: border-box;top: 0;bottom: 0;left: 50%;z-index: -1;}#sk-container-id-12 div.sk-parallel-item {display: flex;flex-direction: column;z-index: 1;position: relative;background-color: white;}#sk-container-id-12 div.sk-parallel-item:first-child::after {align-self: flex-end;width: 50%;}#sk-container-id-12 div.sk-parallel-item:last-child::after {align-self: flex-start;width: 50%;}#sk-container-id-12 div.sk-parallel-item:only-child::after {width: 0;}#sk-container-id-12 div.sk-dashed-wrapped {border: 1px dashed gray;margin: 0 0.4em 0.5em 0.4em;box-sizing: border-box;padding-bottom: 0.4em;background-color: white;}#sk-container-id-12 div.sk-label label {font-family: monospace;font-weight: bold;display: inline-block;line-height: 1.2em;}#sk-container-id-12 div.sk-label-container {text-align: center;}#sk-container-id-12 div.sk-container {/* jupyter's `normalize.less` sets `[hidden] { display: none; }` but bootstrap.min.css set `[hidden] { display: none !important; }` so we also need the `!important` here to be able to override the default hidden behavior on the sphinx rendered scikit-learn.org. See: https://github.com/scikit-learn/scikit-learn/issues/21755 */display: inline-block !important;position: relative;}#sk-container-id-12 div.sk-text-repr-fallback {display: none;}</style><div id=\"sk-container-id-12\" class=\"sk-top-container\"><div class=\"sk-text-repr-fallback\"><pre>LGBMClassifier(n_estimators=3)</pre><b>In a Jupyter environment, please rerun this cell to show the HTML representation or trust the notebook. <br />On GitHub, the HTML representation is unable to render, please try loading this page with nbviewer.org.</b></div><div class=\"sk-container\" hidden><div class=\"sk-item\"><div class=\"sk-estimator sk-toggleable\"><input class=\"sk-toggleable__control sk-hidden--visually\" id=\"sk-estimator-id-12\" type=\"checkbox\" checked><label for=\"sk-estimator-id-12\" class=\"sk-toggleable__label sk-toggleable__label-arrow\">LGBMClassifier</label><div class=\"sk-toggleable__content\"><pre>LGBMClassifier(n_estimators=3)</pre></div></div></div></div></div>"
      ],
      "text/plain": [
       "LGBMClassifier(n_estimators=3)"
      ]
     },
     "execution_count": 225,
     "metadata": {},
     "output_type": "execute_result"
    }
   ],
   "source": [
    "# 여기에 답안코드를 작성하세요.\n",
    "from lightgbm import LGBMClassifier\n",
    "\n",
    "model_lgbm = LGBMClassifier(n_estimators=3)\n",
    "model_lgbm.fit(x_train, y_train)"
   ]
  },
  {
   "cell_type": "markdown",
   "metadata": {},
   "source": [
    "<br>\n",
    "<font color=blue>8-7. Linear Regression 모델을 연습으로 만들고 학습을 진행하세요.</font>"
   ]
  },
  {
   "cell_type": "code",
   "execution_count": 226,
   "metadata": {
    "tags": []
   },
   "outputs": [],
   "source": [
    "# 이 데이터로 연습하세요.\n",
    "x_data = np.array([1.6, 2.3, 3.5, 4.6]).reshape(-1,1)\n",
    "y_data = np.array([3.3, 5.5, 7.2, 9.9])"
   ]
  },
  {
   "cell_type": "code",
   "execution_count": 227,
   "metadata": {
    "tags": []
   },
   "outputs": [
    {
     "data": {
      "text/html": [
       "<style>#sk-container-id-13 {color: black;}#sk-container-id-13 pre{padding: 0;}#sk-container-id-13 div.sk-toggleable {background-color: white;}#sk-container-id-13 label.sk-toggleable__label {cursor: pointer;display: block;width: 100%;margin-bottom: 0;padding: 0.3em;box-sizing: border-box;text-align: center;}#sk-container-id-13 label.sk-toggleable__label-arrow:before {content: \"▸\";float: left;margin-right: 0.25em;color: #696969;}#sk-container-id-13 label.sk-toggleable__label-arrow:hover:before {color: black;}#sk-container-id-13 div.sk-estimator:hover label.sk-toggleable__label-arrow:before {color: black;}#sk-container-id-13 div.sk-toggleable__content {max-height: 0;max-width: 0;overflow: hidden;text-align: left;background-color: #f0f8ff;}#sk-container-id-13 div.sk-toggleable__content pre {margin: 0.2em;color: black;border-radius: 0.25em;background-color: #f0f8ff;}#sk-container-id-13 input.sk-toggleable__control:checked~div.sk-toggleable__content {max-height: 200px;max-width: 100%;overflow: auto;}#sk-container-id-13 input.sk-toggleable__control:checked~label.sk-toggleable__label-arrow:before {content: \"▾\";}#sk-container-id-13 div.sk-estimator input.sk-toggleable__control:checked~label.sk-toggleable__label {background-color: #d4ebff;}#sk-container-id-13 div.sk-label input.sk-toggleable__control:checked~label.sk-toggleable__label {background-color: #d4ebff;}#sk-container-id-13 input.sk-hidden--visually {border: 0;clip: rect(1px 1px 1px 1px);clip: rect(1px, 1px, 1px, 1px);height: 1px;margin: -1px;overflow: hidden;padding: 0;position: absolute;width: 1px;}#sk-container-id-13 div.sk-estimator {font-family: monospace;background-color: #f0f8ff;border: 1px dotted black;border-radius: 0.25em;box-sizing: border-box;margin-bottom: 0.5em;}#sk-container-id-13 div.sk-estimator:hover {background-color: #d4ebff;}#sk-container-id-13 div.sk-parallel-item::after {content: \"\";width: 100%;border-bottom: 1px solid gray;flex-grow: 1;}#sk-container-id-13 div.sk-label:hover label.sk-toggleable__label {background-color: #d4ebff;}#sk-container-id-13 div.sk-serial::before {content: \"\";position: absolute;border-left: 1px solid gray;box-sizing: border-box;top: 0;bottom: 0;left: 50%;z-index: 0;}#sk-container-id-13 div.sk-serial {display: flex;flex-direction: column;align-items: center;background-color: white;padding-right: 0.2em;padding-left: 0.2em;position: relative;}#sk-container-id-13 div.sk-item {position: relative;z-index: 1;}#sk-container-id-13 div.sk-parallel {display: flex;align-items: stretch;justify-content: center;background-color: white;position: relative;}#sk-container-id-13 div.sk-item::before, #sk-container-id-13 div.sk-parallel-item::before {content: \"\";position: absolute;border-left: 1px solid gray;box-sizing: border-box;top: 0;bottom: 0;left: 50%;z-index: -1;}#sk-container-id-13 div.sk-parallel-item {display: flex;flex-direction: column;z-index: 1;position: relative;background-color: white;}#sk-container-id-13 div.sk-parallel-item:first-child::after {align-self: flex-end;width: 50%;}#sk-container-id-13 div.sk-parallel-item:last-child::after {align-self: flex-start;width: 50%;}#sk-container-id-13 div.sk-parallel-item:only-child::after {width: 0;}#sk-container-id-13 div.sk-dashed-wrapped {border: 1px dashed gray;margin: 0 0.4em 0.5em 0.4em;box-sizing: border-box;padding-bottom: 0.4em;background-color: white;}#sk-container-id-13 div.sk-label label {font-family: monospace;font-weight: bold;display: inline-block;line-height: 1.2em;}#sk-container-id-13 div.sk-label-container {text-align: center;}#sk-container-id-13 div.sk-container {/* jupyter's `normalize.less` sets `[hidden] { display: none; }` but bootstrap.min.css set `[hidden] { display: none !important; }` so we also need the `!important` here to be able to override the default hidden behavior on the sphinx rendered scikit-learn.org. See: https://github.com/scikit-learn/scikit-learn/issues/21755 */display: inline-block !important;position: relative;}#sk-container-id-13 div.sk-text-repr-fallback {display: none;}</style><div id=\"sk-container-id-13\" class=\"sk-top-container\"><div class=\"sk-text-repr-fallback\"><pre>LinearRegression()</pre><b>In a Jupyter environment, please rerun this cell to show the HTML representation or trust the notebook. <br />On GitHub, the HTML representation is unable to render, please try loading this page with nbviewer.org.</b></div><div class=\"sk-container\" hidden><div class=\"sk-item\"><div class=\"sk-estimator sk-toggleable\"><input class=\"sk-toggleable__control sk-hidden--visually\" id=\"sk-estimator-id-13\" type=\"checkbox\" checked><label for=\"sk-estimator-id-13\" class=\"sk-toggleable__label sk-toggleable__label-arrow\">LinearRegression</label><div class=\"sk-toggleable__content\"><pre>LinearRegression()</pre></div></div></div></div></div>"
      ],
      "text/plain": [
       "LinearRegression()"
      ]
     },
     "execution_count": 227,
     "metadata": {},
     "output_type": "execute_result"
    }
   ],
   "source": [
    "# 여기에 답안코드를 작성하세요.\n",
    "from sklearn.linear_model import LinearRegression\n",
    "\n",
    "model_lrr = LinearRegression()\n",
    "model_lrr.fit(x_data, y_data)"
   ]
  },
  {
   "cell_type": "markdown",
   "metadata": {},
   "source": [
    "<br>"
   ]
  },
  {
   "cell_type": "markdown",
   "metadata": {},
   "source": [
    "## **<span style=\"color:black\">9. 딥러닝 모델링 & 모델 성능평가 및 그래프 출력</span>**"
   ]
  },
  {
   "cell_type": "markdown",
   "metadata": {},
   "source": [
    "<br>\n",
    "<font color=blue>9-1. 아래 가이드대로 해지여부를 분류하는 딥러닝 모델을 만드세요.</font>"
   ]
  },
  {
   "cell_type": "markdown",
   "metadata": {},
   "source": [
    "+ 첫번째 Hidden Layer : unit 64 , activation='relu'\n",
    "+ 두번째 Hidden Layer : unit 32 , activation='relu'\n",
    "+ 세번째 Hidden Layer : unit 16 , activation='relu'\n",
    "+ 각 Hidden Layer 마다 Dropout 0.2 비율로 되도록 하세요.\n",
    "+ EarlyStopping 콜백을 적용하고 ModelCheckpoint 콜백으로 validation performance가 좋은 모델을 h5 모델로 저장하세요.\n",
    "+ batch_size는 10, epochs는 10으로 설정하세요."
   ]
  },
  {
   "cell_type": "code",
   "execution_count": 233,
   "metadata": {
    "tags": []
   },
   "outputs": [
    {
     "name": "stdout",
     "output_type": "stream",
     "text": [
      "Epoch 1/10\n",
      "\u001b[1m796/800\u001b[0m \u001b[32m━━━━━━━━━━━━━━━━━━━\u001b[0m\u001b[37m━\u001b[0m \u001b[1m0s\u001b[0m 1ms/step - acc: 0.9436 - loss: 0.2295\n",
      "Epoch 1: val_loss improved from inf to 0.10971, saving model to best_model.keras\n",
      "\u001b[1m800/800\u001b[0m \u001b[32m━━━━━━━━━━━━━━━━━━━━\u001b[0m\u001b[37m\u001b[0m \u001b[1m2s\u001b[0m 2ms/step - acc: 0.9438 - loss: 0.2290 - val_acc: 0.9780 - val_loss: 0.1097\n",
      "Epoch 2/10\n",
      "\u001b[1m793/800\u001b[0m \u001b[32m━━━━━━━━━━━━━━━━━━━\u001b[0m\u001b[37m━\u001b[0m \u001b[1m0s\u001b[0m 1ms/step - acc: 0.9794 - loss: 0.1199\n",
      "Epoch 2: val_loss improved from 0.10971 to 0.10838, saving model to best_model.keras\n",
      "\u001b[1m800/800\u001b[0m \u001b[32m━━━━━━━━━━━━━━━━━━━━\u001b[0m\u001b[37m\u001b[0m \u001b[1m2s\u001b[0m 2ms/step - acc: 0.9793 - loss: 0.1200 - val_acc: 0.9780 - val_loss: 0.1084\n",
      "Epoch 3/10\n",
      "\u001b[1m783/800\u001b[0m \u001b[32m━━━━━━━━━━━━━━━━━━━\u001b[0m\u001b[37m━\u001b[0m \u001b[1m0s\u001b[0m 1ms/step - acc: 0.9762 - loss: 0.1237\n",
      "Epoch 3: val_loss did not improve from 0.10838\n",
      "\u001b[1m800/800\u001b[0m \u001b[32m━━━━━━━━━━━━━━━━━━━━\u001b[0m\u001b[37m\u001b[0m \u001b[1m2s\u001b[0m 2ms/step - acc: 0.9762 - loss: 0.1236 - val_acc: 0.9780 - val_loss: 0.1103\n",
      "Epoch 4/10\n",
      "\u001b[1m783/800\u001b[0m \u001b[32m━━━━━━━━━━━━━━━━━━━\u001b[0m\u001b[37m━\u001b[0m \u001b[1m0s\u001b[0m 1ms/step - acc: 0.9796 - loss: 0.1094\n",
      "Epoch 4: val_loss did not improve from 0.10838\n",
      "\u001b[1m800/800\u001b[0m \u001b[32m━━━━━━━━━━━━━━━━━━━━\u001b[0m\u001b[37m\u001b[0m \u001b[1m1s\u001b[0m 2ms/step - acc: 0.9796 - loss: 0.1096 - val_acc: 0.9780 - val_loss: 0.1087\n",
      "Epoch 5/10\n",
      "\u001b[1m791/800\u001b[0m \u001b[32m━━━━━━━━━━━━━━━━━━━\u001b[0m\u001b[37m━\u001b[0m \u001b[1m0s\u001b[0m 1ms/step - acc: 0.9772 - loss: 0.1181\n",
      "Epoch 5: val_loss did not improve from 0.10838\n",
      "\u001b[1m800/800\u001b[0m \u001b[32m━━━━━━━━━━━━━━━━━━━━\u001b[0m\u001b[37m\u001b[0m \u001b[1m1s\u001b[0m 2ms/step - acc: 0.9772 - loss: 0.1181 - val_acc: 0.9780 - val_loss: 0.1107\n",
      "Epoch 6/10\n",
      "\u001b[1m795/800\u001b[0m \u001b[32m━━━━━━━━━━━━━━━━━━━\u001b[0m\u001b[37m━\u001b[0m \u001b[1m0s\u001b[0m 1ms/step - acc: 0.9756 - loss: 0.1182\n",
      "Epoch 6: val_loss improved from 0.10838 to 0.10807, saving model to best_model.keras\n",
      "\u001b[1m800/800\u001b[0m \u001b[32m━━━━━━━━━━━━━━━━━━━━\u001b[0m\u001b[37m\u001b[0m \u001b[1m1s\u001b[0m 2ms/step - acc: 0.9756 - loss: 0.1182 - val_acc: 0.9780 - val_loss: 0.1081\n",
      "Epoch 7/10\n",
      "\u001b[1m769/800\u001b[0m \u001b[32m━━━━━━━━━━━━━━━━━━━\u001b[0m\u001b[37m━\u001b[0m \u001b[1m0s\u001b[0m 1ms/step - acc: 0.9775 - loss: 0.1156\n",
      "Epoch 7: val_loss did not improve from 0.10807\n",
      "\u001b[1m800/800\u001b[0m \u001b[32m━━━━━━━━━━━━━━━━━━━━\u001b[0m\u001b[37m\u001b[0m \u001b[1m1s\u001b[0m 2ms/step - acc: 0.9775 - loss: 0.1156 - val_acc: 0.9780 - val_loss: 0.1094\n",
      "Epoch 8/10\n",
      "\u001b[1m800/800\u001b[0m \u001b[32m━━━━━━━━━━━━━━━━━━━━\u001b[0m\u001b[37m\u001b[0m \u001b[1m0s\u001b[0m 1ms/step - acc: 0.9790 - loss: 0.1064\n",
      "Epoch 8: val_loss did not improve from 0.10807\n",
      "\u001b[1m800/800\u001b[0m \u001b[32m━━━━━━━━━━━━━━━━━━━━\u001b[0m\u001b[37m\u001b[0m \u001b[1m1s\u001b[0m 2ms/step - acc: 0.9790 - loss: 0.1064 - val_acc: 0.9780 - val_loss: 0.1085\n",
      "Epoch 9/10\n",
      "\u001b[1m795/800\u001b[0m \u001b[32m━━━━━━━━━━━━━━━━━━━\u001b[0m\u001b[37m━\u001b[0m \u001b[1m0s\u001b[0m 1ms/step - acc: 0.9760 - loss: 0.1170\n",
      "Epoch 9: val_loss improved from 0.10807 to 0.10780, saving model to best_model.keras\n",
      "\u001b[1m800/800\u001b[0m \u001b[32m━━━━━━━━━━━━━━━━━━━━\u001b[0m\u001b[37m\u001b[0m \u001b[1m1s\u001b[0m 1ms/step - acc: 0.9760 - loss: 0.1169 - val_acc: 0.9780 - val_loss: 0.1078\n",
      "Epoch 10/10\n",
      "\u001b[1m775/800\u001b[0m \u001b[32m━━━━━━━━━━━━━━━━━━━\u001b[0m\u001b[37m━\u001b[0m \u001b[1m0s\u001b[0m 1ms/step - acc: 0.9758 - loss: 0.1201\n",
      "Epoch 10: val_loss did not improve from 0.10780\n",
      "\u001b[1m800/800\u001b[0m \u001b[32m━━━━━━━━━━━━━━━━━━━━\u001b[0m\u001b[37m\u001b[0m \u001b[1m1s\u001b[0m 1ms/step - acc: 0.9758 - loss: 0.1199 - val_acc: 0.9780 - val_loss: 0.1098\n"
     ]
    }
   ],
   "source": [
    "# 여기에 답안코드를 작성하세요.\n",
    "import tensorflow as tf\n",
    "from tensorflow import keras\n",
    "from keras.models import Sequential\n",
    "from keras.layers import Dense, Dropout\n",
    "from keras.callbacks import EarlyStopping, ModelCheckpoint\n",
    "\n",
    "model_dnn = Sequential()\n",
    "model_dnn.add(Dense(64, activation='relu', input_shape=(x_train.shape[1], )))\n",
    "model_dnn.add(Dropout(0.2))\n",
    "model_dnn.add(Dense(32, activation='relu'))\n",
    "model_dnn.add(Dropout(0.2))\n",
    "model_dnn.add(Dense(16, activation='relu'))\n",
    "model_dnn.add(Dropout(0.2))\n",
    "model_dnn.add(Dense(1, activation='sigmoid'))\n",
    "\n",
    "model_dnn.compile(optimizer='adam', loss='binary_crossentropy', metrics=['acc'])\n",
    "es = EarlyStopping(monitor='val_loss', patience=4, mode='min', verbose=1)\n",
    "mc = ModelCheckpoint('best_model.keras', monitor='val_loss', save_best_only=True, verbose=1)\n",
    "\n",
    "history = model_dnn.fit(x_train, y_train, batch_size=10, epochs=10, callbacks=[es,mc], validation_data=(x_test, y_test), verbose=1)"
   ]
  },
  {
   "cell_type": "markdown",
   "metadata": {},
   "source": [
    "<br>\n",
    "<font color=blue>9-2. y_train, y_test를 원핫 인코딩 후 다중 분류하는 딥러닝 모델을 만드세요. 9-1과 동일한 가이드 적용</font>"
   ]
  },
  {
   "cell_type": "code",
   "execution_count": 236,
   "metadata": {},
   "outputs": [],
   "source": [
    "# one hot encoding과 to_categorical의 차이점\n",
    "# one hot encoding -> 범주형 변수인 경우 사용, 전처리 단계에서 주로 사용\n",
    "# to_categorical -> 정수형 변수인 경우 사용, 딥러닝 전 단계에서 주로 사용"
   ]
  },
  {
   "cell_type": "code",
   "execution_count": 261,
   "metadata": {
    "tags": []
   },
   "outputs": [
    {
     "data": {
      "text/html": [
       "<pre style=\"white-space:pre;overflow-x:auto;line-height:normal;font-family:Menlo,'DejaVu Sans Mono',consolas,'Courier New',monospace\"><span style=\"font-weight: bold\">Model: \"sequential_29\"</span>\n",
       "</pre>\n"
      ],
      "text/plain": [
       "\u001b[1mModel: \"sequential_29\"\u001b[0m\n"
      ]
     },
     "metadata": {},
     "output_type": "display_data"
    },
    {
     "data": {
      "text/html": [
       "<pre style=\"white-space:pre;overflow-x:auto;line-height:normal;font-family:Menlo,'DejaVu Sans Mono',consolas,'Courier New',monospace\">┏━━━━━━━━━━━━━━━━━━━━━━━━━━━━━━━━━━━━━━┳━━━━━━━━━━━━━━━━━━━━━━━━━━━━━┳━━━━━━━━━━━━━━━━━┓\n",
       "┃<span style=\"font-weight: bold\"> Layer (type)                         </span>┃<span style=\"font-weight: bold\"> Output Shape                </span>┃<span style=\"font-weight: bold\">         Param # </span>┃\n",
       "┡━━━━━━━━━━━━━━━━━━━━━━━━━━━━━━━━━━━━━━╇━━━━━━━━━━━━━━━━━━━━━━━━━━━━━╇━━━━━━━━━━━━━━━━━┩\n",
       "│ dense_104 (<span style=\"color: #0087ff; text-decoration-color: #0087ff\">Dense</span>)                    │ (<span style=\"color: #00d7ff; text-decoration-color: #00d7ff\">None</span>, <span style=\"color: #00af00; text-decoration-color: #00af00\">64</span>)                  │           <span style=\"color: #00af00; text-decoration-color: #00af00\">2,048</span> │\n",
       "├──────────────────────────────────────┼─────────────────────────────┼─────────────────┤\n",
       "│ dropout_79 (<span style=\"color: #0087ff; text-decoration-color: #0087ff\">Dropout</span>)                 │ (<span style=\"color: #00d7ff; text-decoration-color: #00d7ff\">None</span>, <span style=\"color: #00af00; text-decoration-color: #00af00\">64</span>)                  │               <span style=\"color: #00af00; text-decoration-color: #00af00\">0</span> │\n",
       "├──────────────────────────────────────┼─────────────────────────────┼─────────────────┤\n",
       "│ dense_105 (<span style=\"color: #0087ff; text-decoration-color: #0087ff\">Dense</span>)                    │ (<span style=\"color: #00d7ff; text-decoration-color: #00d7ff\">None</span>, <span style=\"color: #00af00; text-decoration-color: #00af00\">32</span>)                  │           <span style=\"color: #00af00; text-decoration-color: #00af00\">2,080</span> │\n",
       "├──────────────────────────────────────┼─────────────────────────────┼─────────────────┤\n",
       "│ dropout_80 (<span style=\"color: #0087ff; text-decoration-color: #0087ff\">Dropout</span>)                 │ (<span style=\"color: #00d7ff; text-decoration-color: #00d7ff\">None</span>, <span style=\"color: #00af00; text-decoration-color: #00af00\">32</span>)                  │               <span style=\"color: #00af00; text-decoration-color: #00af00\">0</span> │\n",
       "├──────────────────────────────────────┼─────────────────────────────┼─────────────────┤\n",
       "│ dense_106 (<span style=\"color: #0087ff; text-decoration-color: #0087ff\">Dense</span>)                    │ (<span style=\"color: #00d7ff; text-decoration-color: #00d7ff\">None</span>, <span style=\"color: #00af00; text-decoration-color: #00af00\">16</span>)                  │             <span style=\"color: #00af00; text-decoration-color: #00af00\">528</span> │\n",
       "├──────────────────────────────────────┼─────────────────────────────┼─────────────────┤\n",
       "│ dropout_81 (<span style=\"color: #0087ff; text-decoration-color: #0087ff\">Dropout</span>)                 │ (<span style=\"color: #00d7ff; text-decoration-color: #00d7ff\">None</span>, <span style=\"color: #00af00; text-decoration-color: #00af00\">16</span>)                  │               <span style=\"color: #00af00; text-decoration-color: #00af00\">0</span> │\n",
       "├──────────────────────────────────────┼─────────────────────────────┼─────────────────┤\n",
       "│ dense_107 (<span style=\"color: #0087ff; text-decoration-color: #0087ff\">Dense</span>)                    │ (<span style=\"color: #00d7ff; text-decoration-color: #00d7ff\">None</span>, <span style=\"color: #00af00; text-decoration-color: #00af00\">2</span>)                   │              <span style=\"color: #00af00; text-decoration-color: #00af00\">34</span> │\n",
       "└──────────────────────────────────────┴─────────────────────────────┴─────────────────┘\n",
       "</pre>\n"
      ],
      "text/plain": [
       "┏━━━━━━━━━━━━━━━━━━━━━━━━━━━━━━━━━━━━━━┳━━━━━━━━━━━━━━━━━━━━━━━━━━━━━┳━━━━━━━━━━━━━━━━━┓\n",
       "┃\u001b[1m \u001b[0m\u001b[1mLayer (type)                        \u001b[0m\u001b[1m \u001b[0m┃\u001b[1m \u001b[0m\u001b[1mOutput Shape               \u001b[0m\u001b[1m \u001b[0m┃\u001b[1m \u001b[0m\u001b[1m        Param #\u001b[0m\u001b[1m \u001b[0m┃\n",
       "┡━━━━━━━━━━━━━━━━━━━━━━━━━━━━━━━━━━━━━━╇━━━━━━━━━━━━━━━━━━━━━━━━━━━━━╇━━━━━━━━━━━━━━━━━┩\n",
       "│ dense_104 (\u001b[38;5;33mDense\u001b[0m)                    │ (\u001b[38;5;45mNone\u001b[0m, \u001b[38;5;34m64\u001b[0m)                  │           \u001b[38;5;34m2,048\u001b[0m │\n",
       "├──────────────────────────────────────┼─────────────────────────────┼─────────────────┤\n",
       "│ dropout_79 (\u001b[38;5;33mDropout\u001b[0m)                 │ (\u001b[38;5;45mNone\u001b[0m, \u001b[38;5;34m64\u001b[0m)                  │               \u001b[38;5;34m0\u001b[0m │\n",
       "├──────────────────────────────────────┼─────────────────────────────┼─────────────────┤\n",
       "│ dense_105 (\u001b[38;5;33mDense\u001b[0m)                    │ (\u001b[38;5;45mNone\u001b[0m, \u001b[38;5;34m32\u001b[0m)                  │           \u001b[38;5;34m2,080\u001b[0m │\n",
       "├──────────────────────────────────────┼─────────────────────────────┼─────────────────┤\n",
       "│ dropout_80 (\u001b[38;5;33mDropout\u001b[0m)                 │ (\u001b[38;5;45mNone\u001b[0m, \u001b[38;5;34m32\u001b[0m)                  │               \u001b[38;5;34m0\u001b[0m │\n",
       "├──────────────────────────────────────┼─────────────────────────────┼─────────────────┤\n",
       "│ dense_106 (\u001b[38;5;33mDense\u001b[0m)                    │ (\u001b[38;5;45mNone\u001b[0m, \u001b[38;5;34m16\u001b[0m)                  │             \u001b[38;5;34m528\u001b[0m │\n",
       "├──────────────────────────────────────┼─────────────────────────────┼─────────────────┤\n",
       "│ dropout_81 (\u001b[38;5;33mDropout\u001b[0m)                 │ (\u001b[38;5;45mNone\u001b[0m, \u001b[38;5;34m16\u001b[0m)                  │               \u001b[38;5;34m0\u001b[0m │\n",
       "├──────────────────────────────────────┼─────────────────────────────┼─────────────────┤\n",
       "│ dense_107 (\u001b[38;5;33mDense\u001b[0m)                    │ (\u001b[38;5;45mNone\u001b[0m, \u001b[38;5;34m2\u001b[0m)                   │              \u001b[38;5;34m34\u001b[0m │\n",
       "└──────────────────────────────────────┴─────────────────────────────┴─────────────────┘\n"
      ]
     },
     "metadata": {},
     "output_type": "display_data"
    },
    {
     "data": {
      "text/html": [
       "<pre style=\"white-space:pre;overflow-x:auto;line-height:normal;font-family:Menlo,'DejaVu Sans Mono',consolas,'Courier New',monospace\"><span style=\"font-weight: bold\"> Total params: </span><span style=\"color: #00af00; text-decoration-color: #00af00\">4,690</span> (18.32 KB)\n",
       "</pre>\n"
      ],
      "text/plain": [
       "\u001b[1m Total params: \u001b[0m\u001b[38;5;34m4,690\u001b[0m (18.32 KB)\n"
      ]
     },
     "metadata": {},
     "output_type": "display_data"
    },
    {
     "data": {
      "text/html": [
       "<pre style=\"white-space:pre;overflow-x:auto;line-height:normal;font-family:Menlo,'DejaVu Sans Mono',consolas,'Courier New',monospace\"><span style=\"font-weight: bold\"> Trainable params: </span><span style=\"color: #00af00; text-decoration-color: #00af00\">4,690</span> (18.32 KB)\n",
       "</pre>\n"
      ],
      "text/plain": [
       "\u001b[1m Trainable params: \u001b[0m\u001b[38;5;34m4,690\u001b[0m (18.32 KB)\n"
      ]
     },
     "metadata": {},
     "output_type": "display_data"
    },
    {
     "data": {
      "text/html": [
       "<pre style=\"white-space:pre;overflow-x:auto;line-height:normal;font-family:Menlo,'DejaVu Sans Mono',consolas,'Courier New',monospace\"><span style=\"font-weight: bold\"> Non-trainable params: </span><span style=\"color: #00af00; text-decoration-color: #00af00\">0</span> (0.00 B)\n",
       "</pre>\n"
      ],
      "text/plain": [
       "\u001b[1m Non-trainable params: \u001b[0m\u001b[38;5;34m0\u001b[0m (0.00 B)\n"
      ]
     },
     "metadata": {},
     "output_type": "display_data"
    },
    {
     "name": "stdout",
     "output_type": "stream",
     "text": [
      "Epoch 1/10\n",
      "\u001b[1m775/800\u001b[0m \u001b[32m━━━━━━━━━━━━━━━━━━━\u001b[0m\u001b[37m━\u001b[0m \u001b[1m0s\u001b[0m 913us/step - acc: 0.9482 - loss: 0.2154\n",
      "Epoch 1: val_loss did not improve from 0.10780\n",
      "\u001b[1m800/800\u001b[0m \u001b[32m━━━━━━━━━━━━━━━━━━━━\u001b[0m\u001b[37m\u001b[0m \u001b[1m2s\u001b[0m 1ms/step - acc: 0.9490 - loss: 0.2134 - val_acc: 0.9780 - val_loss: 0.1109\n",
      "Epoch 2/10\n",
      "\u001b[1m788/800\u001b[0m \u001b[32m━━━━━━━━━━━━━━━━━━━\u001b[0m\u001b[37m━\u001b[0m \u001b[1m0s\u001b[0m 1ms/step - acc: 0.9763 - loss: 0.1292\n",
      "Epoch 2: val_loss improved from 0.10780 to 0.10722, saving model to best_model.keras\n",
      "\u001b[1m800/800\u001b[0m \u001b[32m━━━━━━━━━━━━━━━━━━━━\u001b[0m\u001b[37m\u001b[0m \u001b[1m2s\u001b[0m 2ms/step - acc: 0.9764 - loss: 0.1291 - val_acc: 0.9780 - val_loss: 0.1072\n",
      "Epoch 3/10\n",
      "\u001b[1m770/800\u001b[0m \u001b[32m━━━━━━━━━━━━━━━━━━━\u001b[0m\u001b[37m━\u001b[0m \u001b[1m0s\u001b[0m 1ms/step - acc: 0.9790 - loss: 0.1152\n",
      "Epoch 3: val_loss did not improve from 0.10722\n",
      "\u001b[1m800/800\u001b[0m \u001b[32m━━━━━━━━━━━━━━━━━━━━\u001b[0m\u001b[37m\u001b[0m \u001b[1m2s\u001b[0m 2ms/step - acc: 0.9789 - loss: 0.1154 - val_acc: 0.9780 - val_loss: 0.1074\n",
      "Epoch 4/10\n",
      "\u001b[1m786/800\u001b[0m \u001b[32m━━━━━━━━━━━━━━━━━━━\u001b[0m\u001b[37m━\u001b[0m \u001b[1m0s\u001b[0m 899us/step - acc: 0.9768 - loss: 0.1187\n",
      "Epoch 4: val_loss did not improve from 0.10722\n",
      "\u001b[1m800/800\u001b[0m \u001b[32m━━━━━━━━━━━━━━━━━━━━\u001b[0m\u001b[37m\u001b[0m \u001b[1m1s\u001b[0m 1ms/step - acc: 0.9768 - loss: 0.1187 - val_acc: 0.9780 - val_loss: 0.1075\n",
      "Epoch 5/10\n",
      "\u001b[1m771/800\u001b[0m \u001b[32m━━━━━━━━━━━━━━━━━━━\u001b[0m\u001b[37m━\u001b[0m \u001b[1m0s\u001b[0m 852us/step - acc: 0.9770 - loss: 0.1106\n",
      "Epoch 5: val_loss did not improve from 0.10722\n",
      "\u001b[1m800/800\u001b[0m \u001b[32m━━━━━━━━━━━━━━━━━━━━\u001b[0m\u001b[37m\u001b[0m \u001b[1m1s\u001b[0m 1ms/step - acc: 0.9770 - loss: 0.1106 - val_acc: 0.9780 - val_loss: 0.1078\n",
      "Epoch 6/10\n",
      "\u001b[1m769/800\u001b[0m \u001b[32m━━━━━━━━━━━━━━━━━━━\u001b[0m\u001b[37m━\u001b[0m \u001b[1m0s\u001b[0m 1ms/step - acc: 0.9759 - loss: 0.1118\n",
      "Epoch 6: val_loss improved from 0.10722 to 0.10640, saving model to best_model.keras\n",
      "\u001b[1m800/800\u001b[0m \u001b[32m━━━━━━━━━━━━━━━━━━━━\u001b[0m\u001b[37m\u001b[0m \u001b[1m1s\u001b[0m 1ms/step - acc: 0.9760 - loss: 0.1117 - val_acc: 0.9780 - val_loss: 0.1064\n",
      "Epoch 7/10\n",
      "\u001b[1m766/800\u001b[0m \u001b[32m━━━━━━━━━━━━━━━━━━━\u001b[0m\u001b[37m━\u001b[0m \u001b[1m0s\u001b[0m 1ms/step - acc: 0.9759 - loss: 0.1149\n",
      "Epoch 7: val_loss did not improve from 0.10640\n",
      "\u001b[1m800/800\u001b[0m \u001b[32m━━━━━━━━━━━━━━━━━━━━\u001b[0m\u001b[37m\u001b[0m \u001b[1m1s\u001b[0m 2ms/step - acc: 0.9760 - loss: 0.1146 - val_acc: 0.9780 - val_loss: 0.1090\n",
      "Epoch 8/10\n",
      "\u001b[1m779/800\u001b[0m \u001b[32m━━━━━━━━━━━━━━━━━━━\u001b[0m\u001b[37m━\u001b[0m \u001b[1m0s\u001b[0m 1ms/step - acc: 0.9807 - loss: 0.0978\n",
      "Epoch 8: val_loss did not improve from 0.10640\n",
      "\u001b[1m800/800\u001b[0m \u001b[32m━━━━━━━━━━━━━━━━━━━━\u001b[0m\u001b[37m\u001b[0m \u001b[1m2s\u001b[0m 1ms/step - acc: 0.9806 - loss: 0.0981 - val_acc: 0.9780 - val_loss: 0.1065\n",
      "Epoch 9/10\n",
      "\u001b[1m784/800\u001b[0m \u001b[32m━━━━━━━━━━━━━━━━━━━\u001b[0m\u001b[37m━\u001b[0m \u001b[1m0s\u001b[0m 1ms/step - acc: 0.9800 - loss: 0.0985\n",
      "Epoch 9: val_loss did not improve from 0.10640\n",
      "\u001b[1m800/800\u001b[0m \u001b[32m━━━━━━━━━━━━━━━━━━━━\u001b[0m\u001b[37m\u001b[0m \u001b[1m1s\u001b[0m 2ms/step - acc: 0.9800 - loss: 0.0987 - val_acc: 0.9780 - val_loss: 0.1064\n",
      "Epoch 10/10\n",
      "\u001b[1m791/800\u001b[0m \u001b[32m━━━━━━━━━━━━━━━━━━━\u001b[0m\u001b[37m━\u001b[0m \u001b[1m0s\u001b[0m 2ms/step - acc: 0.9780 - loss: 0.1058\n",
      "Epoch 10: val_loss did not improve from 0.10640\n",
      "\u001b[1m800/800\u001b[0m \u001b[32m━━━━━━━━━━━━━━━━━━━━\u001b[0m\u001b[37m\u001b[0m \u001b[1m2s\u001b[0m 2ms/step - acc: 0.9780 - loss: 0.1058 - val_acc: 0.9780 - val_loss: 0.1073\n",
      "Epoch 10: early stopping\n"
     ]
    }
   ],
   "source": [
    "# 여기에 답안코드를 작성하세요.\n",
    "from keras.utils import to_categorical\n",
    "y_train_ohe = to_categorical(y_train)\n",
    "y_test_ohe = to_categorical(y_test)\n",
    "\n",
    "model_dnn2 = Sequential()\n",
    "\n",
    "model_dnn2.add(Dense(64, activation='relu', input_shape=(x_train.shape[1], )))\n",
    "model_dnn2.add(Dropout(0.2))\n",
    "model_dnn2.add(Dense(32, activation='relu'))\n",
    "model_dnn2.add(Dropout(0.2))\n",
    "model_dnn2.add(Dense(16, activation='relu'))\n",
    "model_dnn2.add(Dropout(0.2))\n",
    "model_dnn2.add(Dense(2, activation='softmax'))\n",
    "\n",
    "model_dnn2.summary()\n",
    "\n",
    "model_dnn2.compile(optimizer='adam', loss='categorical_crossentropy',metrics=['acc'])\n",
    "\n",
    "history = model_dnn2.fit(x_train, y_train_ohe, batch_size=10, epochs=10, callbacks=[es,mc], validation_data=(x_test, y_test_ohe), verbose=1)"
   ]
  },
  {
   "cell_type": "code",
   "execution_count": null,
   "metadata": {},
   "outputs": [],
   "source": [
    "# 참고\n",
    "# Y 레이블 One-Hot-Encoding 되지 않았으면 loss='sparse_categorical_crossentropy' 사용\n",
    "# model.compile(optimizer='adam', loss='sparse_categorical_crossentropy',metrics=['acc'])\n",
    "# history = model.fit(X_train, y_train, batch_size=batch_size, epochs=epochs, callbacks=[es,mc], validation_data=(X_test, y_test), verbose=1)"
   ]
  },
  {
   "cell_type": "markdown",
   "metadata": {},
   "source": [
    "<br>\n",
    "<font color=blue>9-3. 모델 성능을 평가해서 그래프로 표현하세요. 학습 정확도와 검증정확도를 그래프로 표시하고 xlabel에는 Epochs, ylabel에는 Accuracy, 범례에는 Train과 Validation으로 표시하세요..</font>"
   ]
  },
  {
   "cell_type": "code",
   "execution_count": 262,
   "metadata": {
    "tags": []
   },
   "outputs": [
    {
     "data": {
      "image/png": "[encoded data removed]",
      "text/plain": [
       "<Figure size 600x400 with 1 Axes>"
      ]
     },
     "metadata": {},
     "output_type": "display_data"
    }
   ],
   "source": [
    "# 여기에 답안코드를 작성하세요.\n",
    "\n",
    "plt.figure(figsize=(6,4))\n",
    "plt.plot(history.history['acc'], label='Train')\n",
    "plt.plot(history.history['val_acc'], label='Validation')\n",
    "plt.xlabel('Epochs')\n",
    "plt.ylabel('Accuracy')\n",
    "plt.legend()\n",
    "plt.show()"
   ]
  },
  {
   "cell_type": "markdown",
   "metadata": {},
   "source": [
    "<br>\n",
    "<font color=blue>9-4. 모델 성능을 평가해서 그래프로 표현하세요. 학습 손실과 검증 손실을 그래프로 표시하고 xlabel에는 Epochs, ylabel에는 Loss, 범례에는 Train Loss와 Validation Loss로 표시하세요.</font>"
   ]
  },
  {
   "cell_type": "code",
   "execution_count": 265,
   "metadata": {
    "tags": []
   },
   "outputs": [
    {
     "data": {
      "image/png": "[encoded data removed]",
      "text/plain": [
       "<Figure size 600x400 with 1 Axes>"
      ]
     },
     "metadata": {},
     "output_type": "display_data"
    }
   ],
   "source": [
    "# 여기에 답안코드를 작성하세요.\n",
    "plt.figure(figsize=(6,4))\n",
    "plt.plot(history.history['loss'], label='Train Loss')\n",
    "plt.plot(history.history['val_loss'], label='Validation Loss')\n",
    "plt.xlabel('Epochs')\n",
    "plt.ylabel('Loss')\n",
    "plt.legend()\n",
    "plt.show()"
   ]
  },
  {
   "cell_type": "markdown",
   "metadata": {},
   "source": [
    "<br>\n",
    "<font color=blue>9-5. y값을 예측하여 y_test_pred에 저장하고 정확도를 출력하세요..</font>"
   ]
  },
  {
   "cell_type": "code",
   "execution_count": 264,
   "metadata": {
    "tags": []
   },
   "outputs": [
    {
     "name": "stdout",
     "output_type": "stream",
     "text": [
      "\u001b[1m200/200\u001b[0m \u001b[32m━━━━━━━━━━━━━━━━━━━━\u001b[0m\u001b[37m\u001b[0m \u001b[1m0s\u001b[0m 960us/step\n"
     ]
    },
    {
     "data": {
      "text/plain": [
       "0.978"
      ]
     },
     "execution_count": 264,
     "metadata": {},
     "output_type": "execute_result"
    }
   ],
   "source": [
    "# 여기에 답안코드를 작성하세요.\n",
    "from sklearn.metrics import accuracy_score\n",
    "\n",
    "y_test_pred = model_dnn2.predict(x_test, batch_size=10, verbose=1)\n",
    "y_test = np.argmax(y_test_ohe, axis=1)\n",
    "y_test_pred = np.argmax(y_test_pred, axis=1)\n",
    "\n",
    "accuracy_score(y_test, y_test_pred)"
   ]
  }
 ],
 "metadata": {
  "kernelspec": {
   "display_name": "Python 3 (ipykernel)",
   "language": "python",
   "name": "python3"
  },
  "language_info": {
   "codemirror_mode": {
    "name": "ipython",
    "version": 3
   },
   "file_extension": ".py",
   "mimetype": "text/x-python",
   "name": "python",
   "nbconvert_exporter": "python",
   "pygments_lexer": "ipython3",
   "version": "3.11.5"
  }
 },
 "nbformat": 4,
 "nbformat_minor": 4
}
