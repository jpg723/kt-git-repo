{
 "cells": [
  {
   "cell_type": "markdown",
   "id": "1f32dd86-1670-4327-bfe9-9d99b93a5d9c",
   "metadata": {},
   "source": [
    "**AIVLE School 미니프로젝트**\n",
    "### **통신 서비스 이용 고객의 <span style=\"color:darkgreen\">이탈 여부</span> 예측 문제**\n",
    "---"
   ]
  },
  {
   "cell_type": "markdown",
   "id": "e39fd6a0-05d7-4def-b5c1-6517ba575080",
   "metadata": {},
   "source": [
    "<br>"
   ]
  },
  {
   "cell_type": "markdown",
   "id": "1951fedb-3724-418c-8de8-ac69b120d310",
   "metadata": {
    "tags": []
   },
   "source": [
    "#### **<span style=\"color:red\">[미션 안내]</span>**\n",
    "* 고객 관련 데이터를 분석한 후 고객의 서비스 중단 또는 경쟁업체로의 이탈 여부를 예측하는 머신러닝, 딥러닝 모델을 만들고 결과를 예측하세요."
   ]
  },
  {
   "cell_type": "markdown",
   "id": "07c798aa-1b49-4dae-af82-dd853b9e7886",
   "metadata": {},
   "source": [
    "#### **<span style=\"color:red\">[유의 사항]</span>**\n",
    "* 각 문항의 답안코드는 반드시 '#여기에 답안코드를 작성하세요'로 표시된 cell에 작성해야 합니다.\n",
    "* 제공된 cell을 추가/삭제하고 다른 cell에 답안코드를 작성 시 채점되지 않습니다.\n",
    "* 반드시 문제에 제시된 가이드를 읽고 답안 작성하세요.\n",
    "* 문제에 변수명이 제시된 경우 반드시 해당 변수명을 사용하세요.\n",
    "* 문제와 데이터는 제3자에게 공유하거나 개인적인 용도로 사용하는 등 외부로 유출할 수 없으며 유출로 인한 책임은 응시자 본인에게 있습니다."
   ]
  },
  {
   "cell_type": "markdown",
   "id": "f2e1c59a-e306-45f5-90d0-252e63994de8",
   "metadata": {},
   "source": [
    "<br>"
   ]
  },
  {
   "cell_type": "markdown",
   "id": "cb429a27-f439-4323-a69f-aa554cebeb5f",
   "metadata": {},
   "source": [
    "### 1. scikit-learn 패키지는 머신러닝 교육을 위한 최고의 파이썬 패키지입니다.\n",
    "### scikit-learn를 별칭(alias) sk로 임포트하는 코드를 작성하고 실행하세요."
   ]
  },
  {
   "cell_type": "code",
   "execution_count": 1,
   "id": "78bfda52-7125-4bf4-99cc-a49888f3557b",
   "metadata": {},
   "outputs": [],
   "source": [
    "# 여기에 답안코드를 작성하세요.\n"
   ]
  },
  {
   "cell_type": "markdown",
   "id": "7d66e4d1-6a30-484d-920e-772b815f50c7",
   "metadata": {},
   "source": [
    "<br>"
   ]
  },
  {
   "cell_type": "markdown",
   "id": "d792db90-2273-4eef-a0f2-3cb37d2edf7c",
   "metadata": {},
   "source": [
    "### 2. Pandas를 사용할 수 있도록 별칭(alias)을 pd로 해서 불러오세요."
   ]
  },
  {
   "cell_type": "code",
   "execution_count": 2,
   "id": "771f7972-0473-4db8-8797-95ddc19017fc",
   "metadata": {},
   "outputs": [],
   "source": [
    "# 여기에 답안코드를 작성하세요.\n"
   ]
  },
  {
   "cell_type": "markdown",
   "id": "326a5dea-8170-4655-a4c6-ed1d3e4a1718",
   "metadata": {},
   "source": [
    "<br>"
   ]
  },
  {
   "cell_type": "markdown",
   "id": "55ced9e0-391e-4169-acd5-2165cd5b3ee0",
   "metadata": {},
   "source": [
    "### 3. 모델링을 위해 분석 및 처리할 데이터 파일을 읽어오려고 합니다.\n",
    "### Pandas함수로 데이터 파일을 읽어 데이터프레임 변수명 df에 할당하는 코드를 작성하세요.\n",
    "* churn_data.csv 파일을 읽어 데이터 프레임 변수명 df에 할당하세요."
   ]
  },
  {
   "cell_type": "code",
   "execution_count": 3,
   "id": "dbc291ca-4629-4beb-be81-1633aa8e62b2",
   "metadata": {},
   "outputs": [],
   "source": [
    "# 여기에 답안코드를 작성하세요.\n"
   ]
  },
  {
   "cell_type": "markdown",
   "id": "6a34284c-1724-4326-8079-b823f1e9b08b",
   "metadata": {},
   "source": [
    "<br>"
   ]
  },
  {
   "cell_type": "markdown",
   "id": "a1c7f855-339a-4600-a87d-64a5525edcc8",
   "metadata": {},
   "source": [
    "### 4. df에서 불필요한 customerID 컬럼을 삭제하고 df1에 저장하세요."
   ]
  },
  {
   "cell_type": "code",
   "execution_count": 4,
   "id": "865d5d47-ce7e-4536-828f-b9d5ab804780",
   "metadata": {
    "tags": []
   },
   "outputs": [],
   "source": [
    "# 여기에 답안코드를 작성하세요.\n",
    "\n"
   ]
  },
  {
   "cell_type": "markdown",
   "id": "594967e8-9231-4671-a88e-7b54898ffa4e",
   "metadata": {},
   "source": [
    "<br>"
   ]
  },
  {
   "cell_type": "markdown",
   "id": "ff6b633c-fbb2-40d1-982e-5e57daac66cc",
   "metadata": {},
   "source": [
    "### 5. df1의 TotalCharges 컬럼의 타입을 float로 변경하세요.\n",
    "* TotalCharge의 컬럼 타입을 확인하는 코드를 작성하세요.\n",
    "* ' ' 값을 0으로 변환하고 컬럼 타입을 float로 변경하세요.\n",
    "* 전처리 후 데이터를 df2에 저장하세요."
   ]
  },
  {
   "cell_type": "code",
   "execution_count": 5,
   "id": "23c0e7e5-c4e7-42e8-9258-2bd3fb7a1551",
   "metadata": {},
   "outputs": [],
   "source": [
    "# 여기에 답안코드를 작성하세요.\n",
    "\n"
   ]
  },
  {
   "cell_type": "markdown",
   "id": "7c3d46d9-2a4a-49ce-ace2-b007933c2a53",
   "metadata": {},
   "source": [
    "<br>"
   ]
  },
  {
   "cell_type": "markdown",
   "id": "c7ba7823-db7b-409c-91a2-13519680b52c",
   "metadata": {},
   "source": [
    "### 6. df2에서 churn 컬럼의 데이터별 개수를 확인하는 코드를 작성하고 \n",
    "### Yes, No를 각각 1, 0으로 변환한 후 df3에 저장하세요."
   ]
  },
  {
   "cell_type": "code",
   "execution_count": 6,
   "id": "414a676e-0392-4e52-a8fa-bc4dd71482b8",
   "metadata": {},
   "outputs": [],
   "source": [
    "# 여기에 답안코드를 작성하세요.\n",
    "\n"
   ]
  },
  {
   "cell_type": "markdown",
   "id": "43d2735b-8ba6-44c9-9e08-6c53002f1b46",
   "metadata": {},
   "source": [
    "<br>"
   ]
  },
  {
   "cell_type": "markdown",
   "id": "f086ac8c-cef8-4944-a518-81fc042b1444",
   "metadata": {},
   "source": [
    "### 7. df3의 모든 컬럼에 대해 결측치를 확인하는 코드를 작성하고 결측치를 처리하세요.\n",
    "* 결측치가 40% 이상인 컬럼은 컬럼을 삭제하세요.\n",
    "* 결측치가 40% 미만인 컬럼은 결측치가 있는 row를 삭제하세요.\n",
    "* 전처리한 데이터를 df4에 저장하세요."
   ]
  },
  {
   "cell_type": "code",
   "execution_count": 7,
   "id": "ccc8da5a-221a-4c13-ab4e-792264ea48a8",
   "metadata": {},
   "outputs": [],
   "source": [
    "# 여기에 답안코드를 작성하세요.\n",
    "\n"
   ]
  },
  {
   "cell_type": "markdown",
   "id": "46c64f89-a3ee-45d7-94f4-5ede4c6d6e92",
   "metadata": {},
   "source": [
    "<br>"
   ]
  },
  {
   "cell_type": "markdown",
   "id": "590a5dfe-8ebf-4fdc-9c6b-f3b03fc57890",
   "metadata": {},
   "source": [
    "### 8. df4에서 SeniorCitizen 컬럼을 bar 차트로 확인해보고 불균형을 확인해보세요. \n",
    "### SeniorCitizen 컬럼은 불균형이 심하므로 삭제하세요."
   ]
  },
  {
   "cell_type": "code",
   "execution_count": 8,
   "id": "7573f7e1-eeb9-436b-8fb4-af7ba4872782",
   "metadata": {},
   "outputs": [],
   "source": [
    "# 여기에 답안코드를 작성하세요.\n"
   ]
  },
  {
   "cell_type": "markdown",
   "id": "9db815d3-4725-42e4-a34d-a693ef160dc4",
   "metadata": {},
   "source": [
    "<br>"
   ]
  },
  {
   "cell_type": "markdown",
   "id": "2364a91e-b4d4-4471-8171-82cd7a87cb25",
   "metadata": {},
   "source": [
    "### 9. df4에서 다음의 가이드에 따라 데이터를 시각화 해보세요.\n",
    "* tenure (서비스 사용기간)에 대해 히스토그램으로 시각화 하세요.\n",
    "* tenure를 x 값으로 churn을 hue 값으로 사용하여 kdeplot으로 시각화 하고 '서비스 사용기간이 길어질 수록 이탈이 적다'에 대해 'O'인지 'X'인지 출력하세요.\n",
    "* MultipleLines에 대해 countplot을 그리고 churn을 hue 값으로 사용하여 countplot으로 시각화 하고 'MultipleLines 서비스를 사용하는 고객이 약간 더 높은 이탈율을 보인다'에 대해 'O'인지 'X'인지 출력하세요.\n",
    "* 'tenure','MonthlyCharges','TotalCharges' 컬럼간의 상관관계를 확인하여 heatmap으로 시각화하고 가장 높은 상관계수 값을 출력하세요."
   ]
  },
  {
   "cell_type": "code",
   "execution_count": 9,
   "id": "5bb1f09a-cb22-4ade-b3d9-47fa7eab841a",
   "metadata": {},
   "outputs": [],
   "source": [
    "# 여기에 답안코드를 작성하세요.\n",
    "\n",
    "import seaborn as sns\n",
    "import matplotlib.pyplot as plt\n"
   ]
  },
  {
   "cell_type": "markdown",
   "id": "4266bd53-b060-4355-b473-c051cbbc908e",
   "metadata": {},
   "source": [
    "<br>"
   ]
  },
  {
   "cell_type": "markdown",
   "id": "6b01b0e7-30e3-4a64-8e6a-1e45507a8262",
   "metadata": {},
   "source": [
    "### 10. df4에서 컬럼의 데이터 타입이 object인 컬럼들을 원-핫 인코딩하세요.\n",
    "* 컬럼의 데이터 타입이 object인 컬럼들을 object_cols 변수에 저장하세요.\n",
    "* object_cols 변수의 컬럼들을 원-핫 인코딩하세요.\n",
    "* 전처리된 데이터를 df5에 저장하세요."
   ]
  },
  {
   "cell_type": "code",
   "execution_count": 10,
   "id": "da848455-7b93-47fd-8ac4-d844b2a4e7be",
   "metadata": {
    "tags": []
   },
   "outputs": [],
   "source": [
    "# 여기에 답안코드를 작성하세요.\n",
    "\n"
   ]
  },
  {
   "cell_type": "markdown",
   "id": "a0f356a6-f40f-45e2-a559-d5d04e75ea3f",
   "metadata": {},
   "source": [
    "<br>"
   ]
  },
  {
   "cell_type": "markdown",
   "id": "8fb3c92a-4027-4076-bdb0-6f3bda7da917",
   "metadata": {},
   "source": [
    "### 11. df5에 대해 Scikit-learn의 train_test_split 함수로 훈련, 검증 데이터를 분리하세요.\n",
    "* 입력 : X, y (y에는 churn을 저장하고 X에는 churn을 제외한 나머지를 저장하세요)\n",
    "* Train : Test 비율 = 8:2\n",
    "* y Class 비율에 맞게 나누는 옵션을 추가하세요.\n",
    "* random_state=42 로 설정하세요.\n",
    "* 결과 : X_train, X_valid, y_train, y_valid에 저장하세요."
   ]
  },
  {
   "cell_type": "code",
   "execution_count": 11,
   "id": "8901a3f2-3839-4831-afeb-fd2877eef954",
   "metadata": {},
   "outputs": [],
   "source": [
    "# 여기에 답안코드를 작성하세요.\n"
   ]
  },
  {
   "cell_type": "markdown",
   "id": "c42fb023-9864-4471-8a45-44fdbfd35e93",
   "metadata": {},
   "source": [
    "<br>"
   ]
  },
  {
   "cell_type": "markdown",
   "id": "1ccbcefa-d9b4-454f-b82a-f755d5f16283",
   "metadata": {},
   "source": [
    "### 12. MinMaxScaler 함수를 'scaler'로 정의하고 데이터를 정규화하세요."
   ]
  },
  {
   "cell_type": "code",
   "execution_count": 12,
   "id": "8a8b9d20-a680-4000-9b3a-aadfe5d6cb02",
   "metadata": {},
   "outputs": [],
   "source": [
    "# 여기에 답안코드를 작성하세요.\n",
    "\n"
   ]
  },
  {
   "cell_type": "markdown",
   "id": "ca8e3bcd-70a1-41fe-b050-2a7b3d97280b",
   "metadata": {
    "tags": []
   },
   "source": [
    "<br>"
   ]
  },
  {
   "cell_type": "markdown",
   "id": "e897fb3e-1364-4445-ac10-920f82ae4232",
   "metadata": {},
   "source": [
    "### 13. 고객 이탈 여부를 예측하는 머신러닝 모델을 만들려고 합니다.\n",
    "### 아래 가이드에 따라 모델링하고 학습을 진행하세요.\n",
    "* LogisticRegression 모델 정의하고 학습시키세요. \n",
    "* KNN으로 모델을 정의하고 학습시키세요. (n_neighbors=5)\n",
    "* Decision Tree로 모델을 정의하고 학습시키세요. (max_depth=10, random_state=42)\n",
    "* RandomForest로 모델을 정의하고 학습시키세요. (n_estimators=3, random_state=42)\n",
    "* XGBoost로 모델을 정의하고 학습시키세요. (n_estimators=3, random_state=42)  \n",
    "* Light GBM으로 모델을 정의하고 학습시키세요. (n_estimators=3, random_state=42)  \n",
    "* 각각 다른 셀에 답안코드를 작성하세요."
   ]
  },
  {
   "cell_type": "code",
   "execution_count": 13,
   "id": "3f9afe4d-fc0a-4fef-a644-3e72dd03aee9",
   "metadata": {},
   "outputs": [],
   "source": [
    "# 여기에 답안코드를 작성하세요.(LogisticRegression)\n"
   ]
  },
  {
   "cell_type": "code",
   "execution_count": 14,
   "id": "fdd890b9-b12c-40ef-a2aa-629e1fa9105a",
   "metadata": {},
   "outputs": [],
   "source": [
    "# 여기에 답안코드를 작성하세요.(KNN)\n"
   ]
  },
  {
   "cell_type": "code",
   "execution_count": 15,
   "id": "6adcd304-bd2f-4623-b0da-3c632da8c91b",
   "metadata": {},
   "outputs": [],
   "source": [
    "# 여기에 답안코드를 작성하세요.(Decision Tree)\n"
   ]
  },
  {
   "cell_type": "code",
   "execution_count": 16,
   "id": "24c4a98c-e131-4d4d-b2e4-f504a3d593f4",
   "metadata": {},
   "outputs": [],
   "source": [
    "# 여기에 답안코드를 작성하세요.(RandomForest)\n"
   ]
  },
  {
   "cell_type": "code",
   "execution_count": 17,
   "id": "59d39690-cc4c-4c1b-85a9-ce0dabce51db",
   "metadata": {},
   "outputs": [],
   "source": [
    "# 여기에 답안코드를 작성하세요.(XgBoost)\n"
   ]
  },
  {
   "cell_type": "code",
   "execution_count": 18,
   "id": "787ed8df-1639-44a9-9837-d9d78990f479",
   "metadata": {},
   "outputs": [],
   "source": [
    "# 여기에 답안코드를 작성하세요.(lightgbm)\n"
   ]
  },
  {
   "cell_type": "markdown",
   "id": "91e435bf-c197-4157-b1b1-7238de931fec",
   "metadata": {},
   "source": [
    "### 14. 바로 위 모델의 성능을 평가하려고 합니다. \n",
    "### y값을 예측하여 confusion matrix를 구하고 heatmap 그래프로 시각화하세요. \n",
    "### 그리고 Scikit-learn의 classification_report를 활용하여 성능을 출력하세요."
   ]
  },
  {
   "cell_type": "code",
   "execution_count": 19,
   "id": "0726cd47-5619-4c1a-a27a-d80a72df5096",
   "metadata": {},
   "outputs": [],
   "source": [
    "# 여기에 답안코드를 작성하세요.\n"
   ]
  },
  {
   "cell_type": "markdown",
   "id": "9d72df85-cb80-4f1b-a4db-01ea5b4ec30d",
   "metadata": {},
   "source": [
    "##### **<span style=\"color:red\">다음 문항을 풀기 전에</span> 아래 코드를 실행하세요.**"
   ]
  },
  {
   "cell_type": "code",
   "execution_count": 20,
   "id": "5f6e8b6d-f740-4d98-9189-78cdb98991d0",
   "metadata": {},
   "outputs": [],
   "source": [
    "import tensorflow as tf\n",
    "from tensorflow.keras.models import Sequential, load_model\n",
    "from tensorflow.keras.layers import Dense, Activation, Dropout, BatchNormalization\n",
    "from tensorflow.keras.callbacks import EarlyStopping, ModelCheckpoint\n",
    "from tensorflow.keras.utils import to_categorical\n",
    "\n",
    "tf.random.set_seed(1)"
   ]
  },
  {
   "cell_type": "markdown",
   "id": "67187f70-3bea-4266-8b91-25e67c2b71c7",
   "metadata": {},
   "source": [
    "### 15. 고객 이탈여부를 예측하는 딥러닝 모델을 만들려고 합니다.\n",
    "### 아래 가이드에 따라 모델링하고 학습을 진행하세요.\n",
    "* Tensoflow framework를 사용하여 딥러닝 모델을 만드세요.\n",
    "* 히든레이어(hidden layer) 2개이상으로 모델을 구성하세요.\n",
    "* dropout 비율 0.2로 Dropout 레이어 1개를 추가해 주세요.\n",
    "* 하이퍼파라미터 epochs: 30, batch_size: 16으로 설정해주세요.\n",
    "* 각 에포크마다 loss와 metrics 평가하기 위한 데이터로 X_valid, y_valid 사용하세요.\n",
    "* 학습정보는 history 변수에 저장해주세요"
   ]
  },
  {
   "cell_type": "code",
   "execution_count": 21,
   "id": "df129f00-16d9-427b-adef-af90f3ab177c",
   "metadata": {},
   "outputs": [],
   "source": [
    "# 여기에 답안코드를 작성하세요.\n"
   ]
  },
  {
   "cell_type": "markdown",
   "id": "12f33874-3f1e-4b63-ba3e-91d90ee5e512",
   "metadata": {},
   "source": [
    "<br>"
   ]
  },
  {
   "cell_type": "markdown",
   "id": "8989c197-ec84-4192-955d-1c52d34cb006",
   "metadata": {},
   "source": [
    "### 16. 위 딥러닝 모델의 성능을 평가하려고 합니다.\n",
    "### Matplotlib 라이브러리 활용해서 학습 accuracy와 검증 accuracy를 그래프로 표시하세요.\n",
    "* 1개의 그래프에 학습 accuracy와 검증 accuracy 2가지를 모두 표시하세요.\n",
    "* 위 2가지 각각의 범례를 'acc', 'val_macc'로 표시하세요.\n",
    "* 그래프의 타이틀은 'Accuracy'로 표시하세요.\n",
    "* X축에는 'Epochs'라고 표시하고 Y축에는 'Acc'라고 표시하세요."
   ]
  },
  {
   "cell_type": "code",
   "execution_count": 22,
   "id": "e5094d66-0b51-45bf-89f0-07af04d7909e",
   "metadata": {},
   "outputs": [],
   "source": [
    "# 여기에 답안코드를 작성하세요.\n"
   ]
  }
 ],
 "metadata": {
  "kernelspec": {
   "display_name": "Python 3 (ipykernel)",
   "language": "python",
   "name": "python3"
  },
  "language_info": {
   "codemirror_mode": {
    "name": "ipython",
    "version": 3
   },
   "file_extension": ".py",
   "mimetype": "text/x-python",
   "name": "python",
   "nbconvert_exporter": "python",
   "pygments_lexer": "ipython3",
   "version": "3.11.5"
  }
 },
 "nbformat": 4,
 "nbformat_minor": 5
}
