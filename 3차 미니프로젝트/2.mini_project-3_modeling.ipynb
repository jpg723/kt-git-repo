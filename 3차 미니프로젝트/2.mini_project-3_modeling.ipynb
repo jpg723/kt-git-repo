{
 "cells": [
  {
   "cell_type": "markdown",
   "metadata": {},
   "source": [
    "# **스마트폰 센서 데이터 기반 모션 분류**"
   ]
  },
  {
   "cell_type": "markdown",
   "metadata": {},
   "source": [
    "## 단계 2. 기본 모델링"
   ]
  },
  {
   "cell_type": "markdown",
   "metadata": {},
   "source": [
    "### Import Libraries"
   ]
  },
  {
   "cell_type": "code",
   "execution_count": 1,
   "metadata": {},
   "outputs": [],
   "source": [
    "import numpy as np\n",
    "import pandas as pd\n",
    "pd.set_option('display.max_columns',None)\n",
    "import matplotlib.pyplot as plt\n",
    "import seaborn as sns\n",
    "import warnings\n",
    "warnings.filterwarnings('ignore')\n",
    "\n",
    "from sklearn.model_selection import train_test_split\n",
    "from sklearn.preprocessing import LabelEncoder\n",
    "from sklearn.svm import SVC\n",
    "from xgboost import XGBClassifier\n",
    "from sklearn.metrics import *\n",
    "\n",
    "from keras.models import Sequential\n",
    "from keras.layers import Dense\n",
    "from keras.backend import clear_session\n",
    "from keras.optimizers.legacy import Adam # MacOS\n",
    "# from keras.optimizers import Adam # Windows\n",
    "from keras.callbacks import EarlyStopping\n",
    "from keras.utils import to_categorical"
   ]
  },
  {
   "cell_type": "markdown",
   "metadata": {},
   "source": [
    "### Load Data"
   ]
  },
  {
   "cell_type": "code",
   "execution_count": 2,
   "metadata": {},
   "outputs": [],
   "source": [
    "data = pd.read_csv('./data01_train.csv')"
   ]
  },
  {
   "cell_type": "markdown",
   "metadata": {},
   "source": [
    "### Data Pre-Processing"
   ]
  },
  {
   "cell_type": "code",
   "execution_count": 3,
   "metadata": {},
   "outputs": [],
   "source": [
    "# 사용하지 않을 변수 제거\n",
    "data.drop('subject',axis=1, inplace=True)"
   ]
  },
  {
   "cell_type": "markdown",
   "metadata": {},
   "source": [
    "#### (1) 데이터 분할"
   ]
  },
  {
   "cell_type": "code",
   "execution_count": 4,
   "metadata": {},
   "outputs": [
    {
     "name": "stdout",
     "output_type": "stream",
     "text": [
      "Index(['tBodyAcc-mean()-X', 'tBodyAcc-mean()-Y', 'tBodyAcc-mean()-Z',\n",
      "       'tBodyAcc-std()-X', 'tBodyAcc-std()-Y', 'tBodyAcc-std()-Z',\n",
      "       'tBodyAcc-mad()-X', 'tBodyAcc-mad()-Y', 'tBodyAcc-mad()-Z',\n",
      "       'tBodyAcc-max()-X',\n",
      "       ...\n",
      "       'fBodyBodyGyroJerkMag-skewness()', 'fBodyBodyGyroJerkMag-kurtosis()',\n",
      "       'angle(tBodyAccMean,gravity)', 'angle(tBodyAccJerkMean),gravityMean)',\n",
      "       'angle(tBodyGyroMean,gravityMean)',\n",
      "       'angle(tBodyGyroJerkMean,gravityMean)', 'angle(X,gravityMean)',\n",
      "       'angle(Y,gravityMean)', 'angle(Z,gravityMean)', 'Activity'],\n",
      "      dtype='object', length=562)\n"
     ]
    }
   ],
   "source": [
    "print(data.columns)"
   ]
  },
  {
   "cell_type": "code",
   "execution_count": 5,
   "metadata": {},
   "outputs": [],
   "source": [
    "X = data.drop('Activity',axis=1)\n",
    "y = data['Activity']"
   ]
  },
  {
   "cell_type": "code",
   "execution_count": 25,
   "metadata": {},
   "outputs": [],
   "source": [
    "# Y Label Encoder - 가변수화\n",
    "l_enc = LabelEncoder() \n",
    "y_le = l_enc.fit_transform(y)"
   ]
  },
  {
   "cell_type": "markdown",
   "metadata": {},
   "source": [
    "#### (2) 학습/검증 분리"
   ]
  },
  {
   "cell_type": "code",
   "execution_count": 8,
   "metadata": {},
   "outputs": [],
   "source": [
    "X_train, X_valid, y_train, y_valid = train_test_split(X, y_le, test_size=.2, random_state=530, stratify=y)"
   ]
  },
  {
   "cell_type": "markdown",
   "metadata": {},
   "source": [
    "### Modeling"
   ]
  },
  {
   "cell_type": "markdown",
   "metadata": {},
   "source": [
    "#### (1) Support Vector Machine"
   ]
  },
  {
   "cell_type": "code",
   "execution_count": 9,
   "metadata": {},
   "outputs": [
    {
     "name": "stdout",
     "output_type": "stream",
     "text": [
      "accuracy : 0.989804587935429\n",
      "============================================================\n",
      "[[223   0   0   0   0   0]\n",
      " [  0 196   9   0   0   1]\n",
      " [  0   2 216   0   0   0]\n",
      " [  0   0   0 200   0   0]\n",
      " [  0   0   0   0 158   0]\n",
      " [  0   0   0   0   0 172]]\n",
      "============================================================\n",
      "              precision    recall  f1-score   support\n",
      "\n",
      "           0       1.00      1.00      1.00       223\n",
      "           1       0.99      0.95      0.97       206\n",
      "           2       0.96      0.99      0.98       218\n",
      "           3       1.00      1.00      1.00       200\n",
      "           4       1.00      1.00      1.00       158\n",
      "           5       0.99      1.00      1.00       172\n",
      "\n",
      "    accuracy                           0.99      1177\n",
      "   macro avg       0.99      0.99      0.99      1177\n",
      "weighted avg       0.99      0.99      0.99      1177\n",
      "\n"
     ]
    }
   ],
   "source": [
    "# 모델 생성\n",
    "svc=SVC(kernel='rbf',C=100.0)\n",
    "\n",
    "# 모델 학습\n",
    "svc.fit(X_train,y_train)\n",
    "\n",
    "# 추론\n",
    "svc_pred = svc.predict(X_valid)\n",
    "\n",
    "#평가\n",
    "print('accuracy :',accuracy_score(y_valid, svc_pred))\n",
    "print('='*60)\n",
    "print(confusion_matrix(y_valid, svc_pred))\n",
    "print('='*60)\n",
    "print(classification_report(y_valid, svc_pred))"
   ]
  },
  {
   "cell_type": "markdown",
   "metadata": {},
   "source": [
    "#### (2) XGBoost"
   ]
  },
  {
   "cell_type": "code",
   "execution_count": 13,
   "metadata": {},
   "outputs": [
    {
     "name": "stdout",
     "output_type": "stream",
     "text": [
      "accuracy : 0.989804587935429\n",
      "============================================================\n",
      "[[223   0   0   0   0   0]\n",
      " [  0 199   7   0   0   0]\n",
      " [  0   2 216   0   0   0]\n",
      " [  0   0   0 200   0   0]\n",
      " [  0   0   0   1 156   1]\n",
      " [  0   0   0   1   0 171]]\n",
      "============================================================\n",
      "              precision    recall  f1-score   support\n",
      "\n",
      "           0       1.00      1.00      1.00       223\n",
      "           1       0.99      0.97      0.98       206\n",
      "           2       0.97      0.99      0.98       218\n",
      "           3       0.99      1.00      1.00       200\n",
      "           4       1.00      0.99      0.99       158\n",
      "           5       0.99      0.99      0.99       172\n",
      "\n",
      "    accuracy                           0.99      1177\n",
      "   macro avg       0.99      0.99      0.99      1177\n",
      "weighted avg       0.99      0.99      0.99      1177\n",
      "\n"
     ]
    }
   ],
   "source": [
    "# 모델 생성\n",
    "xgb = XGBClassifier()\n",
    "\n",
    "# 모델 학습\n",
    "xgb.fit(X_train,y_train)\n",
    "\n",
    "# 추론\n",
    "xgb_pred = xgb.predict(X_valid)\n",
    "\n",
    "#평가\n",
    "print('accuracy :',accuracy_score(y_valid, xgb_pred))\n",
    "print('='*60)\n",
    "print(confusion_matrix(y_valid, xgb_pred))\n",
    "print('='*60)\n",
    "print(classification_report(y_valid, xgb_pred))"
   ]
  },
  {
   "cell_type": "markdown",
   "metadata": {},
   "source": [
    "#### DNN"
   ]
  },
  {
   "cell_type": "code",
   "execution_count": 15,
   "metadata": {},
   "outputs": [],
   "source": [
    "# 학습곡선 함수\n",
    "def dl_history_plot(history):\n",
    "    plt.figure(figsize=(10,6))\n",
    "    plt.plot(history['loss'], label='train_err', marker = '.')\n",
    "    plt.plot(history['val_loss'], label='val_err', marker = '.')\n",
    "\n",
    "    plt.ylabel('Loss')\n",
    "    plt.xlabel('Epoch')\n",
    "    plt.legend()\n",
    "    plt.grid()\n",
    "    plt.show()"
   ]
  },
  {
   "cell_type": "code",
   "execution_count": 16,
   "metadata": {},
   "outputs": [
    {
     "name": "stdout",
     "output_type": "stream",
     "text": [
      "Model: \"sequential\"\n",
      "_________________________________________________________________\n",
      " Layer (type)                Output Shape              Param #   \n",
      "=================================================================\n",
      " dense (Dense)               (None, 256)               143872    \n",
      "                                                                 \n",
      " dense_1 (Dense)             (None, 128)               32896     \n",
      "                                                                 \n",
      " dense_2 (Dense)             (None, 64)                8256      \n",
      "                                                                 \n",
      " dense_3 (Dense)             (None, 6)                 390       \n",
      "                                                                 \n",
      "=================================================================\n",
      "Total params: 185414 (724.27 KB)\n",
      "Trainable params: 185414 (724.27 KB)\n",
      "Non-trainable params: 0 (0.00 Byte)\n",
      "_________________________________________________________________\n"
     ]
    }
   ],
   "source": [
    "# 모델 정의\n",
    "clear_session()\n",
    "def get_model(n_input):\n",
    "    model = Sequential()\n",
    "    model.add(Dense(256, input_dim=n_input, activation='elu'))\n",
    "    model.add(Dense(128, activation='elu'))\n",
    "    model.add(Dense(64, activation='elu'))\n",
    "    model.add(Dense(6, activation='softmax'))\n",
    "    model.compile( optimizer=Adam(learning_rate= 0.001),\n",
    "                  loss='sparse_categorical_crossentropy',\n",
    "                  metrics=['accuracy'])\n",
    "    return model\n",
    "   \n",
    "dnn_1 = get_model(X_train.shape[1])\n",
    "dnn_1.summary()"
   ]
  },
  {
   "cell_type": "code",
   "execution_count": 17,
   "metadata": {},
   "outputs": [
    {
     "name": "stderr",
     "output_type": "stream",
     "text": [
      "2024-03-27 22:17:58.856160: I tensorflow/core/grappler/optimizers/custom_graph_optimizer_registry.cc:117] Plugin optimizer for device_type GPU is enabled.\n"
     ]
    }
   ],
   "source": [
    "es = EarlyStopping(monitor = 'val_loss', patience = 20)\n",
    "\n",
    "hist_1 = dnn_1.fit(X_train,y_train,epochs=150,\n",
    "                   validation_split=.2,verbose=0,\n",
    "                   callbacks = [es], batch_size=32).history"
   ]
  },
  {
   "cell_type": "code",
   "execution_count": 18,
   "metadata": {},
   "outputs": [
    {
     "data": {
      "image/png": "[encoded data removed]",
      "text/plain": [
       "<Figure size 1000x600 with 1 Axes>"
      ]
     },
     "metadata": {},
     "output_type": "display_data"
    }
   ],
   "source": [
    "dl_history_plot(hist_1)"
   ]
  },
  {
   "cell_type": "code",
   "execution_count": 19,
   "metadata": {},
   "outputs": [
    {
     "name": "stdout",
     "output_type": "stream",
     "text": [
      "37/37 [==============================] - 0s 4ms/step\n",
      "accuracy : 0.9753610875106202\n",
      "============================================================\n",
      "[[223   0   0   0   0   0]\n",
      " [  1 194  10   0   0   1]\n",
      " [  0   9 209   0   0   0]\n",
      " [  0   0   0 200   0   0]\n",
      " [  0   0   0   0 150   8]\n",
      " [  0   0   0   0   0 172]]\n",
      "============================================================\n",
      "              precision    recall  f1-score   support\n",
      "\n",
      "           0       1.00      1.00      1.00       223\n",
      "           1       0.96      0.94      0.95       206\n",
      "           2       0.95      0.96      0.96       218\n",
      "           3       1.00      1.00      1.00       200\n",
      "           4       1.00      0.95      0.97       158\n",
      "           5       0.95      1.00      0.97       172\n",
      "\n",
      "    accuracy                           0.98      1177\n",
      "   macro avg       0.98      0.97      0.98      1177\n",
      "weighted avg       0.98      0.98      0.98      1177\n",
      "\n"
     ]
    }
   ],
   "source": [
    "pred_1 = dnn_1.predict(X_valid)\n",
    "pred_1 = pred_1.argmax(axis=1)\n",
    "\n",
    "#평가\n",
    "print('accuracy :',accuracy_score(y_valid, pred_1))\n",
    "print('='*60)\n",
    "print(confusion_matrix(y_valid, pred_1))\n",
    "print('='*60)\n",
    "print(classification_report(y_valid, pred_1))"
   ]
  },
  {
   "cell_type": "markdown",
   "metadata": {},
   "source": [
    "#### DNN(One-Hot Encoding)"
   ]
  },
  {
   "cell_type": "code",
   "execution_count": 20,
   "metadata": {},
   "outputs": [],
   "source": [
    "# 라벨을 원-핫 인코딩으로 변환\n",
    "y_train_oh = to_categorical(y_train, num_classes=6)"
   ]
  },
  {
   "cell_type": "code",
   "execution_count": 21,
   "metadata": {},
   "outputs": [
    {
     "name": "stdout",
     "output_type": "stream",
     "text": [
      "Model: \"sequential\"\n",
      "_________________________________________________________________\n",
      " Layer (type)                Output Shape              Param #   \n",
      "=================================================================\n",
      " dense (Dense)               (None, 256)               143872    \n",
      "                                                                 \n",
      " dense_1 (Dense)             (None, 128)               32896     \n",
      "                                                                 \n",
      " dense_2 (Dense)             (None, 64)                8256      \n",
      "                                                                 \n",
      " dense_3 (Dense)             (None, 6)                 390       \n",
      "                                                                 \n",
      "=================================================================\n",
      "Total params: 185414 (724.27 KB)\n",
      "Trainable params: 185414 (724.27 KB)\n",
      "Non-trainable params: 0 (0.00 Byte)\n",
      "_________________________________________________________________\n"
     ]
    }
   ],
   "source": [
    "# 모델 정의\n",
    "clear_session()\n",
    "def get_model_oh(n_input):\n",
    "    model = Sequential()\n",
    "    model.add(Dense(256, input_dim=n_input, activation='elu'))\n",
    "    model.add(Dense(128, activation='elu'))\n",
    "    model.add(Dense(64, activation='elu'))\n",
    "    model.add(Dense(6, activation='softmax'))\n",
    "    model.compile( optimizer=Adam(learning_rate= 0.001),\n",
    "                  loss='categorical_crossentropy',\n",
    "                  metrics=['accuracy'])\n",
    "    return model\n",
    "   \n",
    "dnn_2 = get_model_oh(X_train.shape[1])\n",
    "dnn_2.summary()"
   ]
  },
  {
   "cell_type": "code",
   "execution_count": 22,
   "metadata": {},
   "outputs": [],
   "source": [
    "es = EarlyStopping(monitor = 'val_loss', patience = 20)\n",
    "\n",
    "hist_2 = dnn_2.fit(X_train,y_train_oh,epochs=150,\n",
    "                   validation_split=.2,verbose=0,\n",
    "                   callbacks = [es], batch_size=32).history"
   ]
  },
  {
   "cell_type": "code",
   "execution_count": 23,
   "metadata": {},
   "outputs": [
    {
     "data": {
      "image/png": "[encoded data removed]",
      "text/plain": [
       "<Figure size 1000x600 with 1 Axes>"
      ]
     },
     "metadata": {},
     "output_type": "display_data"
    }
   ],
   "source": [
    "dl_history_plot(hist_2)"
   ]
  },
  {
   "cell_type": "code",
   "execution_count": 24,
   "metadata": {},
   "outputs": [
    {
     "name": "stdout",
     "output_type": "stream",
     "text": [
      "37/37 [==============================] - 0s 3ms/step\n",
      "accuracy : 0.9753610875106202\n",
      "============================================================\n",
      "[[223   0   0   0   0   0]\n",
      " [  0 188  17   0   0   1]\n",
      " [  0   4 213   0   0   1]\n",
      " [  0   0   0 200   0   0]\n",
      " [  0   0   0   0 158   0]\n",
      " [  0   0   0   0   6 166]]\n",
      "============================================================\n",
      "              precision    recall  f1-score   support\n",
      "\n",
      "           0       1.00      1.00      1.00       223\n",
      "           1       0.98      0.91      0.94       206\n",
      "           2       0.93      0.98      0.95       218\n",
      "           3       1.00      1.00      1.00       200\n",
      "           4       0.96      1.00      0.98       158\n",
      "           5       0.99      0.97      0.98       172\n",
      "\n",
      "    accuracy                           0.98      1177\n",
      "   macro avg       0.98      0.98      0.98      1177\n",
      "weighted avg       0.98      0.98      0.98      1177\n",
      "\n"
     ]
    }
   ],
   "source": [
    "pred_2 = dnn_2.predict(X_valid)\n",
    "pred_2 = pred_2.argmax(axis=1)\n",
    "\n",
    "#평가\n",
    "print('accuracy :',accuracy_score(y_valid, pred_2))\n",
    "print('='*60)\n",
    "print(confusion_matrix(y_valid, pred_2))\n",
    "print('='*60)\n",
    "print(classification_report(y_valid, pred_2))"
   ]
  },
  {
   "cell_type": "markdown",
   "metadata": {},
   "source": [
    "### 성능비교"
   ]
  },
  {
   "cell_type": "code",
   "execution_count": 26,
   "metadata": {},
   "outputs": [],
   "source": [
    "test_data = pd.read_csv('./data01_test.csv')\n",
    "test_data.drop('subject', axis=1, inplace=True)\n",
    "\n",
    "x_test = test_data.drop('Activity',axis=1)\n",
    "y_test = test_data['Activity']\n",
    "\n",
    "y_test_le = l_enc.transform(y_test)"
   ]
  },
  {
   "cell_type": "markdown",
   "metadata": {},
   "source": [
    "#### SVC Predict"
   ]
  },
  {
   "cell_type": "code",
   "execution_count": 27,
   "metadata": {},
   "outputs": [
    {
     "name": "stdout",
     "output_type": "stream",
     "text": [
      "accuracy : 0.9870836165873556\n",
      "============================================================\n",
      "[[292   0   0   0   0   0]\n",
      " [  0 246   8   0   0   0]\n",
      " [  0  10 277   0   0   0]\n",
      " [  0   0   0 228   0   0]\n",
      " [  0   0   0   0 195   0]\n",
      " [  0   0   0   1   0 214]]\n",
      "============================================================\n",
      "              precision    recall  f1-score   support\n",
      "\n",
      "           0       1.00      1.00      1.00       292\n",
      "           1       0.96      0.97      0.96       254\n",
      "           2       0.97      0.97      0.97       287\n",
      "           3       1.00      1.00      1.00       228\n",
      "           4       1.00      1.00      1.00       195\n",
      "           5       1.00      1.00      1.00       215\n",
      "\n",
      "    accuracy                           0.99      1471\n",
      "   macro avg       0.99      0.99      0.99      1471\n",
      "weighted avg       0.99      0.99      0.99      1471\n",
      "\n"
     ]
    }
   ],
   "source": [
    "# 추론\n",
    "pred_svc = svc.predict(x_test)\n",
    "\n",
    "#평가\n",
    "print('accuracy :',accuracy_score(y_test_le, pred_svc))\n",
    "print('='*60)\n",
    "print(confusion_matrix(y_test_le, pred_svc))\n",
    "print('='*60)\n",
    "print(classification_report(y_test_le, pred_svc))"
   ]
  },
  {
   "cell_type": "markdown",
   "metadata": {},
   "source": [
    "#### XGBoost Predict"
   ]
  },
  {
   "cell_type": "code",
   "execution_count": 28,
   "metadata": {},
   "outputs": [
    {
     "name": "stdout",
     "output_type": "stream",
     "text": [
      "accuracy : 0.9857239972807614\n",
      "============================================================\n",
      "[[291   0   0   0   0   1]\n",
      " [  0 245   9   0   0   0]\n",
      " [  0   4 282   0   0   1]\n",
      " [  0   0   0 225   0   3]\n",
      " [  0   0   0   2 193   0]\n",
      " [  0   0   0   1   0 214]]\n",
      "============================================================\n",
      "              precision    recall  f1-score   support\n",
      "\n",
      "           0       1.00      1.00      1.00       292\n",
      "           1       0.98      0.96      0.97       254\n",
      "           2       0.97      0.98      0.98       287\n",
      "           3       0.99      0.99      0.99       228\n",
      "           4       1.00      0.99      0.99       195\n",
      "           5       0.98      1.00      0.99       215\n",
      "\n",
      "    accuracy                           0.99      1471\n",
      "   macro avg       0.99      0.99      0.99      1471\n",
      "weighted avg       0.99      0.99      0.99      1471\n",
      "\n"
     ]
    }
   ],
   "source": [
    "# 추론\n",
    "pred_xgb = xgb.predict(x_test)\n",
    "\n",
    "#평가\n",
    "print('accuracy :',accuracy_score(y_test_le, pred_xgb))\n",
    "print('='*60)\n",
    "print(confusion_matrix(y_test_le, pred_xgb))\n",
    "print('='*60)\n",
    "print(classification_report(y_test_le, pred_xgb))"
   ]
  },
  {
   "cell_type": "markdown",
   "metadata": {},
   "source": [
    "#### DNN Predict"
   ]
  },
  {
   "cell_type": "code",
   "execution_count": 30,
   "metadata": {},
   "outputs": [
    {
     "name": "stdout",
     "output_type": "stream",
     "text": [
      "46/46 [==============================] - 0s 3ms/step\n",
      "accuracy : 0.9748470428280082\n",
      "============================================================\n",
      "[[292   0   0   0   0   0]\n",
      " [  0 243  11   0   0   0]\n",
      " [  0  16 271   0   0   0]\n",
      " [  0   0   2 226   0   0]\n",
      " [  0   0   0   0 189   6]\n",
      " [  0   0   1   1   0 213]]\n",
      "============================================================\n",
      "              precision    recall  f1-score   support\n",
      "\n",
      "           0       1.00      1.00      1.00       292\n",
      "           1       0.94      0.96      0.95       254\n",
      "           2       0.95      0.94      0.95       287\n",
      "           3       1.00      0.99      0.99       228\n",
      "           4       1.00      0.97      0.98       195\n",
      "           5       0.97      0.99      0.98       215\n",
      "\n",
      "    accuracy                           0.97      1471\n",
      "   macro avg       0.98      0.98      0.98      1471\n",
      "weighted avg       0.98      0.97      0.97      1471\n",
      "\n"
     ]
    }
   ],
   "source": [
    "pred_dnn_1 = dnn_1.predict(x_test)\n",
    "pred_dnn_1 = pred_dnn_1.argmax(axis=1)\n",
    "\n",
    "#평가\n",
    "print('accuracy :',accuracy_score(y_test_le, pred_dnn_1))\n",
    "print('='*60)\n",
    "print(confusion_matrix(y_test_le, pred_dnn_1))\n",
    "print('='*60)\n",
    "print(classification_report(y_test_le, pred_dnn_1))"
   ]
  },
  {
   "cell_type": "markdown",
   "metadata": {},
   "source": [
    "#### DNN(One-Hot Encoding) Predict"
   ]
  },
  {
   "cell_type": "code",
   "execution_count": 31,
   "metadata": {},
   "outputs": [
    {
     "name": "stdout",
     "output_type": "stream",
     "text": [
      "46/46 [==============================] - 0s 3ms/step\n",
      "accuracy : 0.9789259007477906\n",
      "============================================================\n",
      "[[292   0   0   0   0   0]\n",
      " [  0 239  13   0   0   2]\n",
      " [  0   7 278   0   0   2]\n",
      " [  0   0   0 223   1   4]\n",
      " [  0   0   0   0 195   0]\n",
      " [  0   0   0   1   1 213]]\n",
      "============================================================\n",
      "              precision    recall  f1-score   support\n",
      "\n",
      "           0       1.00      1.00      1.00       292\n",
      "           1       0.97      0.94      0.96       254\n",
      "           2       0.96      0.97      0.96       287\n",
      "           3       1.00      0.98      0.99       228\n",
      "           4       0.99      1.00      0.99       195\n",
      "           5       0.96      0.99      0.98       215\n",
      "\n",
      "    accuracy                           0.98      1471\n",
      "   macro avg       0.98      0.98      0.98      1471\n",
      "weighted avg       0.98      0.98      0.98      1471\n",
      "\n"
     ]
    }
   ],
   "source": [
    "y_test_oh = to_categorical(y_test_le, num_classes=6)\n",
    "\n",
    "pred_dnn_2 = dnn_2.predict(x_test)\n",
    "pred_dnn_2 = pred_dnn_2.argmax(axis=1)\n",
    "\n",
    "#평가\n",
    "print('accuracy :',accuracy_score(y_test_le, pred_dnn_2))\n",
    "print('='*60)\n",
    "print(confusion_matrix(y_test_le, pred_dnn_2))\n",
    "print('='*60)\n",
    "print(classification_report(y_test_le, pred_dnn_2))"
   ]
  },
  {
   "cell_type": "code",
   "execution_count": null,
   "metadata": {},
   "outputs": [],
   "source": []
  }
 ],
 "metadata": {
  "kernelspec": {
   "display_name": "TF",
   "language": "python",
   "name": "python3"
  },
  "language_info": {
   "codemirror_mode": {
    "name": "ipython",
    "version": 3
   },
   "file_extension": ".py",
   "mimetype": "text/x-python",
   "name": "python",
   "nbconvert_exporter": "python",
   "pygments_lexer": "ipython3",
   "version": "3.10.13"
  }
 },
 "nbformat": 4,
 "nbformat_minor": 2
}
