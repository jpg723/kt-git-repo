{
 "cells": [
  {
   "cell_type": "markdown",
   "id": "d6a3fec5",
   "metadata": {},
   "source": [
    "# 서울시 공유자전거 '따릉이' 수요 예측 프로젝트\n",
    "## 단계1. 데이터 전처리"
   ]
  },
  {
   "cell_type": "markdown",
   "id": "706c1f1a",
   "metadata": {},
   "source": [
    "## 0.프로젝트 소개\n",
    "\n",
    "### (1) 수행 목표 \n",
    "여러분은 서울시 정책 연구원으로써 서울시 공유자전거인 '따릉이'의 수요와 날씨간 연관성을 분석하라는 미션을 부여받았습니다.\n",
    "\n",
    "#### <font color=\"blue\"> 데이터 분석의 주 목적은 가치있는 정보를 찾아내는것!! </font>\n",
    "\n",
    "#### 우리가 풀어야 하는 문제는 무엇인가요?\n",
    "\n",
    " - 기상상황이 따릉이 수요에 주는 영향을 분석해봅시다.\n",
    "\n",
    "    * 1.데이터를 탐색하며 정보 획득\n",
    "        * 날씨 데이터와 서울시 공유 자전거 따릉이의 수요 데이터를 제공해드렸습니다. \n",
    "        * 우리는 따릉이의 수요와 날씨간 어떤 연관성이 있는지 탐색 해 봅시다.\n",
    "    * 2.EDA\n",
    "        * 주어진 데이터의 변수들을 분석해 봅시다. \n",
    "\n",
    "\n",
    "### (2) 데이터 소개\n",
    "\n",
    "#### 1) 기본 데이터\n",
    "\n",
    "        * 학습데이터 : sbikedata.csv\n",
    "\n",
    "#### 2) 데이터셋의 변수 소개\n",
    "\n",
    "        * date : 날짜\n",
    "        * hour : 시간\n",
    "        * temperature : 온도\n",
    "        * precipitation : 강우 여부, 비가 오지 않았으면 0, 비가 오면 1\n",
    "        * windspeed : 풍속(평균)\n",
    "        * humidity : 습도\n",
    "        * visibility : 시정(視程), 시계(視界)(특정 기상 상태에 따른 가시성을 의미)\n",
    "        * ozone : 오존 수치\n",
    "        * PM10 : 미세먼지 수치(머리카락 굵기의 1/5에서 1/7 크기의 미세먼지)\n",
    "        * PM2.5 : 초미세먼지 수치(머리카락 굵기의 1/20에서 1/30 크기의 미세먼지)\n",
    "        * count : 시간에 따른 따릉이 대여 수\n"
   ]
  },
  {
   "cell_type": "markdown",
   "id": "1f75d42d",
   "metadata": {},
   "source": [
    "## 1.환경설정"
   ]
  },
  {
   "cell_type": "markdown",
   "id": "eab3d3b0",
   "metadata": {},
   "source": [
    "* 세부 요구사항\n",
    "    - 경로 설정 \n",
    "        * 로컬 수행(Ananconda)\n",
    "            * 제공된 압축파일을 다운받아 압축을 풀고\n",
    "            * anaconda의 root directory(보통 C:/Users/< ID > 에 project 폴더를 만들고, 복사해 넣습니다.\n",
    "        \n",
    "    - 기본적으로 필요한 라이브러리를 import 하도록 코드가 작성되어 있습니다. \n",
    "        * 필요하다고 판단되는 라이브러리를 추가하세요."
   ]
  },
  {
   "cell_type": "markdown",
   "id": "38b44a6e",
   "metadata": {},
   "source": [
    "### (1) 경로 설정 및 라이브러리 로딩\n",
    "* 이번 프로젝트는 로컬환경에서 진행합니다."
   ]
  },
  {
   "cell_type": "markdown",
   "id": "84eef66f",
   "metadata": {},
   "source": [
    "#### 1) 로컬 수행(Anaconda)\n",
    "* project 폴더에 필요한 파일들을 넣고, 본 파일을 열었다면, 별도 경로 지정이 필요하지 않습니다."
   ]
  },
  {
   "cell_type": "code",
   "execution_count": null,
   "id": "48878d45",
   "metadata": {},
   "outputs": [],
   "source": [
    "# path = 'C:/Users/User/'"
   ]
  },
  {
   "cell_type": "markdown",
   "id": "26d9ab4e",
   "metadata": {},
   "source": [
    "#### 2) 라이브러리 로딩"
   ]
  },
  {
   "cell_type": "code",
   "execution_count": 1,
   "id": "024f6e60",
   "metadata": {
    "tags": []
   },
   "outputs": [],
   "source": [
    "import pandas as pd\n",
    "import numpy as np\n",
    "import matplotlib.pyplot as plt\n",
    "import seaborn as sns\n",
    "\n",
    "from statsmodels.graphics.mosaicplot import mosaic\n",
    "from scipy import stats as spst\n",
    "import statsmodels.api as sm\n",
    "import joblib\n",
    "\n",
    "# 더 필요한 라이브러리를 아래에 추가합니다.\n",
    "\n"
   ]
  },
  {
   "cell_type": "markdown",
   "id": "2b70c230",
   "metadata": {},
   "source": [
    "### (2) 데이터 불러오기\n",
    "* 주어진 데이터셋\n",
    "    * 따릉이 수요 및 날씨 데이터 : sbikedata.csv"
   ]
  },
  {
   "cell_type": "markdown",
   "id": "39dcb980",
   "metadata": {},
   "source": [
    "#### 1) 데이터로딩"
   ]
  },
  {
   "cell_type": "code",
   "execution_count": 95,
   "id": "1d3deb9c",
   "metadata": {
    "tags": []
   },
   "outputs": [],
   "source": [
    "# 아래에 실습코드를 작성하고 결과를 확인합니다.\n",
    "\n",
    "data = pd.read_csv('sbikedata.csv')"
   ]
  },
  {
   "cell_type": "markdown",
   "id": "4ed61f29",
   "metadata": {},
   "source": [
    "#### 2) 기본 정보 조회\n",
    "- 데이터를 head, tail. describe, info 등을 활용하여 확인하세요."
   ]
  },
  {
   "cell_type": "code",
   "execution_count": 4,
   "id": "862f8a38",
   "metadata": {
    "collapsed": true,
    "jupyter": {
     "outputs_hidden": true
    },
    "tags": []
   },
   "outputs": [
    {
     "data": {
      "text/html": [
       "<div>\n",
       "<style scoped>\n",
       "    .dataframe tbody tr th:only-of-type {\n",
       "        vertical-align: middle;\n",
       "    }\n",
       "\n",
       "    .dataframe tbody tr th {\n",
       "        vertical-align: top;\n",
       "    }\n",
       "\n",
       "    .dataframe thead th {\n",
       "        text-align: right;\n",
       "    }\n",
       "</style>\n",
       "<table border=\"1\" class=\"dataframe\">\n",
       "  <thead>\n",
       "    <tr style=\"text-align: right;\">\n",
       "      <th></th>\n",
       "      <th>date</th>\n",
       "      <th>hour</th>\n",
       "      <th>PM10</th>\n",
       "      <th>PM2.5</th>\n",
       "      <th>ozone</th>\n",
       "      <th>temperature</th>\n",
       "      <th>precipitation</th>\n",
       "      <th>windspeed</th>\n",
       "      <th>humidity</th>\n",
       "      <th>visibility</th>\n",
       "      <th>count</th>\n",
       "    </tr>\n",
       "  </thead>\n",
       "  <tbody>\n",
       "    <tr>\n",
       "      <th>0</th>\n",
       "      <td>2021-04-01</td>\n",
       "      <td>1</td>\n",
       "      <td>42.0</td>\n",
       "      <td>21.0</td>\n",
       "      <td>0.002</td>\n",
       "      <td>13.1</td>\n",
       "      <td>0</td>\n",
       "      <td>1.4</td>\n",
       "      <td>49</td>\n",
       "      <td>2000</td>\n",
       "      <td>46</td>\n",
       "    </tr>\n",
       "    <tr>\n",
       "      <th>1</th>\n",
       "      <td>2021-04-01</td>\n",
       "      <td>2</td>\n",
       "      <td>41.0</td>\n",
       "      <td>21.0</td>\n",
       "      <td>0.003</td>\n",
       "      <td>12.4</td>\n",
       "      <td>0</td>\n",
       "      <td>2.1</td>\n",
       "      <td>53</td>\n",
       "      <td>2000</td>\n",
       "      <td>40</td>\n",
       "    </tr>\n",
       "    <tr>\n",
       "      <th>2</th>\n",
       "      <td>2021-04-01</td>\n",
       "      <td>3</td>\n",
       "      <td>30.0</td>\n",
       "      <td>13.0</td>\n",
       "      <td>0.023</td>\n",
       "      <td>13.1</td>\n",
       "      <td>0</td>\n",
       "      <td>3.4</td>\n",
       "      <td>43</td>\n",
       "      <td>2000</td>\n",
       "      <td>31</td>\n",
       "    </tr>\n",
       "    <tr>\n",
       "      <th>3</th>\n",
       "      <td>2021-04-01</td>\n",
       "      <td>4</td>\n",
       "      <td>27.0</td>\n",
       "      <td>12.0</td>\n",
       "      <td>0.028</td>\n",
       "      <td>13.0</td>\n",
       "      <td>0</td>\n",
       "      <td>3.1</td>\n",
       "      <td>44</td>\n",
       "      <td>2000</td>\n",
       "      <td>12</td>\n",
       "    </tr>\n",
       "    <tr>\n",
       "      <th>4</th>\n",
       "      <td>2021-04-01</td>\n",
       "      <td>5</td>\n",
       "      <td>29.0</td>\n",
       "      <td>14.0</td>\n",
       "      <td>0.008</td>\n",
       "      <td>13.0</td>\n",
       "      <td>0</td>\n",
       "      <td>2.9</td>\n",
       "      <td>44</td>\n",
       "      <td>2000</td>\n",
       "      <td>30</td>\n",
       "    </tr>\n",
       "  </tbody>\n",
       "</table>\n",
       "</div>"
      ],
      "text/plain": [
       "         date  hour  PM10  PM2.5  ozone  temperature  precipitation  \\\n",
       "0  2021-04-01     1  42.0   21.0  0.002         13.1              0   \n",
       "1  2021-04-01     2  41.0   21.0  0.003         12.4              0   \n",
       "2  2021-04-01     3  30.0   13.0  0.023         13.1              0   \n",
       "3  2021-04-01     4  27.0   12.0  0.028         13.0              0   \n",
       "4  2021-04-01     5  29.0   14.0  0.008         13.0              0   \n",
       "\n",
       "   windspeed  humidity  visibility  count  \n",
       "0        1.4        49        2000     46  \n",
       "1        2.1        53        2000     40  \n",
       "2        3.4        43        2000     31  \n",
       "3        3.1        44        2000     12  \n",
       "4        2.9        44        2000     30  "
      ]
     },
     "execution_count": 4,
     "metadata": {},
     "output_type": "execute_result"
    }
   ],
   "source": [
    "# 아래에 실습코드를 작성하고 결과를 확인합니다.\n",
    "\n",
    "data.head()"
   ]
  },
  {
   "cell_type": "code",
   "execution_count": 5,
   "id": "69c3c6c7",
   "metadata": {
    "collapsed": true,
    "jupyter": {
     "outputs_hidden": true
    },
    "tags": []
   },
   "outputs": [
    {
     "data": {
      "text/html": [
       "<div>\n",
       "<style scoped>\n",
       "    .dataframe tbody tr th:only-of-type {\n",
       "        vertical-align: middle;\n",
       "    }\n",
       "\n",
       "    .dataframe tbody tr th {\n",
       "        vertical-align: top;\n",
       "    }\n",
       "\n",
       "    .dataframe thead th {\n",
       "        text-align: right;\n",
       "    }\n",
       "</style>\n",
       "<table border=\"1\" class=\"dataframe\">\n",
       "  <thead>\n",
       "    <tr style=\"text-align: right;\">\n",
       "      <th></th>\n",
       "      <th>date</th>\n",
       "      <th>hour</th>\n",
       "      <th>PM10</th>\n",
       "      <th>PM2.5</th>\n",
       "      <th>ozone</th>\n",
       "      <th>temperature</th>\n",
       "      <th>precipitation</th>\n",
       "      <th>windspeed</th>\n",
       "      <th>humidity</th>\n",
       "      <th>visibility</th>\n",
       "      <th>count</th>\n",
       "    </tr>\n",
       "  </thead>\n",
       "  <tbody>\n",
       "    <tr>\n",
       "      <th>5822</th>\n",
       "      <td>2021-11-29</td>\n",
       "      <td>20</td>\n",
       "      <td>74.0</td>\n",
       "      <td>58.0</td>\n",
       "      <td>0.002</td>\n",
       "      <td>9.3</td>\n",
       "      <td>0</td>\n",
       "      <td>0.3</td>\n",
       "      <td>66</td>\n",
       "      <td>1193</td>\n",
       "      <td>273</td>\n",
       "    </tr>\n",
       "    <tr>\n",
       "      <th>5823</th>\n",
       "      <td>2021-11-29</td>\n",
       "      <td>21</td>\n",
       "      <td>65.0</td>\n",
       "      <td>56.0</td>\n",
       "      <td>0.002</td>\n",
       "      <td>8.4</td>\n",
       "      <td>0</td>\n",
       "      <td>2.0</td>\n",
       "      <td>70</td>\n",
       "      <td>1233</td>\n",
       "      <td>228</td>\n",
       "    </tr>\n",
       "    <tr>\n",
       "      <th>5824</th>\n",
       "      <td>2021-11-29</td>\n",
       "      <td>22</td>\n",
       "      <td>51.0</td>\n",
       "      <td>41.0</td>\n",
       "      <td>0.002</td>\n",
       "      <td>8.6</td>\n",
       "      <td>0</td>\n",
       "      <td>1.9</td>\n",
       "      <td>70</td>\n",
       "      <td>1250</td>\n",
       "      <td>215</td>\n",
       "    </tr>\n",
       "    <tr>\n",
       "      <th>5825</th>\n",
       "      <td>2021-11-29</td>\n",
       "      <td>23</td>\n",
       "      <td>43.0</td>\n",
       "      <td>35.0</td>\n",
       "      <td>0.001</td>\n",
       "      <td>8.2</td>\n",
       "      <td>0</td>\n",
       "      <td>2.1</td>\n",
       "      <td>71</td>\n",
       "      <td>1262</td>\n",
       "      <td>125</td>\n",
       "    </tr>\n",
       "    <tr>\n",
       "      <th>5826</th>\n",
       "      <td>2021-11-30</td>\n",
       "      <td>0</td>\n",
       "      <td>39.0</td>\n",
       "      <td>31.0</td>\n",
       "      <td>0.004</td>\n",
       "      <td>7.9</td>\n",
       "      <td>0</td>\n",
       "      <td>2.3</td>\n",
       "      <td>71</td>\n",
       "      <td>1483</td>\n",
       "      <td>95</td>\n",
       "    </tr>\n",
       "  </tbody>\n",
       "</table>\n",
       "</div>"
      ],
      "text/plain": [
       "            date  hour  PM10  PM2.5  ozone  temperature  precipitation  \\\n",
       "5822  2021-11-29    20  74.0   58.0  0.002          9.3              0   \n",
       "5823  2021-11-29    21  65.0   56.0  0.002          8.4              0   \n",
       "5824  2021-11-29    22  51.0   41.0  0.002          8.6              0   \n",
       "5825  2021-11-29    23  43.0   35.0  0.001          8.2              0   \n",
       "5826  2021-11-30     0  39.0   31.0  0.004          7.9              0   \n",
       "\n",
       "      windspeed  humidity  visibility  count  \n",
       "5822        0.3        66        1193    273  \n",
       "5823        2.0        70        1233    228  \n",
       "5824        1.9        70        1250    215  \n",
       "5825        2.1        71        1262    125  \n",
       "5826        2.3        71        1483     95  "
      ]
     },
     "execution_count": 5,
     "metadata": {},
     "output_type": "execute_result"
    }
   ],
   "source": [
    "# 아래에 실습코드를 작성하고 결과를 확인합니다.\n",
    "\n",
    "data.tail()"
   ]
  },
  {
   "cell_type": "code",
   "execution_count": 6,
   "id": "3396bdcc",
   "metadata": {
    "collapsed": true,
    "jupyter": {
     "outputs_hidden": true
    },
    "tags": []
   },
   "outputs": [
    {
     "data": {
      "text/html": [
       "<div>\n",
       "<style scoped>\n",
       "    .dataframe tbody tr th:only-of-type {\n",
       "        vertical-align: middle;\n",
       "    }\n",
       "\n",
       "    .dataframe tbody tr th {\n",
       "        vertical-align: top;\n",
       "    }\n",
       "\n",
       "    .dataframe thead th {\n",
       "        text-align: right;\n",
       "    }\n",
       "</style>\n",
       "<table border=\"1\" class=\"dataframe\">\n",
       "  <thead>\n",
       "    <tr style=\"text-align: right;\">\n",
       "      <th></th>\n",
       "      <th>hour</th>\n",
       "      <th>PM10</th>\n",
       "      <th>PM2.5</th>\n",
       "      <th>ozone</th>\n",
       "      <th>temperature</th>\n",
       "      <th>precipitation</th>\n",
       "      <th>windspeed</th>\n",
       "      <th>humidity</th>\n",
       "      <th>visibility</th>\n",
       "      <th>count</th>\n",
       "    </tr>\n",
       "  </thead>\n",
       "  <tbody>\n",
       "    <tr>\n",
       "      <th>count</th>\n",
       "      <td>5827.000000</td>\n",
       "      <td>5725.000000</td>\n",
       "      <td>5732.000000</td>\n",
       "      <td>5699.000000</td>\n",
       "      <td>5827.000000</td>\n",
       "      <td>5827.000000</td>\n",
       "      <td>5827.000000</td>\n",
       "      <td>5827.000000</td>\n",
       "      <td>5827.000000</td>\n",
       "      <td>5827.000000</td>\n",
       "    </tr>\n",
       "    <tr>\n",
       "      <th>mean</th>\n",
       "      <td>11.506607</td>\n",
       "      <td>31.970655</td>\n",
       "      <td>15.666609</td>\n",
       "      <td>0.031811</td>\n",
       "      <td>19.376798</td>\n",
       "      <td>0.075511</td>\n",
       "      <td>2.237601</td>\n",
       "      <td>68.608718</td>\n",
       "      <td>1758.438648</td>\n",
       "      <td>215.117899</td>\n",
       "    </tr>\n",
       "    <tr>\n",
       "      <th>std</th>\n",
       "      <td>6.921963</td>\n",
       "      <td>42.987292</td>\n",
       "      <td>13.850990</td>\n",
       "      <td>0.018277</td>\n",
       "      <td>7.501572</td>\n",
       "      <td>0.264236</td>\n",
       "      <td>1.054516</td>\n",
       "      <td>17.277266</td>\n",
       "      <td>490.969394</td>\n",
       "      <td>185.972900</td>\n",
       "    </tr>\n",
       "    <tr>\n",
       "      <th>min</th>\n",
       "      <td>0.000000</td>\n",
       "      <td>3.000000</td>\n",
       "      <td>1.000000</td>\n",
       "      <td>0.001000</td>\n",
       "      <td>-3.500000</td>\n",
       "      <td>0.000000</td>\n",
       "      <td>0.000000</td>\n",
       "      <td>19.000000</td>\n",
       "      <td>60.000000</td>\n",
       "      <td>1.000000</td>\n",
       "    </tr>\n",
       "    <tr>\n",
       "      <th>25%</th>\n",
       "      <td>6.000000</td>\n",
       "      <td>16.000000</td>\n",
       "      <td>7.000000</td>\n",
       "      <td>0.019000</td>\n",
       "      <td>14.100000</td>\n",
       "      <td>0.000000</td>\n",
       "      <td>1.500000</td>\n",
       "      <td>56.000000</td>\n",
       "      <td>1935.500000</td>\n",
       "      <td>53.000000</td>\n",
       "    </tr>\n",
       "    <tr>\n",
       "      <th>50%</th>\n",
       "      <td>12.000000</td>\n",
       "      <td>25.000000</td>\n",
       "      <td>13.000000</td>\n",
       "      <td>0.031000</td>\n",
       "      <td>20.400000</td>\n",
       "      <td>0.000000</td>\n",
       "      <td>2.200000</td>\n",
       "      <td>70.000000</td>\n",
       "      <td>2000.000000</td>\n",
       "      <td>186.000000</td>\n",
       "    </tr>\n",
       "    <tr>\n",
       "      <th>75%</th>\n",
       "      <td>18.000000</td>\n",
       "      <td>37.000000</td>\n",
       "      <td>20.000000</td>\n",
       "      <td>0.041000</td>\n",
       "      <td>24.900000</td>\n",
       "      <td>0.000000</td>\n",
       "      <td>2.800000</td>\n",
       "      <td>82.000000</td>\n",
       "      <td>2000.000000</td>\n",
       "      <td>315.000000</td>\n",
       "    </tr>\n",
       "    <tr>\n",
       "      <th>max</th>\n",
       "      <td>23.000000</td>\n",
       "      <td>827.000000</td>\n",
       "      <td>125.000000</td>\n",
       "      <td>0.137000</td>\n",
       "      <td>36.300000</td>\n",
       "      <td>1.000000</td>\n",
       "      <td>8.300000</td>\n",
       "      <td>100.000000</td>\n",
       "      <td>2000.000000</td>\n",
       "      <td>1746.000000</td>\n",
       "    </tr>\n",
       "  </tbody>\n",
       "</table>\n",
       "</div>"
      ],
      "text/plain": [
       "              hour         PM10        PM2.5        ozone  temperature  \\\n",
       "count  5827.000000  5725.000000  5732.000000  5699.000000  5827.000000   \n",
       "mean     11.506607    31.970655    15.666609     0.031811    19.376798   \n",
       "std       6.921963    42.987292    13.850990     0.018277     7.501572   \n",
       "min       0.000000     3.000000     1.000000     0.001000    -3.500000   \n",
       "25%       6.000000    16.000000     7.000000     0.019000    14.100000   \n",
       "50%      12.000000    25.000000    13.000000     0.031000    20.400000   \n",
       "75%      18.000000    37.000000    20.000000     0.041000    24.900000   \n",
       "max      23.000000   827.000000   125.000000     0.137000    36.300000   \n",
       "\n",
       "       precipitation    windspeed     humidity   visibility        count  \n",
       "count    5827.000000  5827.000000  5827.000000  5827.000000  5827.000000  \n",
       "mean        0.075511     2.237601    68.608718  1758.438648   215.117899  \n",
       "std         0.264236     1.054516    17.277266   490.969394   185.972900  \n",
       "min         0.000000     0.000000    19.000000    60.000000     1.000000  \n",
       "25%         0.000000     1.500000    56.000000  1935.500000    53.000000  \n",
       "50%         0.000000     2.200000    70.000000  2000.000000   186.000000  \n",
       "75%         0.000000     2.800000    82.000000  2000.000000   315.000000  \n",
       "max         1.000000     8.300000   100.000000  2000.000000  1746.000000  "
      ]
     },
     "execution_count": 6,
     "metadata": {},
     "output_type": "execute_result"
    }
   ],
   "source": [
    "# 아래에 실습코드를 작성하고 결과를 확인합니다.\n",
    "\n",
    "data.describe()"
   ]
  },
  {
   "cell_type": "code",
   "execution_count": 7,
   "id": "7b9a3238",
   "metadata": {
    "collapsed": true,
    "jupyter": {
     "outputs_hidden": true
    },
    "tags": []
   },
   "outputs": [
    {
     "name": "stdout",
     "output_type": "stream",
     "text": [
      "<class 'pandas.core.frame.DataFrame'>\n",
      "RangeIndex: 5827 entries, 0 to 5826\n",
      "Data columns (total 11 columns):\n",
      " #   Column         Non-Null Count  Dtype  \n",
      "---  ------         --------------  -----  \n",
      " 0   date           5827 non-null   object \n",
      " 1   hour           5827 non-null   int64  \n",
      " 2   PM10           5725 non-null   float64\n",
      " 3   PM2.5          5732 non-null   float64\n",
      " 4   ozone          5699 non-null   float64\n",
      " 5   temperature    5827 non-null   float64\n",
      " 6   precipitation  5827 non-null   int64  \n",
      " 7   windspeed      5827 non-null   float64\n",
      " 8   humidity       5827 non-null   int64  \n",
      " 9   visibility     5827 non-null   int64  \n",
      " 10  count          5827 non-null   int64  \n",
      "dtypes: float64(5), int64(5), object(1)\n",
      "memory usage: 500.9+ KB\n"
     ]
    }
   ],
   "source": [
    "# 아래에 실습코드를 작성하고 결과를 확인합니다.\n",
    "\n",
    "data.info()"
   ]
  },
  {
   "cell_type": "markdown",
   "id": "8e126a7d",
   "metadata": {},
   "source": [
    "## 2.EDA 1단계 - 데이터 기본 탐색\n",
    "\n",
    "* 단변량 분석은 데이터분석의 매우 기초적인 분석기법으로, 독립적인 개별 변수가 가지고있는 특성들을 이해하는 과정입니다.\n",
    "\n",
    "    * <span style=\"color: green\"> 개별 변수에 대해 아래 사항들을 분석해보세요. </span>\n",
    "\n",
    "        1. 변수가 내포하고 있는 의미\n",
    "        2. 변수가 수치형인지, 범주형인지\n",
    "        3. 결측치 존재 여부 및 조치 방안\n",
    "        4. 기초 통계량 확인\n",
    "        5. 데이터 분포 확인\n",
    "        6. 위 정보로부터 파악한 내용 정리\n",
    "        7. 추가 분석사항 도출"
   ]
  },
  {
   "cell_type": "markdown",
   "id": "dc63b28e",
   "metadata": {},
   "source": [
    "### (1) 변수별 단변량 분석"
   ]
  },
  {
   "cell_type": "markdown",
   "id": "e3fe59cc",
   "metadata": {},
   "source": [
    "#### 1) Feature1 : hour"
   ]
  },
  {
   "cell_type": "code",
   "execution_count": 20,
   "id": "d098623d",
   "metadata": {
    "tags": []
   },
   "outputs": [
    {
     "data": {
      "text/plain": [
       "array([ 1,  2,  3,  4,  5,  6,  7,  8,  9, 10, 11, 12, 13, 14, 15, 16, 17,\n",
       "       18, 19, 20, 21, 22, 23,  0], dtype=int64)"
      ]
     },
     "execution_count": 20,
     "metadata": {},
     "output_type": "execute_result"
    }
   ],
   "source": [
    "# 아래에 실습코드를 작성하고 결과를 확인합니다.\n",
    "\n",
    "data['hour'].unique()"
   ]
  },
  {
   "cell_type": "markdown",
   "id": "74305cdf",
   "metadata": {},
   "source": [
    "변수가 내포하고 있는 의미\n",
    "- 시간을 24시로 표현"
   ]
  },
  {
   "cell_type": "markdown",
   "id": "f5598656",
   "metadata": {},
   "source": [
    "변수가 수치형인지 범주형인지\n",
    "- 시간은 범주형? 수치형?\n",
    "-> 수치형이다."
   ]
  },
  {
   "cell_type": "code",
   "execution_count": 9,
   "id": "17431249",
   "metadata": {
    "tags": []
   },
   "outputs": [
    {
     "data": {
      "text/plain": [
       "dtype('int64')"
      ]
     },
     "execution_count": 9,
     "metadata": {},
     "output_type": "execute_result"
    }
   ],
   "source": [
    "# 아래에 실습코드를 작성하고 결과를 확인합니다.\n",
    "\n",
    "data['hour'].dtype"
   ]
  },
  {
   "cell_type": "markdown",
   "id": "52aeba21",
   "metadata": {},
   "source": [
    "변수의 결측치 존재 여부 및 조치방안"
   ]
  },
  {
   "cell_type": "code",
   "execution_count": 14,
   "id": "b35f59ce",
   "metadata": {
    "tags": []
   },
   "outputs": [
    {
     "data": {
      "text/plain": [
       "0"
      ]
     },
     "execution_count": 14,
     "metadata": {},
     "output_type": "execute_result"
    }
   ],
   "source": [
    "# 아래에 실습코드를 작성하고 결과를 확인합니다.\n",
    "\n",
    "# 결측치 확인\n",
    "data['hour'].isnull().sum()"
   ]
  },
  {
   "cell_type": "markdown",
   "id": "2d9760fd",
   "metadata": {},
   "source": [
    "변수의 기초 통계량 확인"
   ]
  },
  {
   "cell_type": "code",
   "execution_count": 11,
   "id": "a749aab7",
   "metadata": {
    "tags": []
   },
   "outputs": [
    {
     "data": {
      "text/plain": [
       "count    5827.000000\n",
       "mean       11.506607\n",
       "std         6.921963\n",
       "min         0.000000\n",
       "25%         6.000000\n",
       "50%        12.000000\n",
       "75%        18.000000\n",
       "max        23.000000\n",
       "Name: hour, dtype: float64"
      ]
     },
     "execution_count": 11,
     "metadata": {},
     "output_type": "execute_result"
    }
   ],
   "source": [
    "# 아래에 실습코드를 작성하고 결과를 확인합니다.\n",
    "\n",
    "data['hour'].describe()"
   ]
  },
  {
   "cell_type": "markdown",
   "id": "4eb1b708",
   "metadata": {},
   "source": [
    "변수의 분포 확인\n",
    "* kdeplot 활용"
   ]
  },
  {
   "cell_type": "code",
   "execution_count": 36,
   "id": "ad5e55cb",
   "metadata": {
    "tags": []
   },
   "outputs": [
    {
     "data": {
      "image/png": "[encoded data removed]",
      "text/plain": [
       "<Figure size 640x480 with 1 Axes>"
      ]
     },
     "metadata": {},
     "output_type": "display_data"
    }
   ],
   "source": [
    "# 아래에 실습코드를 작성하고 결과를 확인합니다.\n",
    "\n",
    "sns.kdeplot(data=data['hour'])\n",
    "plt.xlabel('hour')\n",
    "plt.ylabel('Density')\n",
    "plt.title('Distribution of hour Variable')\n",
    "plt.show()"
   ]
  },
  {
   "cell_type": "markdown",
   "id": "314284e2",
   "metadata": {},
   "source": [
    "위 정보로 부터 파악한 내용 정리\n",
    "- 데이터의 '시간' 열은 5827개 row로 구성되어있으며 결측치는 없음\n",
    "- 0시 및 일부 중간시간대 데이터가 비어있음"
   ]
  },
  {
   "cell_type": "markdown",
   "id": "a3ce1e2a",
   "metadata": {},
   "source": [
    "#### 2) Feature2 : temperature"
   ]
  },
  {
   "cell_type": "markdown",
   "id": "bdf00b61",
   "metadata": {},
   "source": [
    "변수가 내포하고 있는 의미\n",
    "- 따릉이 대여 시점의 온도\n"
   ]
  },
  {
   "cell_type": "code",
   "execution_count": 21,
   "id": "ad088ce4",
   "metadata": {
    "collapsed": true,
    "jupyter": {
     "outputs_hidden": true
    },
    "tags": []
   },
   "outputs": [
    {
     "data": {
      "text/plain": [
       "array([13.1, 12.4, 13. , 12.6, 12. , 14. , 16.2, 18.2, 20.2, 21.7, 22.6,\n",
       "       23.6, 23.2, 23.5, 23. , 22.3, 20.6, 19.2, 18.1, 16.5, 15.4, 14.6,\n",
       "       14.2, 13.7, 12.9, 12.8, 12.7, 13.6, 17.4, 18.9, 20.7, 21.6, 22. ,\n",
       "       22.9, 21. , 19.9, 19.4, 19. , 18.8, 18.4, 18. , 17.7, 17.6, 17.3,\n",
       "       17.5, 16.8, 15.8, 14.9, 14.8, 14.5, 14.4, 14.3, 13.5, 12.5, 11.7,\n",
       "       11.4, 10.9, 10.5, 10.3, 10.4, 10.2,  9.7,  9.5,  9.6, 10. , 10.7,\n",
       "       11.6, 14.7, 15.5, 15. , 12.3,  9. ,  8.1,  7.4,  6.8,  6.5,  6.1,\n",
       "        5.5,  5.4,  7.9, 16.6, 17.9, 15.9, 13.3, 10.6, 10.8,  9.4, 16.1,\n",
       "       17. , 18.6, 16. , 15.1, 12.1,  8.7,  8.2,  8.3, 16.7, 19.3, 20.4,\n",
       "       19.7, 13.8, 11.3, 10.1,  8.9,  7.6,  7.2, 13.9, 17.8, 11.2,  8.6,\n",
       "        7.8,  7.7,  8.8, 17.2, 19.5, 18.5,  9.8,  9.1,  8. , 15.2, 18.3,\n",
       "       11.8,  8.4, 12.2, 17.1, 20.8, 21.2, 21.5, 16.9, 11. , 11.1, 11.9,\n",
       "       11.5,  5.7,  5. ,  4.6,  3.9,  3.4,  3.1,  7.1,  6.6,  6.4,  6.7,\n",
       "        6.9,  7. ,  7.3,  6.2, 13.2,  5.8,  5.6,  8.5, 14.1,  9.9,  9.2,\n",
       "        6.3, 16.3, 16.4, 15.6, 21.8, 20.3, 21.1, 23.1, 24.7, 26.4, 27.6,\n",
       "       28.1, 27.8, 26.1, 24.1, 22.7, 19.8, 18.7, 26.2, 27.5, 27.4, 25.4,\n",
       "       23.7, 22.8, 20.5, 15.7, 20.1, 20.9, 15.3, 19.6, 22.5, 23.9, 20. ,\n",
       "       13.4,  9.3, 22.1, 22.2, 21.4, 24.3, 25. , 25.5, 25.3, 19.1, 24.6,\n",
       "       25.2, 26.6, 27. , 21.9, 23.8, 25.7, 27.2, 27.9, 28.9, 29.5, 29. ,\n",
       "       28. , 24. , 24.2, 28.7, 29.9, 30.3, 30.6, 30.2, 29.4, 24.8, 24.9,\n",
       "       26. , 25.9, 22.4, 23.4, 23.3, 24.5, 21.3, 26.8, 28.8, 26.5, 25.1,\n",
       "       26.3, 27.3, 27.7, 28.6, 29.3, 25.6, 31. , 31.3, 31.4, 30.9, 29.8,\n",
       "       28.3, 28.4, 26.7, 30. , 29.6, 25.8, 24.4, 28.2, 29.1, 29.2, 30.1,\n",
       "       28.5, 26.9, 27.1, 30.4, 30.5, 30.8, 31.7, 31.2, 29.7, 31.5, 32.2,\n",
       "       32.3, 32. , 31.6, 30.7, 32.6, 33.1, 32.5, 32.4, 33.9, 33.8, 32.7,\n",
       "       33.2, 33.3, 34.2, 35. , 32.8, 34. , 33.7, 31.9, 33.6, 34.3, 34.8,\n",
       "       35.1, 34.7, 33.4, 34.4, 35.2, 35.7, 34.9, 31.8, 31.1, 35.4, 35.3,\n",
       "       33. , 35.6, 36.3, 36. , 36.1, 32.9, 34.5, 32.1, 34.1, 33.5,  4.4,\n",
       "        4.2,  3.6,  3.2,  2.5,  2.4,  2.1,  1.6,  1.3,  2.9,  4.8,  3.5,\n",
       "        3. ,  4.3,  5.1,  5.2,  6. ,  5.3,  5.9,  7.5,  4.7,  4.5,  3.8,\n",
       "        3.7,  4.1,  1.9,  1.4,  1.2,  0.7,  4. ,  3.3,  2.3,  2.6,  2.7,\n",
       "        1.5,  2.8,  4.9,  2. ,  1.8,  0.9,  0.6,  0.8,  1.1,  0.3, -0.1,\n",
       "       -0.4, -0.6, -0.9, -1.2, -1.8, -2.4, -2.7, -3.2, -3.5, -2.2, -1. ,\n",
       "        0. ,  1. , -0.7, -1.1, -1.6, -2. , -2.3, -2.5,  0.1,  0.2, -0.3,\n",
       "       -1.3,  2.2, -0.8])"
      ]
     },
     "execution_count": 21,
     "metadata": {},
     "output_type": "execute_result"
    }
   ],
   "source": [
    "# 아래에 실습코드를 작성하고 결과를 확인합니다.\n",
    "\n",
    "data['temperature'].unique()"
   ]
  },
  {
   "cell_type": "markdown",
   "id": "3946f54b",
   "metadata": {},
   "source": [
    "변수가 수치형인지 범주형인지\n",
    "- 기온은 수치형? 범주형? -> 수치형"
   ]
  },
  {
   "cell_type": "code",
   "execution_count": 22,
   "id": "49361356",
   "metadata": {
    "tags": []
   },
   "outputs": [
    {
     "data": {
      "text/plain": [
       "dtype('float64')"
      ]
     },
     "execution_count": 22,
     "metadata": {},
     "output_type": "execute_result"
    }
   ],
   "source": [
    "# 아래에 실습코드를 작성하고 결과를 확인합니다.\n",
    "\n",
    "data['temperature'].dtype"
   ]
  },
  {
   "cell_type": "markdown",
   "id": "070e7647",
   "metadata": {},
   "source": [
    "변수의 결측치 존재 여부 및 조치방안"
   ]
  },
  {
   "cell_type": "code",
   "execution_count": 24,
   "id": "66e3ae24",
   "metadata": {
    "tags": []
   },
   "outputs": [
    {
     "data": {
      "text/plain": [
       "0"
      ]
     },
     "execution_count": 24,
     "metadata": {},
     "output_type": "execute_result"
    }
   ],
   "source": [
    "# 아래에 실습코드를 작성하고 결과를 확인합니다.\n",
    "\n",
    "# 결측치 확인\n",
    "data['temperature'].isnull().sum()"
   ]
  },
  {
   "cell_type": "markdown",
   "id": "3504f38b",
   "metadata": {},
   "source": [
    "변수의 기초 통계량 확인"
   ]
  },
  {
   "cell_type": "code",
   "execution_count": 25,
   "id": "eb897079",
   "metadata": {
    "tags": []
   },
   "outputs": [
    {
     "data": {
      "text/plain": [
       "count    5827.000000\n",
       "mean       19.376798\n",
       "std         7.501572\n",
       "min        -3.500000\n",
       "25%        14.100000\n",
       "50%        20.400000\n",
       "75%        24.900000\n",
       "max        36.300000\n",
       "Name: temperature, dtype: float64"
      ]
     },
     "execution_count": 25,
     "metadata": {},
     "output_type": "execute_result"
    }
   ],
   "source": [
    "# 아래에 실습코드를 작성하고 결과를 확인합니다.\n",
    "\n",
    "data['temperature'].describe()"
   ]
  },
  {
   "cell_type": "markdown",
   "id": "f2654913",
   "metadata": {},
   "source": [
    "변수의 분포 확인"
   ]
  },
  {
   "cell_type": "code",
   "execution_count": 35,
   "id": "07d0fac6",
   "metadata": {
    "tags": []
   },
   "outputs": [
    {
     "data": {
      "image/png": "[encoded data removed]",
      "text/plain": [
       "<Figure size 640x480 with 1 Axes>"
      ]
     },
     "metadata": {},
     "output_type": "display_data"
    }
   ],
   "source": [
    "sns.kdeplot(data=data['temperature'])\n",
    "plt.xlabel('temperature')\n",
    "plt.ylabel('Density')\n",
    "plt.title('Distribution of temperature Variable')\n",
    "plt.show()"
   ]
  },
  {
   "cell_type": "markdown",
   "id": "b7f63822",
   "metadata": {},
   "source": [
    "위 정보로 부터 파악한 내용 정리\n"
   ]
  },
  {
   "cell_type": "markdown",
   "id": "d28e0cb7",
   "metadata": {},
   "source": [
    "#### 3) Feature3 : precipitation"
   ]
  },
  {
   "cell_type": "markdown",
   "id": "2ce4d935",
   "metadata": {},
   "source": [
    "변수가 내포하고 있는 의미\n",
    "- 따릉이 대여 시점의 강우 여부 (비가 안왔으면 0, 왔으면 1)"
   ]
  },
  {
   "cell_type": "code",
   "execution_count": 93,
   "id": "3b797f2d",
   "metadata": {
    "tags": []
   },
   "outputs": [
    {
     "data": {
      "text/plain": [
       "array([0, 1], dtype=int64)"
      ]
     },
     "execution_count": 93,
     "metadata": {},
     "output_type": "execute_result"
    }
   ],
   "source": [
    "# 아래에 실습코드를 작성하고 결과를 확인합니다.\n",
    "\n",
    "data['precipitation'].unique()"
   ]
  },
  {
   "cell_type": "markdown",
   "id": "5255e1f1",
   "metadata": {},
   "source": [
    "변수가 수치형인지 범주형인지\n",
    "- 1시간 전 강우 유무는 범주형? 수치형? -> 범주형"
   ]
  },
  {
   "cell_type": "code",
   "execution_count": 28,
   "id": "377abde0",
   "metadata": {
    "tags": []
   },
   "outputs": [
    {
     "data": {
      "text/plain": [
       "dtype('int64')"
      ]
     },
     "execution_count": 28,
     "metadata": {},
     "output_type": "execute_result"
    }
   ],
   "source": [
    "# 아래에 실습코드를 작성하고 결과를 확인합니다.\n",
    "\n",
    "data['precipitation'].dtype"
   ]
  },
  {
   "cell_type": "markdown",
   "id": "30039c7e",
   "metadata": {},
   "source": [
    "변수의 결측치 존재 여부 및 조치 방안\n"
   ]
  },
  {
   "cell_type": "code",
   "execution_count": 29,
   "id": "f8650fec",
   "metadata": {
    "tags": []
   },
   "outputs": [
    {
     "data": {
      "text/plain": [
       "0"
      ]
     },
     "execution_count": 29,
     "metadata": {},
     "output_type": "execute_result"
    }
   ],
   "source": [
    "# 아래에 실습코드를 작성하고 결과를 확인합니다.\n",
    "\n",
    "data['precipitation'].isnull().sum()"
   ]
  },
  {
   "cell_type": "markdown",
   "id": "aa89a86f",
   "metadata": {},
   "source": [
    "변수의 기초 통계량 확인"
   ]
  },
  {
   "cell_type": "code",
   "execution_count": 30,
   "id": "80518c33",
   "metadata": {
    "collapsed": true,
    "jupyter": {
     "outputs_hidden": true
    },
    "tags": []
   },
   "outputs": [
    {
     "data": {
      "text/plain": [
       "count    5827.000000\n",
       "mean        0.075511\n",
       "std         0.264236\n",
       "min         0.000000\n",
       "25%         0.000000\n",
       "50%         0.000000\n",
       "75%         0.000000\n",
       "max         1.000000\n",
       "Name: precipitation, dtype: float64"
      ]
     },
     "execution_count": 30,
     "metadata": {},
     "output_type": "execute_result"
    }
   ],
   "source": [
    "# 아래에 실습코드를 작성하고 결과를 확인합니다.\n",
    "\n",
    "data['precipitation'].describe()"
   ]
  },
  {
   "cell_type": "markdown",
   "id": "ca1d3e86",
   "metadata": {},
   "source": [
    "변수의 분포 확인"
   ]
  },
  {
   "cell_type": "code",
   "execution_count": 34,
   "id": "9694bb33",
   "metadata": {
    "tags": []
   },
   "outputs": [
    {
     "data": {
      "image/png": "[encoded data removed]",
      "text/plain": [
       "<Figure size 640x480 with 1 Axes>"
      ]
     },
     "metadata": {},
     "output_type": "display_data"
    }
   ],
   "source": [
    "# 아래에 실습코드를 작성하고 결과를 확인합니다.\n",
    "\n",
    "sns.kdeplot(data = data['precipitation'])\n",
    "plt.xlabel('precipitation')\n",
    "plt.ylabel('Density')\n",
    "plt.title('Distribution of precipitation Variable')\n",
    "plt.show()"
   ]
  },
  {
   "cell_type": "markdown",
   "id": "ea7ffee6",
   "metadata": {},
   "source": [
    "위 정보로 부터 파악한 내용 정리\n"
   ]
  },
  {
   "cell_type": "markdown",
   "id": "c559e931",
   "metadata": {},
   "source": [
    "#### 4) Feature4 : windspeed"
   ]
  },
  {
   "cell_type": "markdown",
   "id": "414fcce3",
   "metadata": {},
   "source": [
    "변수가 내포하고 있는 의미\n",
    "- 따릉이 대여 시점의 풍속, 풍량"
   ]
  },
  {
   "cell_type": "code",
   "execution_count": 37,
   "id": "24491c56",
   "metadata": {
    "tags": []
   },
   "outputs": [
    {
     "data": {
      "text/plain": [
       "array([1.4, 2.1, 3.4, 3.1, 2.9, 3. , 3.5, 4.3, 3.7, 3.2, 3.6, 2.4, 4.6,\n",
       "       6.5, 5.7, 5.1, 4.8, 5. , 4. , 4.1, 4.9, 3.9, 2.8, 1.6, 0.9, 1.9,\n",
       "       1.8, 2.3, 0.8, 2.5, 2.6, 2.2, 3.3, 5.4, 4.4, 4.5, 3.8, 1.7, 2.7,\n",
       "       4.2, 2. , 1.5, 0.7, 0.4, 1. , 0.5, 1.2, 1.1, 1.3, 4.7, 0.6, 0.2,\n",
       "       5.2, 6.1, 5.3, 6.7, 0. , 0.3, 5.5, 5.9, 6. , 8.3, 5.6, 6.6, 0.1,\n",
       "       8.1, 6.9, 6.3, 5.8, 6.8, 6.4, 6.2])"
      ]
     },
     "execution_count": 37,
     "metadata": {},
     "output_type": "execute_result"
    }
   ],
   "source": [
    "# 아래에 실습코드를 작성하고 결과를 확인합니다.\n",
    "\n",
    "data['windspeed'].unique()"
   ]
  },
  {
   "cell_type": "markdown",
   "id": "89a59834",
   "metadata": {},
   "source": [
    "변수가 수치형인지 범주형인지 -> 수치형\n"
   ]
  },
  {
   "cell_type": "code",
   "execution_count": 38,
   "id": "01bc4b8f",
   "metadata": {
    "tags": []
   },
   "outputs": [
    {
     "data": {
      "text/plain": [
       "dtype('float64')"
      ]
     },
     "execution_count": 38,
     "metadata": {},
     "output_type": "execute_result"
    }
   ],
   "source": [
    "# 아래에 실습코드를 작성하고 결과를 확인합니다.\n",
    "\n",
    "data['windspeed'].dtype"
   ]
  },
  {
   "cell_type": "markdown",
   "id": "062f03ae",
   "metadata": {},
   "source": [
    "변수의 결측치 존재 여부 및 조치방안"
   ]
  },
  {
   "cell_type": "code",
   "execution_count": 39,
   "id": "388e5f1c",
   "metadata": {
    "tags": []
   },
   "outputs": [
    {
     "data": {
      "text/plain": [
       "0"
      ]
     },
     "execution_count": 39,
     "metadata": {},
     "output_type": "execute_result"
    }
   ],
   "source": [
    "# 아래에 실습코드를 작성하고 결과를 확인합니다.\n",
    "\n",
    "data['windspeed'].isnull().sum()"
   ]
  },
  {
   "cell_type": "markdown",
   "id": "c5684936",
   "metadata": {},
   "source": [
    "변수의 기초 통계량 확인"
   ]
  },
  {
   "cell_type": "code",
   "execution_count": 40,
   "id": "37b3d9d1",
   "metadata": {
    "tags": []
   },
   "outputs": [
    {
     "data": {
      "text/plain": [
       "count    5827.000000\n",
       "mean        2.237601\n",
       "std         1.054516\n",
       "min         0.000000\n",
       "25%         1.500000\n",
       "50%         2.200000\n",
       "75%         2.800000\n",
       "max         8.300000\n",
       "Name: windspeed, dtype: float64"
      ]
     },
     "execution_count": 40,
     "metadata": {},
     "output_type": "execute_result"
    }
   ],
   "source": [
    "# 아래에 실습코드를 작성하고 결과를 확인합니다.\n",
    "\n",
    "data['windspeed'].describe()"
   ]
  },
  {
   "cell_type": "markdown",
   "id": "72b17bbc",
   "metadata": {},
   "source": [
    "변수의 분포 확인"
   ]
  },
  {
   "cell_type": "code",
   "execution_count": 42,
   "id": "6a3caeb7",
   "metadata": {
    "tags": []
   },
   "outputs": [
    {
     "data": {
      "text/plain": [
       "Text(0.5, 1.0, 'Distribution of windspeed Variable')"
      ]
     },
     "execution_count": 42,
     "metadata": {},
     "output_type": "execute_result"
    },
    {
     "data": {
      "image/png": "[encoded data removed]",
      "text/plain": [
       "<Figure size 640x480 with 1 Axes>"
      ]
     },
     "metadata": {},
     "output_type": "display_data"
    }
   ],
   "source": [
    "# 아래에 실습코드를 작성하고 결과를 확인합니다.\n",
    "\n",
    "sns.kdeplot(data = data['windspeed'])\n",
    "plt.xlabel('windspeed')\n",
    "plt.ylabel('Density')\n",
    "plt.title('Distribution of windspeed Variable')"
   ]
  },
  {
   "cell_type": "markdown",
   "id": "c4efd45c",
   "metadata": {},
   "source": [
    "위 정보로 부터 파악한 내용 정리\n"
   ]
  },
  {
   "cell_type": "markdown",
   "id": "33900fb6",
   "metadata": {},
   "source": [
    "#### 5) Feature5 : humidity"
   ]
  },
  {
   "cell_type": "markdown",
   "id": "1551d74b",
   "metadata": {},
   "source": [
    "변수가 내포하고 있는 의미\n",
    "- 따릉이 대여 시점의 습도"
   ]
  },
  {
   "cell_type": "code",
   "execution_count": 48,
   "id": "84ddd9fe",
   "metadata": {
    "tags": []
   },
   "outputs": [
    {
     "data": {
      "text/plain": [
       "array([ 49,  53,  43,  44,  45,  46,  38,  31,  25,  21,  20,  19,  22,\n",
       "        24,  27,  33,  40,  41,  39,  42,  34,  29,  26,  30,  35,  36,\n",
       "        51,  54,  57,  59,  60,  62,  79,  89,  94,  96,  98,  97,  95,\n",
       "        92,  91,  93,  86,  80,  75,  67,  61,  50,  52,  55,  69,  71,\n",
       "        72,  78,  66,  28,  23,  37,  48,  58,  64,  63,  32,  56,  70,\n",
       "        77,  47,  68,  99,  76,  65,  74,  83,  85,  87,  81,  84,  73,\n",
       "        88,  82,  90, 100], dtype=int64)"
      ]
     },
     "execution_count": 48,
     "metadata": {},
     "output_type": "execute_result"
    }
   ],
   "source": [
    "# 아래에 실습코드를 작성하고 결과를 확인합니다.\n",
    "\n",
    "data['humidity'].unique()"
   ]
  },
  {
   "cell_type": "markdown",
   "id": "a869b245",
   "metadata": {},
   "source": [
    "변수가 수치형인지 범주형인지 -> 수치형\n"
   ]
  },
  {
   "cell_type": "code",
   "execution_count": 49,
   "id": "47247eb1",
   "metadata": {
    "tags": []
   },
   "outputs": [
    {
     "data": {
      "text/plain": [
       "dtype('int64')"
      ]
     },
     "execution_count": 49,
     "metadata": {},
     "output_type": "execute_result"
    }
   ],
   "source": [
    "# 아래에 실습코드를 작성하고 결과를 확인합니다.\n",
    "\n",
    "data['humidity'].dtype"
   ]
  },
  {
   "cell_type": "markdown",
   "id": "079cec11",
   "metadata": {},
   "source": [
    "변수의 결측치 존재 여부 및 조치방안"
   ]
  },
  {
   "cell_type": "code",
   "execution_count": 50,
   "id": "438fa120",
   "metadata": {
    "tags": []
   },
   "outputs": [
    {
     "data": {
      "text/plain": [
       "0"
      ]
     },
     "execution_count": 50,
     "metadata": {},
     "output_type": "execute_result"
    }
   ],
   "source": [
    "# 아래에 실습코드를 작성하고 결과를 확인합니다.\n",
    "\n",
    "data['humidity'].isnull().sum()"
   ]
  },
  {
   "cell_type": "markdown",
   "id": "a132b5df",
   "metadata": {},
   "source": [
    "변수의 기초 통계량 확인"
   ]
  },
  {
   "cell_type": "code",
   "execution_count": 51,
   "id": "e17c8683",
   "metadata": {
    "tags": []
   },
   "outputs": [
    {
     "data": {
      "text/plain": [
       "count    5827.000000\n",
       "mean       68.608718\n",
       "std        17.277266\n",
       "min        19.000000\n",
       "25%        56.000000\n",
       "50%        70.000000\n",
       "75%        82.000000\n",
       "max       100.000000\n",
       "Name: humidity, dtype: float64"
      ]
     },
     "execution_count": 51,
     "metadata": {},
     "output_type": "execute_result"
    }
   ],
   "source": [
    "# 아래에 실습코드를 작성하고 결과를 확인합니다.\n",
    "\n",
    "data['humidity'].describe()"
   ]
  },
  {
   "cell_type": "markdown",
   "id": "fcc7cb3a",
   "metadata": {},
   "source": [
    "변수의 분포 확인"
   ]
  },
  {
   "cell_type": "code",
   "execution_count": 55,
   "id": "c991830c",
   "metadata": {
    "tags": []
   },
   "outputs": [
    {
     "data": {
      "text/plain": [
       "Text(0.5, 1.0, 'Distribution of humidity Variable')"
      ]
     },
     "execution_count": 55,
     "metadata": {},
     "output_type": "execute_result"
    },
    {
     "data": {
      "image/png": "[encoded data removed]",
      "text/plain": [
       "<Figure size 640x480 with 1 Axes>"
      ]
     },
     "metadata": {},
     "output_type": "display_data"
    }
   ],
   "source": [
    "# 아래에 실습코드를 작성하고 결과를 확인합니다.\n",
    "\n",
    "sns.kdeplot(data = data['humidity'])\n",
    "plt.xlabel('humidity')\n",
    "plt.ylabel('Density')\n",
    "plt.title('Distribution of humidity Variable')"
   ]
  },
  {
   "cell_type": "markdown",
   "id": "7b879858",
   "metadata": {},
   "source": [
    "위 정보로 부터 파악한 내용 정리\n"
   ]
  },
  {
   "cell_type": "markdown",
   "id": "96c9800b",
   "metadata": {},
   "source": [
    "#### 6) Feature6 : visibility"
   ]
  },
  {
   "cell_type": "markdown",
   "id": "09c3520e",
   "metadata": {},
   "source": [
    "변수가 내포하고 있는 의미\n",
    "- 대여 시점의 시계 (시정 거리)"
   ]
  },
  {
   "cell_type": "code",
   "execution_count": 43,
   "id": "1ef8cc22",
   "metadata": {
    "tags": []
   },
   "outputs": [
    {
     "data": {
      "text/plain": [
       "array([2000,  521,  206, ..., 1193, 1233, 1250], dtype=int64)"
      ]
     },
     "execution_count": 43,
     "metadata": {},
     "output_type": "execute_result"
    }
   ],
   "source": [
    "# 아래에 실습코드를 작성하고 결과를 확인합니다.\n",
    "\n",
    "data['visibility'].unique()"
   ]
  },
  {
   "cell_type": "markdown",
   "id": "9b1f608f",
   "metadata": {},
   "source": [
    "변수가 수치형인지 범주형인지 -> 수치형"
   ]
  },
  {
   "cell_type": "code",
   "execution_count": 44,
   "id": "6cc30a3d",
   "metadata": {
    "tags": []
   },
   "outputs": [
    {
     "data": {
      "text/plain": [
       "dtype('int64')"
      ]
     },
     "execution_count": 44,
     "metadata": {},
     "output_type": "execute_result"
    }
   ],
   "source": [
    "# 아래에 실습코드를 작성하고 결과를 확인합니다.\n",
    "\n",
    "data['visibility'].dtype"
   ]
  },
  {
   "cell_type": "markdown",
   "id": "661d41c7",
   "metadata": {},
   "source": [
    "변수의 결측치 존재 여부 및 조치방안"
   ]
  },
  {
   "cell_type": "code",
   "execution_count": 45,
   "id": "83edfc7c",
   "metadata": {
    "tags": []
   },
   "outputs": [
    {
     "data": {
      "text/plain": [
       "0"
      ]
     },
     "execution_count": 45,
     "metadata": {},
     "output_type": "execute_result"
    }
   ],
   "source": [
    "# 아래에 실습코드를 작성하고 결과를 확인합니다.\n",
    "\n",
    "data['visibility'].isnull().sum()"
   ]
  },
  {
   "cell_type": "markdown",
   "id": "01b30d45",
   "metadata": {},
   "source": [
    "변수의 기초 통계량 확인"
   ]
  },
  {
   "cell_type": "code",
   "execution_count": 46,
   "id": "1a3676b6",
   "metadata": {
    "tags": []
   },
   "outputs": [
    {
     "data": {
      "text/plain": [
       "count    5827.000000\n",
       "mean     1758.438648\n",
       "std       490.969394\n",
       "min        60.000000\n",
       "25%      1935.500000\n",
       "50%      2000.000000\n",
       "75%      2000.000000\n",
       "max      2000.000000\n",
       "Name: visibility, dtype: float64"
      ]
     },
     "execution_count": 46,
     "metadata": {},
     "output_type": "execute_result"
    }
   ],
   "source": [
    "# 아래에 실습코드를 작성하고 결과를 확인합니다.\n",
    "\n",
    "data['visibility'].describe()"
   ]
  },
  {
   "cell_type": "markdown",
   "id": "a8040687",
   "metadata": {},
   "source": [
    "변수의 분포 확인"
   ]
  },
  {
   "cell_type": "code",
   "execution_count": 47,
   "id": "f8e15d94",
   "metadata": {
    "tags": []
   },
   "outputs": [
    {
     "data": {
      "text/plain": [
       "Text(0.5, 1.0, 'Distribution of visibility Variable')"
      ]
     },
     "execution_count": 47,
     "metadata": {},
     "output_type": "execute_result"
    },
    {
     "data": {
      "image/png": "[encoded data removed]",
      "text/plain": [
       "<Figure size 640x480 with 1 Axes>"
      ]
     },
     "metadata": {},
     "output_type": "display_data"
    }
   ],
   "source": [
    "# 아래에 실습코드를 작성하고 결과를 확인합니다.\n",
    "\n",
    "sns.kdeplot(data = data['visibility'])\n",
    "plt.xlabel('visibility')\n",
    "plt.ylabel('Density')\n",
    "plt.title('Distribution of visibility Variable')"
   ]
  },
  {
   "cell_type": "markdown",
   "id": "7ea273ed",
   "metadata": {},
   "source": [
    "위 정보로 부터 파악한 내용 정리\n"
   ]
  },
  {
   "cell_type": "markdown",
   "id": "64034e28",
   "metadata": {},
   "source": [
    "#### 7) Feature7 : ozone"
   ]
  },
  {
   "cell_type": "markdown",
   "id": "b30d35f6",
   "metadata": {},
   "source": [
    "변수가 내포하고 있는 의미\n",
    "- 따릉이 대여 시점의 오존 수치"
   ]
  },
  {
   "cell_type": "code",
   "execution_count": 56,
   "id": "bd8814e1",
   "metadata": {
    "tags": []
   },
   "outputs": [
    {
     "data": {
      "text/plain": [
       "array([0.002, 0.003, 0.023, 0.028, 0.008, 0.009, 0.018, 0.027, 0.032,\n",
       "       0.033, 0.038, 0.042, 0.044, 0.045, 0.043, 0.039, 0.037, 0.036,\n",
       "       0.034, 0.04 , 0.035, 0.041, 0.025, 0.01 , 0.015, 0.006, 0.022,\n",
       "       0.019, 0.03 , 0.026, 0.021, 0.017, 0.031, 0.029, 0.024, 0.02 ,\n",
       "       0.016, 0.004, 0.049, 0.053, 0.055, 0.059, 0.06 , 0.051, 0.046,\n",
       "       0.012, 0.013, 0.014, 0.047, 0.05 , 0.058, 0.052, 0.007, 0.056,\n",
       "         nan, 0.066, 0.057, 0.011, 0.054, 0.065, 0.067, 0.07 , 0.077,\n",
       "       0.072, 0.005, 0.064, 0.068, 0.071, 0.061, 0.074, 0.069, 0.048,\n",
       "       0.063, 0.079, 0.106, 0.104, 0.085, 0.075, 0.081, 0.073, 0.08 ,\n",
       "       0.062, 0.078, 0.088, 0.107, 0.11 , 0.116, 0.087, 0.082, 0.097,\n",
       "       0.099, 0.094, 0.086, 0.083, 0.09 , 0.093, 0.084, 0.076, 0.089,\n",
       "       0.1  , 0.137, 0.115, 0.092, 0.098, 0.103, 0.096, 0.111, 0.118,\n",
       "       0.101, 0.001])"
      ]
     },
     "execution_count": 56,
     "metadata": {},
     "output_type": "execute_result"
    }
   ],
   "source": [
    "# 아래에 실습코드를 작성하고 결과를 확인합니다.\n",
    "\n",
    "data['ozone'].unique()"
   ]
  },
  {
   "cell_type": "markdown",
   "id": "afd96628",
   "metadata": {},
   "source": [
    "변수가 수치형인지 범주형인지 -> 수치형\n"
   ]
  },
  {
   "cell_type": "code",
   "execution_count": 57,
   "id": "33aef33f",
   "metadata": {
    "tags": []
   },
   "outputs": [
    {
     "data": {
      "text/plain": [
       "dtype('float64')"
      ]
     },
     "execution_count": 57,
     "metadata": {},
     "output_type": "execute_result"
    }
   ],
   "source": [
    "# 아래에 실습코드를 작성하고 결과를 확인합니다.\n",
    "\n",
    "data['ozone'].dtype"
   ]
  },
  {
   "cell_type": "markdown",
   "id": "abe8baa3",
   "metadata": {},
   "source": [
    "변수의 결측치 존재 여부 및 조치방안"
   ]
  },
  {
   "cell_type": "code",
   "execution_count": 58,
   "id": "a5d6b8b9",
   "metadata": {
    "tags": []
   },
   "outputs": [
    {
     "data": {
      "text/plain": [
       "128"
      ]
     },
     "execution_count": 58,
     "metadata": {},
     "output_type": "execute_result"
    }
   ],
   "source": [
    "# 아래에 실습코드를 작성하고 결과를 확인합니다.\n",
    "\n",
    "data['ozone'].isnull().sum()"
   ]
  },
  {
   "cell_type": "markdown",
   "id": "8b97cd3f",
   "metadata": {},
   "source": [
    "만약 결측치가 존재한다면?-> 어떻게 처리할 것인가?"
   ]
  },
  {
   "cell_type": "code",
   "execution_count": 60,
   "id": "8e567c88",
   "metadata": {
    "tags": []
   },
   "outputs": [
    {
     "data": {
      "text/plain": [
       "0"
      ]
     },
     "execution_count": 60,
     "metadata": {},
     "output_type": "execute_result"
    }
   ],
   "source": [
    "# 아래에 실습코드를 작성하고 결과를 확인합니다.\n",
    "\n",
    "#결측치가 포함된 행을 제거한다.\n",
    "data.dropna(subset=['ozone'], inplace=True)\n",
    "data['ozone'].isnull().sum()"
   ]
  },
  {
   "cell_type": "markdown",
   "id": "6f72275b",
   "metadata": {},
   "source": [
    "변수의 기초 통계량 확인"
   ]
  },
  {
   "cell_type": "code",
   "execution_count": 61,
   "id": "2d56b151",
   "metadata": {
    "tags": []
   },
   "outputs": [
    {
     "data": {
      "text/plain": [
       "count    5699.000000\n",
       "mean        0.031811\n",
       "std         0.018277\n",
       "min         0.001000\n",
       "25%         0.019000\n",
       "50%         0.031000\n",
       "75%         0.041000\n",
       "max         0.137000\n",
       "Name: ozone, dtype: float64"
      ]
     },
     "execution_count": 61,
     "metadata": {},
     "output_type": "execute_result"
    }
   ],
   "source": [
    "# 아래에 실습코드를 작성하고 결과를 확인합니다.\n",
    "\n",
    "data['ozone'].describe()"
   ]
  },
  {
   "cell_type": "markdown",
   "id": "32194953",
   "metadata": {},
   "source": [
    "변수의 분포 확인"
   ]
  },
  {
   "cell_type": "code",
   "execution_count": 63,
   "id": "a1497ae2",
   "metadata": {
    "tags": []
   },
   "outputs": [
    {
     "data": {
      "text/plain": [
       "Text(0.5, 1.0, 'Distribution of ozone Variable')"
      ]
     },
     "execution_count": 63,
     "metadata": {},
     "output_type": "execute_result"
    },
    {
     "data": {
      "image/png": "[encoded data removed]",
      "text/plain": [
       "<Figure size 640x480 with 1 Axes>"
      ]
     },
     "metadata": {},
     "output_type": "display_data"
    }
   ],
   "source": [
    "# 아래에 실습코드를 작성하고 결과를 확인합니다.\n",
    "\n",
    "sns.kdeplot(data = data['ozone'])\n",
    "plt.xlabel('ozone')\n",
    "plt.ylabel('Density')\n",
    "plt.title('Distribution of ozone Variable')"
   ]
  },
  {
   "cell_type": "markdown",
   "id": "5489d90c",
   "metadata": {},
   "source": [
    "위 정보로 부터 파악한 내용 정리\n"
   ]
  },
  {
   "cell_type": "markdown",
   "id": "0c47e8df",
   "metadata": {},
   "source": [
    "#### 8) Feature8 : PM10"
   ]
  },
  {
   "cell_type": "markdown",
   "id": "73a92867",
   "metadata": {},
   "source": [
    "변수가 내포하고 있는 의미\n",
    "- 따릉이 대여 시점의 미세먼지 농도"
   ]
  },
  {
   "cell_type": "code",
   "execution_count": 64,
   "id": "b66959f6",
   "metadata": {
    "tags": []
   },
   "outputs": [
    {
     "data": {
      "text/plain": [
       "array([ 42.,  41.,  30.,  27.,  29.,  31.,  39.,  35.,  34.,  40.,  37.,\n",
       "        43.,  46.,  50.,  51.,  44.,  48.,  49.,  45.,  38.,  36.,  54.,\n",
       "        58.,  56.,  61.,  47.,  20.,  17.,  12.,  10.,   7.,   9.,   3.,\n",
       "         6.,   8.,  13.,  15.,  23.,  26.,  22.,  21.,  19.,  24.,  28.,\n",
       "        25.,  57.,  67.,  69.,  68.,  77.,  75.,  79.,  64.,  33.,  32.,\n",
       "        52.,  nan,  14.,   5.,   4.,  16.,  18.,  62., 123., 269., 296.,\n",
       "       119.,  66.,  74.,  86.,  98.,  97., 100.,  96., 104.,  88.,  85.,\n",
       "        87.,  90.,  99., 129., 147., 130., 126., 103.,  70.,  55.,  11.,\n",
       "        53.,  59.,  72.,  81.,  89.,  73.,  60.,  65.,  71.,  78.,  83.,\n",
       "        84.,  92.,  80.,  76.,  63.,  82., 151., 309., 485., 562., 555.,\n",
       "       563., 594., 606., 586., 568., 706., 799., 817., 827., 726., 615.,\n",
       "       590., 582., 551., 484., 483., 479., 433., 373., 332., 293., 222.,\n",
       "       230., 250., 261., 262., 248., 263., 251., 231., 175.,  93., 152.,\n",
       "       110., 167., 228., 254., 271., 244., 236., 216., 213., 189., 182.,\n",
       "       173., 171., 190., 168., 107., 115., 125., 137., 156., 165., 161.,\n",
       "       163., 160., 153., 135., 124., 106., 105., 117., 114., 128., 132.,\n",
       "       141., 139.,  95., 113., 121.])"
      ]
     },
     "execution_count": 64,
     "metadata": {},
     "output_type": "execute_result"
    }
   ],
   "source": [
    "# 아래에 실습코드를 작성하고 결과를 확인합니다.\n",
    "\n",
    "data['PM10'].unique()"
   ]
  },
  {
   "cell_type": "markdown",
   "id": "91f8c45c",
   "metadata": {},
   "source": [
    "변수가 수치형인지 범주형인지 -> 수치형\n"
   ]
  },
  {
   "cell_type": "code",
   "execution_count": 65,
   "id": "de5b5bfa",
   "metadata": {
    "tags": []
   },
   "outputs": [
    {
     "data": {
      "text/plain": [
       "dtype('float64')"
      ]
     },
     "execution_count": 65,
     "metadata": {},
     "output_type": "execute_result"
    }
   ],
   "source": [
    "# 아래에 실습코드를 작성하고 결과를 확인합니다.\n",
    "\n",
    "data['PM10'].dtype"
   ]
  },
  {
   "cell_type": "markdown",
   "id": "700c2840",
   "metadata": {},
   "source": [
    "변수의 결측치 존재 여부 및 조치방안"
   ]
  },
  {
   "cell_type": "code",
   "execution_count": 67,
   "id": "b49e5c2e",
   "metadata": {
    "tags": []
   },
   "outputs": [
    {
     "data": {
      "text/plain": [
       "22"
      ]
     },
     "execution_count": 67,
     "metadata": {},
     "output_type": "execute_result"
    }
   ],
   "source": [
    "# 아래에 실습코드를 작성하고 결과를 확인합니다.\n",
    "\n",
    "data['PM10'].isnull().sum()"
   ]
  },
  {
   "cell_type": "code",
   "execution_count": 71,
   "id": "2397b252-b95b-49aa-ad33-fe5978026dcd",
   "metadata": {
    "tags": []
   },
   "outputs": [
    {
     "data": {
      "text/plain": [
       "0"
      ]
     },
     "execution_count": 71,
     "metadata": {},
     "output_type": "execute_result"
    }
   ],
   "source": [
    "#결측치가 포함된 행 제거\n",
    "data.dropna(subset = ['PM10'], inplace = True)\n",
    "data['PM10'].isnull().sum()"
   ]
  },
  {
   "cell_type": "markdown",
   "id": "e3662ff6",
   "metadata": {},
   "source": [
    "변수의 기초 통계량 확인"
   ]
  },
  {
   "cell_type": "code",
   "execution_count": 73,
   "id": "eb502d3b",
   "metadata": {
    "tags": []
   },
   "outputs": [
    {
     "data": {
      "text/plain": [
       "count    5677.000000\n",
       "mean       31.588339\n",
       "std        42.786622\n",
       "min         3.000000\n",
       "25%        16.000000\n",
       "50%        25.000000\n",
       "75%        37.000000\n",
       "max       827.000000\n",
       "Name: PM10, dtype: float64"
      ]
     },
     "execution_count": 73,
     "metadata": {},
     "output_type": "execute_result"
    }
   ],
   "source": [
    "# 아래에 실습코드를 작성하고 결과를 확인합니다.\n",
    "\n",
    "data['PM10'].describe()"
   ]
  },
  {
   "cell_type": "markdown",
   "id": "5d61ff51",
   "metadata": {},
   "source": [
    "변수의 분포 확인"
   ]
  },
  {
   "cell_type": "code",
   "execution_count": 75,
   "id": "4cb67eb0",
   "metadata": {
    "tags": []
   },
   "outputs": [
    {
     "data": {
      "text/plain": [
       "Text(0.5, 1.0, 'Distribution of PM10 Variable')"
      ]
     },
     "execution_count": 75,
     "metadata": {},
     "output_type": "execute_result"
    },
    {
     "data": {
      "image/png": "[encoded data removed]",
      "text/plain": [
       "<Figure size 640x480 with 1 Axes>"
      ]
     },
     "metadata": {},
     "output_type": "display_data"
    }
   ],
   "source": [
    "# 아래에 실습코드를 작성하고 결과를 확인합니다.\n",
    "\n",
    "sns.kdeplot(data = data['PM10'])\n",
    "plt.xlabel('PM10')\n",
    "plt.ylabel('Density')\n",
    "plt.title('Distribution of PM10 Variable')"
   ]
  },
  {
   "cell_type": "markdown",
   "id": "587ea220",
   "metadata": {},
   "source": [
    "위 정보로 부터 파악한 내용 정리\n"
   ]
  },
  {
   "cell_type": "markdown",
   "id": "027f491c",
   "metadata": {},
   "source": [
    "#### 9) Feature9 : PM2.5"
   ]
  },
  {
   "cell_type": "markdown",
   "id": "c0e0e903",
   "metadata": {},
   "source": [
    "변수가 내포하고 있는 의미\n",
    "- 따릉이 대여시점의 초미세먼지 수치"
   ]
  },
  {
   "cell_type": "code",
   "execution_count": 76,
   "id": "94a68658",
   "metadata": {
    "tags": []
   },
   "outputs": [
    {
     "data": {
      "text/plain": [
       "array([ 21.,  13.,  12.,  14.,  10.,   9.,   8.,  16.,  11.,   7.,  18.,\n",
       "        19.,  24.,  22.,  20.,  17.,  15.,   4.,   6.,   5.,   1.,   2.,\n",
       "         3.,  26.,  29.,  28.,  27.,  25.,  35.,  39.,  40.,  44.,  55.,\n",
       "        60.,  62.,  58.,  56.,  54.,  32.,  23.,  31.,  33.,  30.,  57.,\n",
       "        34.,  37.,  38.,  36.,  43.,  47.,  41.,  42.,  49.,  59.,  52.,\n",
       "        50.,  78.,  88.,  89.,  93.,  94.,  87.,  86., 106., 117., 116.,\n",
       "       115., 102.,  85.,  79.,  77.,  71.,  74.,  73.,  66.,  61.,  53.,\n",
       "        45.,  65.,  67.,  63.,  51.,  46.,  48.,  nan,  91.,  99., 121.,\n",
       "       125., 120., 123., 109., 110.,  83.,  90., 111., 107., 114., 101.,\n",
       "       113.,  92.,  70.,  95.])"
      ]
     },
     "execution_count": 76,
     "metadata": {},
     "output_type": "execute_result"
    }
   ],
   "source": [
    "# 아래에 실습코드를 작성하고 결과를 확인합니다.\n",
    "\n",
    "data['PM2.5'].unique()"
   ]
  },
  {
   "cell_type": "markdown",
   "id": "bf7bee19",
   "metadata": {},
   "source": [
    "변수가 수치형인지 범주형인지 -> 수치형\n"
   ]
  },
  {
   "cell_type": "code",
   "execution_count": 79,
   "id": "79b22b10",
   "metadata": {
    "tags": []
   },
   "outputs": [
    {
     "data": {
      "text/plain": [
       "dtype('float64')"
      ]
     },
     "execution_count": 79,
     "metadata": {},
     "output_type": "execute_result"
    }
   ],
   "source": [
    "# 아래에 실습코드를 작성하고 결과를 확인합니다.\n",
    "\n",
    "data['PM2.5'].dtype"
   ]
  },
  {
   "cell_type": "markdown",
   "id": "eb43f973",
   "metadata": {},
   "source": [
    "변수의 결측치 존재 여부 및 조치방안"
   ]
  },
  {
   "cell_type": "code",
   "execution_count": 81,
   "id": "5e47c7d9",
   "metadata": {
    "tags": []
   },
   "outputs": [
    {
     "data": {
      "text/plain": [
       "7"
      ]
     },
     "execution_count": 81,
     "metadata": {},
     "output_type": "execute_result"
    }
   ],
   "source": [
    "# 아래에 실습코드를 작성하고 결과를 확인합니다.\n",
    "\n",
    "data['PM2.5'].isnull().sum()"
   ]
  },
  {
   "cell_type": "code",
   "execution_count": 82,
   "id": "14fdcf07-0e0e-4527-ae6c-51e1b345053e",
   "metadata": {
    "tags": []
   },
   "outputs": [
    {
     "data": {
      "text/plain": [
       "0"
      ]
     },
     "execution_count": 82,
     "metadata": {},
     "output_type": "execute_result"
    }
   ],
   "source": [
    "#결측치가 포함된 행 제거\n",
    "data.dropna(subset = ['PM2.5'], inplace = True)\n",
    "data['PM2.5'].isnull().sum()"
   ]
  },
  {
   "cell_type": "markdown",
   "id": "d0691974",
   "metadata": {},
   "source": [
    "변수의 기초 통계량 확인"
   ]
  },
  {
   "cell_type": "code",
   "execution_count": 83,
   "id": "8e92f0f4",
   "metadata": {
    "tags": []
   },
   "outputs": [
    {
     "data": {
      "text/plain": [
       "count    5670.000000\n",
       "mean       15.332451\n",
       "std        12.860270\n",
       "min         1.000000\n",
       "25%         7.000000\n",
       "50%        13.000000\n",
       "75%        20.000000\n",
       "max       125.000000\n",
       "Name: PM2.5, dtype: float64"
      ]
     },
     "execution_count": 83,
     "metadata": {},
     "output_type": "execute_result"
    }
   ],
   "source": [
    "# 아래에 실습코드를 작성하고 결과를 확인합니다.\n",
    "\n",
    "data['PM2.5'].describe()"
   ]
  },
  {
   "cell_type": "markdown",
   "id": "da492261",
   "metadata": {},
   "source": [
    "변수의 분포 확인"
   ]
  },
  {
   "cell_type": "code",
   "execution_count": 84,
   "id": "82611940",
   "metadata": {
    "tags": []
   },
   "outputs": [
    {
     "data": {
      "text/plain": [
       "Text(0.5, 1.0, 'Distribution of PM2.5 Variable')"
      ]
     },
     "execution_count": 84,
     "metadata": {},
     "output_type": "execute_result"
    },
    {
     "data": {
      "image/png": "[encoded data removed]",
      "text/plain": [
       "<Figure size 640x480 with 1 Axes>"
      ]
     },
     "metadata": {},
     "output_type": "display_data"
    }
   ],
   "source": [
    "# 아래에 실습코드를 작성하고 결과를 확인합니다.\n",
    "\n",
    "sns.kdeplot(data = data['PM2.5'])\n",
    "plt.xlabel('PM2.5')\n",
    "plt.ylabel('Density')\n",
    "plt.title('Distribution of PM2.5 Variable')"
   ]
  },
  {
   "cell_type": "markdown",
   "id": "884cf275",
   "metadata": {},
   "source": [
    "위 정보로 부터 파악한 내용 정리\n"
   ]
  },
  {
   "cell_type": "markdown",
   "id": "13cf9192",
   "metadata": {},
   "source": [
    "#### 10) Count (Target)"
   ]
  },
  {
   "cell_type": "markdown",
   "id": "7007298b",
   "metadata": {},
   "source": [
    "변수가 내포하고 있는 의미\n",
    "- 따릉이의 대여량 -> 우리가 예측해야 할 변수!"
   ]
  },
  {
   "cell_type": "code",
   "execution_count": 88,
   "id": "da1b23c4",
   "metadata": {
    "tags": []
   },
   "outputs": [
    {
     "data": {
      "text/plain": [
       "array([  46,   40,   31,   12,   30,   77,  171,  330,  218,  175,  247,\n",
       "        269,  289,  265,  342,  369,  564,  820,  526,  435,  396,  307,\n",
       "        157,   85,   48,   17,   20,   24,   72,  169,  336,  207,  211,\n",
       "        233,  286,  314,  360,  392,  507,  582,  411,  331,  366,  344,\n",
       "        183,  126,   62,   58,   38,   18,   25,   43,   45,    5,    1,\n",
       "          2,    3,    8,    6,   11,   15,   16,    7,   33,   67,   94,\n",
       "        151,  210,  464,  601,  651,  613,  505,  427,  341,  252,  219,\n",
       "        194,   78,   69,   35,    9,  188,  349,  187,  227,  280,  262,\n",
       "        284,  390,  423,  552,  835,  479,  352,  258,  130,   80,   21,\n",
       "         23,   29,  362,  230,  176,  249,  310,  268,  261,  329,  356,\n",
       "        569,  856,  508,  413,  297,  112,   63,   36,   19,   28,   84,\n",
       "        158,  216,  189,  282,  346,  274,  303,  324,  399,  574,  797,\n",
       "        461,  293,  266,  103,   71,   42,  319,  140,  259,  492,  783,\n",
       "        383,  276,  291,  108,   59,   60,   74,  164,  332,  251,  300,\n",
       "        354,  370,  404,  585,  753,  444,  318,  333,  296,  123,   57,\n",
       "        100,  160,  343,  426,  544,  662,  639,  548,  475,  313,  281,\n",
       "        278,  232,  124,   64,   86,  118,  163,  271,  397,  513,  542,\n",
       "        584,  633,  621,  503,  407,  264,  208,  105,   44,   75,  177,\n",
       "         93,   10,    4,  125,  263,  174,  214,  206,  225,  367,  602,\n",
       "        323,   22,   61,  364,  236,  202,  260,  250,  245,  273,  462,\n",
       "        678,  359,  257,   87,   81,  184,  338,  226,  150,  238,  239,\n",
       "        279,  547,  756,  438,  298,  317,  267,  136,   51,  159,   88,\n",
       "         52,  113,  170,  235,  406,  629,  372,  223,  104,   53,   13,\n",
       "         56,  102,  138,  190,  116,  244,   14,   49,  133,  270,  348,\n",
       "        467,  604,  592,  654,  530,  384,  229,  156,   26,   27,  335,\n",
       "        145,  242,  309,  529,  802,  504,  312,  304,  237,  127,   34,\n",
       "         90,  203,  347,  288,  299,  489,  855,  449,  111,   83,  197,\n",
       "        387,  201,  248,  320,  588,  829,  521,  377,  122,  186,  167,\n",
       "        228,  253,  285,  358,  512,  698,  456,  294,   89,   68,  162,\n",
       "        204,  363,  493,  692,  434,  355,  165,  115,   66,  154,  205,\n",
       "        328,  418,  450,  570,  401,  301,  119,  161,  246,  405,  469,\n",
       "        545,  679,  688,  655,  606,  498,  255,  139,  351,  173,  534,\n",
       "        888,  560,  389,  373,  155,  114,  744,  550,  494,  516,  568,\n",
       "        670,  609,  624,  391,  292,  706,  452,  302,  468,  490,  714,\n",
       "       1126, 1600,  976,  804,  612,   32,  198,  196,  212,  327,  334,\n",
       "        522,  695,  460,  142,  147,  234,  172,  398,  557,  215,   55,\n",
       "         98,   39,   70,   92,  129,  180,  453,  594,  703,  686,  595,\n",
       "        431,  325,  168,   99,  277,  295,  607,  827,  538,  371,   65,\n",
       "        110,  128,  200,  559,  653,  762,  787,  708,  577,  415,  254,\n",
       "        275,  339,  540,  858,  395,  382,  256,  121,  181,  537,  195,\n",
       "         91,   54,  217,  178,  182,   95,   41,  484,  661,  581,  350,\n",
       "        109,  117,  166,  199,  408,  429,  135,  221,  400,  191,  220,\n",
       "        311,  893,  497,  321,  243,  224,  287,  566,  809,  543,  432,\n",
       "        388,  337,  788,  598,  422,  306,   96,  365,  531,  381,  143,\n",
       "         79,  107,  353,   37,  241,  368,  812,  141,   73,   50,  106,\n",
       "        290,  375,  414,  555,  643,  562,  459,  149,  148,  209,   82,\n",
       "        146,  412,  623,  501,  393,  420,  424,  520,  828,  340,   76,\n",
       "        483,  240,  376,  674,  472,  152,  308,  192,  447,  668,  394,\n",
       "        179,  231,  132,  527,  533,  430,  905,  477,  410,  750,  315,\n",
       "        326,  556,  830,  428,  615,  921,  470,  417,  443,  491,  515,\n",
       "        437,  448,  283,  510,  535,  853,  402,  832,  442,  357,  546,\n",
       "        843,  485,  222,  458,   97,  101,  872,  451,  728,  322,  541,\n",
       "        880,  619,  378,  702,  416,  454,  457,  433,  131,  446,  471,\n",
       "        473,  213,  193,  906,  694,  487,  777,  553,  185,  576,  789,\n",
       "        120,  380,  436,  153,  144,   47,  316,  803,  476,  794,  499,\n",
       "        757,  605,  137,  865,  532,  844,  587,  760,  486,  441,  374,\n",
       "        711,  134,  768,  478,  792,  645,  385,  563,  496,  361,  710,\n",
       "        691,  439,  622,  700,  500,  659,  403,  597,  648,  272,  649,\n",
       "        440,  305,  743,  567,  502,  747,  717,  745,  641,  628,  495,\n",
       "        480,  775,  506,  419,  579,  572,  868,  704,  815,  644,  617,\n",
       "        558,  474,  561,  509,  866,  603,  466,  525,  386,  631,  518,\n",
       "        455,  616,  554,  859,  805,  488,  514, 1090, 1746, 1086,  942,\n",
       "        944,  630, 1026,  740,  736,  593,  590,  642,  667,  638,  953,\n",
       "        684,  573,  807,  658,  481,  463,  939,  517,  421,  932,  665,\n",
       "        965,  600,  847,  578,  425,  697,  765,  345,  445,  539,  693,\n",
       "        755,  752,  949,  640,  620,  664,  988,  701,  677,  671,  798,\n",
       "        589,  925,  580,  915,  596,  699,  723,  482,  528,  669,  599,\n",
       "        696,  647,  379,  409,  571,  898,  963,  636,  689,  523,  733,\n",
       "        741,  731,  754,  766,  465,  583,  676,  519], dtype=int64)"
      ]
     },
     "execution_count": 88,
     "metadata": {},
     "output_type": "execute_result"
    }
   ],
   "source": [
    "# 아래에 실습코드를 작성하고 결과를 확인합니다.\n",
    "\n",
    "data['count'].unique()"
   ]
  },
  {
   "cell_type": "markdown",
   "id": "56219b68",
   "metadata": {},
   "source": [
    "변수가 수치형인지 범주형인지 -> 수치형\n"
   ]
  },
  {
   "cell_type": "code",
   "execution_count": 89,
   "id": "b4a39915-0ff5-4b71-bbba-1625abacf45d",
   "metadata": {
    "tags": []
   },
   "outputs": [
    {
     "data": {
      "text/plain": [
       "dtype('int64')"
      ]
     },
     "execution_count": 89,
     "metadata": {},
     "output_type": "execute_result"
    }
   ],
   "source": [
    "data['count'].dtype"
   ]
  },
  {
   "cell_type": "markdown",
   "id": "9f1bf19c",
   "metadata": {},
   "source": [
    "변수의 결측치 존재 여부 및 조치 방안"
   ]
  },
  {
   "cell_type": "code",
   "execution_count": 90,
   "id": "502c4c8d",
   "metadata": {
    "tags": []
   },
   "outputs": [
    {
     "data": {
      "text/plain": [
       "0"
      ]
     },
     "execution_count": 90,
     "metadata": {},
     "output_type": "execute_result"
    }
   ],
   "source": [
    "# 아래에 실습코드를 작성하고 결과를 확인합니다.\n",
    "\n",
    "data['count'].isnull().sum()"
   ]
  },
  {
   "cell_type": "markdown",
   "id": "fd336e86",
   "metadata": {},
   "source": [
    "변수의 기초 통계량 확인"
   ]
  },
  {
   "cell_type": "code",
   "execution_count": 91,
   "id": "2a1ba541",
   "metadata": {
    "tags": []
   },
   "outputs": [
    {
     "data": {
      "text/plain": [
       "count    5670.000000\n",
       "mean      215.869841\n",
       "std       186.974342\n",
       "min         1.000000\n",
       "25%        53.000000\n",
       "50%       186.000000\n",
       "75%       317.000000\n",
       "max      1746.000000\n",
       "Name: count, dtype: float64"
      ]
     },
     "execution_count": 91,
     "metadata": {},
     "output_type": "execute_result"
    }
   ],
   "source": [
    "# 아래에 실습코드를 작성하고 결과를 확인합니다.\n",
    "\n",
    "data['count'].describe()"
   ]
  },
  {
   "cell_type": "markdown",
   "id": "3b3e68a5",
   "metadata": {},
   "source": [
    "변수의 분포 확인"
   ]
  },
  {
   "cell_type": "code",
   "execution_count": 92,
   "id": "395e2996",
   "metadata": {
    "tags": []
   },
   "outputs": [
    {
     "data": {
      "text/plain": [
       "Text(0.5, 1.0, 'Distribution of count Variable')"
      ]
     },
     "execution_count": 92,
     "metadata": {},
     "output_type": "execute_result"
    },
    {
     "data": {
      "image/png": "[encoded data removed]",
      "text/plain": [
       "<Figure size 640x480 with 1 Axes>"
      ]
     },
     "metadata": {},
     "output_type": "display_data"
    }
   ],
   "source": [
    "# 아래에 실습코드를 작성하고 결과를 확인합니다.\n",
    "\n",
    "sns.kdeplot(data = data['count'])\n",
    "plt.xlabel('count')\n",
    "plt.ylabel('Density')\n",
    "plt.title('Distribution of count Variable')"
   ]
  },
  {
   "cell_type": "markdown",
   "id": "531dc5e3",
   "metadata": {},
   "source": [
    "위 정보로 부터 파악한 내용 정리\n"
   ]
  }
 ],
 "metadata": {
  "colab": {
   "name": "1. 데이터 불러오기 및 분석(EDA).ipynb",
   "provenance": []
  },
  "kernelspec": {
   "display_name": "Python 3 (ipykernel)",
   "language": "python",
   "name": "python3"
  },
  "language_info": {
   "codemirror_mode": {
    "name": "ipython",
    "version": 3
   },
   "file_extension": ".py",
   "mimetype": "text/x-python",
   "name": "python",
   "nbconvert_exporter": "python",
   "pygments_lexer": "ipython3",
   "version": "3.11.5"
  },
  "vscode": {
   "interpreter": {
    "hash": "cf92aa13fedf815d5c8dd192b8d835913fde3e8bc926b2a0ad6cc74ef2ba3ca2"
   }
  }
 },
 "nbformat": 4,
 "nbformat_minor": 5
}
