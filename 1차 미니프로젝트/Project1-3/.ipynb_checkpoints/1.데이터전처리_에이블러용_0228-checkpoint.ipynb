{
 "cells": [
  {
   "cell_type": "markdown",
   "id": "d6a3fec5",
   "metadata": {},
   "source": [
    "# 서울시 공유자전거 '따릉이' 수요 예측 프로젝트\n",
    "## 단계1. 데이터 전처리"
   ]
  },
  {
   "cell_type": "markdown",
   "id": "706c1f1a",
   "metadata": {},
   "source": [
    "## 0.프로젝트 소개\n",
    "\n",
    "### (1) 수행 목표 \n",
    "여러분은 서울시 정책 연구원으로써 서울시 공유자전거인 '따릉이'의 수요와 날씨간 연관성을 분석하라는 미션을 부여받았습니다.\n",
    "\n",
    "#### <font color=\"blue\"> 데이터 분석의 주 목적은 가치있는 정보를 찾아내는것!! </font>\n",
    "\n",
    "#### 우리가 풀어야 하는 문제는 무엇인가요?\n",
    "\n",
    " - 기상상황이 따릉이 수요에 주는 영향을 분석해봅시다.\n",
    "\n",
    "    * 1.데이터를 탐색하며 정보 획득\n",
    "        * 날씨 데이터와 서울시 공유 자전거 따릉이의 수요 데이터를 제공해드렸습니다. \n",
    "        * 우리는 따릉이의 수요와 날씨간 어떤 연관성이 있는지 탐색 해 봅시다.\n",
    "    * 2.EDA\n",
    "        * 주어진 데이터의 변수들을 분석해 봅시다. \n",
    "\n",
    "\n",
    "### (2) 데이터 소개\n",
    "\n",
    "#### 1) 기본 데이터\n",
    "\n",
    "        * 학습데이터 : sbikedata.csv\n",
    "\n",
    "#### 2) 데이터셋의 변수 소개\n",
    "\n",
    "        * date : 날짜\n",
    "        * hour : 시간\n",
    "        * temperature : 온도\n",
    "        * precipitation : 강우 여부, 비가 오지 않았으면 0, 비가 오면 1\n",
    "        * windspeed : 풍속(평균)\n",
    "        * humidity : 습도\n",
    "        * visibility : 시정(視程), 시계(視界)(특정 기상 상태에 따른 가시성을 의미)\n",
    "        * ozone : 오존 수치\n",
    "        * PM10 : 미세먼지 수치(머리카락 굵기의 1/5에서 1/7 크기의 미세먼지)\n",
    "        * PM2.5 : 초미세먼지 수치(머리카락 굵기의 1/20에서 1/30 크기의 미세먼지)\n",
    "        * count : 시간에 따른 따릉이 대여 수\n"
   ]
  },
  {
   "cell_type": "markdown",
   "id": "1f75d42d",
   "metadata": {},
   "source": [
    "## 1.환경설정"
   ]
  },
  {
   "cell_type": "markdown",
   "id": "eab3d3b0",
   "metadata": {},
   "source": [
    "* 세부 요구사항\n",
    "    - 경로 설정 \n",
    "        * 로컬 수행(Ananconda)\n",
    "            * 제공된 압축파일을 다운받아 압축을 풀고\n",
    "            * anaconda의 root directory(보통 C:/Users/< ID > 에 project 폴더를 만들고, 복사해 넣습니다.\n",
    "        \n",
    "    - 기본적으로 필요한 라이브러리를 import 하도록 코드가 작성되어 있습니다. \n",
    "        * 필요하다고 판단되는 라이브러리를 추가하세요."
   ]
  },
  {
   "cell_type": "markdown",
   "id": "38b44a6e",
   "metadata": {},
   "source": [
    "### (1) 경로 설정 및 라이브러리 로딩\n",
    "* 이번 프로젝트는 로컬환경에서 진행합니다."
   ]
  },
  {
   "cell_type": "markdown",
   "id": "84eef66f",
   "metadata": {},
   "source": [
    "#### 1) 로컬 수행(Anaconda)\n",
    "* project 폴더에 필요한 파일들을 넣고, 본 파일을 열었다면, 별도 경로 지정이 필요하지 않습니다."
   ]
  },
  {
   "cell_type": "code",
   "execution_count": null,
   "id": "48878d45",
   "metadata": {},
   "outputs": [],
   "source": [
    "# path = 'C:/Users/User/'"
   ]
  },
  {
   "cell_type": "markdown",
   "id": "26d9ab4e",
   "metadata": {},
   "source": [
    "#### 2) 라이브러리 로딩"
   ]
  },
  {
   "cell_type": "code",
   "execution_count": 1,
   "id": "024f6e60",
   "metadata": {
    "tags": []
   },
   "outputs": [],
   "source": [
    "import pandas as pd\n",
    "import numpy as np\n",
    "import matplotlib.pyplot as plt\n",
    "import seaborn as sns\n",
    "\n",
    "from statsmodels.graphics.mosaicplot import mosaic\n",
    "from scipy import stats as spst\n",
    "import statsmodels.api as sm\n",
    "import joblib\n",
    "\n",
    "# 더 필요한 라이브러리를 아래에 추가합니다.\n",
    "\n"
   ]
  },
  {
   "cell_type": "markdown",
   "id": "2b70c230",
   "metadata": {},
   "source": [
    "### (2) 데이터 불러오기\n",
    "* 주어진 데이터셋\n",
    "    * 따릉이 수요 및 날씨 데이터 : sbikedata.csv"
   ]
  },
  {
   "cell_type": "markdown",
   "id": "39dcb980",
   "metadata": {},
   "source": [
    "#### 1) 데이터로딩"
   ]
  },
  {
   "cell_type": "code",
   "execution_count": 3,
   "id": "1d3deb9c",
   "metadata": {
    "tags": []
   },
   "outputs": [],
   "source": [
    "# 아래에 실습코드를 작성하고 결과를 확인합니다.\n",
    "\n",
    "data = pd.read_csv('sbikedata.csv')"
   ]
  },
  {
   "cell_type": "markdown",
   "id": "4ed61f29",
   "metadata": {},
   "source": [
    "#### 2) 기본 정보 조회\n",
    "- 데이터를 head, tail. describe, info 등을 활용하여 확인하세요."
   ]
  },
  {
   "cell_type": "code",
   "execution_count": 4,
   "id": "862f8a38",
   "metadata": {
    "collapsed": true,
    "jupyter": {
     "outputs_hidden": true
    },
    "tags": []
   },
   "outputs": [
    {
     "data": {
      "text/html": [
       "<div>\n",
       "<style scoped>\n",
       "    .dataframe tbody tr th:only-of-type {\n",
       "        vertical-align: middle;\n",
       "    }\n",
       "\n",
       "    .dataframe tbody tr th {\n",
       "        vertical-align: top;\n",
       "    }\n",
       "\n",
       "    .dataframe thead th {\n",
       "        text-align: right;\n",
       "    }\n",
       "</style>\n",
       "<table border=\"1\" class=\"dataframe\">\n",
       "  <thead>\n",
       "    <tr style=\"text-align: right;\">\n",
       "      <th></th>\n",
       "      <th>date</th>\n",
       "      <th>hour</th>\n",
       "      <th>PM10</th>\n",
       "      <th>PM2.5</th>\n",
       "      <th>ozone</th>\n",
       "      <th>temperature</th>\n",
       "      <th>precipitation</th>\n",
       "      <th>windspeed</th>\n",
       "      <th>humidity</th>\n",
       "      <th>visibility</th>\n",
       "      <th>count</th>\n",
       "    </tr>\n",
       "  </thead>\n",
       "  <tbody>\n",
       "    <tr>\n",
       "      <th>0</th>\n",
       "      <td>2021-04-01</td>\n",
       "      <td>1</td>\n",
       "      <td>42.0</td>\n",
       "      <td>21.0</td>\n",
       "      <td>0.002</td>\n",
       "      <td>13.1</td>\n",
       "      <td>0</td>\n",
       "      <td>1.4</td>\n",
       "      <td>49</td>\n",
       "      <td>2000</td>\n",
       "      <td>46</td>\n",
       "    </tr>\n",
       "    <tr>\n",
       "      <th>1</th>\n",
       "      <td>2021-04-01</td>\n",
       "      <td>2</td>\n",
       "      <td>41.0</td>\n",
       "      <td>21.0</td>\n",
       "      <td>0.003</td>\n",
       "      <td>12.4</td>\n",
       "      <td>0</td>\n",
       "      <td>2.1</td>\n",
       "      <td>53</td>\n",
       "      <td>2000</td>\n",
       "      <td>40</td>\n",
       "    </tr>\n",
       "    <tr>\n",
       "      <th>2</th>\n",
       "      <td>2021-04-01</td>\n",
       "      <td>3</td>\n",
       "      <td>30.0</td>\n",
       "      <td>13.0</td>\n",
       "      <td>0.023</td>\n",
       "      <td>13.1</td>\n",
       "      <td>0</td>\n",
       "      <td>3.4</td>\n",
       "      <td>43</td>\n",
       "      <td>2000</td>\n",
       "      <td>31</td>\n",
       "    </tr>\n",
       "    <tr>\n",
       "      <th>3</th>\n",
       "      <td>2021-04-01</td>\n",
       "      <td>4</td>\n",
       "      <td>27.0</td>\n",
       "      <td>12.0</td>\n",
       "      <td>0.028</td>\n",
       "      <td>13.0</td>\n",
       "      <td>0</td>\n",
       "      <td>3.1</td>\n",
       "      <td>44</td>\n",
       "      <td>2000</td>\n",
       "      <td>12</td>\n",
       "    </tr>\n",
       "    <tr>\n",
       "      <th>4</th>\n",
       "      <td>2021-04-01</td>\n",
       "      <td>5</td>\n",
       "      <td>29.0</td>\n",
       "      <td>14.0</td>\n",
       "      <td>0.008</td>\n",
       "      <td>13.0</td>\n",
       "      <td>0</td>\n",
       "      <td>2.9</td>\n",
       "      <td>44</td>\n",
       "      <td>2000</td>\n",
       "      <td>30</td>\n",
       "    </tr>\n",
       "  </tbody>\n",
       "</table>\n",
       "</div>"
      ],
      "text/plain": [
       "         date  hour  PM10  PM2.5  ozone  temperature  precipitation  \\\n",
       "0  2021-04-01     1  42.0   21.0  0.002         13.1              0   \n",
       "1  2021-04-01     2  41.0   21.0  0.003         12.4              0   \n",
       "2  2021-04-01     3  30.0   13.0  0.023         13.1              0   \n",
       "3  2021-04-01     4  27.0   12.0  0.028         13.0              0   \n",
       "4  2021-04-01     5  29.0   14.0  0.008         13.0              0   \n",
       "\n",
       "   windspeed  humidity  visibility  count  \n",
       "0        1.4        49        2000     46  \n",
       "1        2.1        53        2000     40  \n",
       "2        3.4        43        2000     31  \n",
       "3        3.1        44        2000     12  \n",
       "4        2.9        44        2000     30  "
      ]
     },
     "execution_count": 4,
     "metadata": {},
     "output_type": "execute_result"
    }
   ],
   "source": [
    "# 아래에 실습코드를 작성하고 결과를 확인합니다.\n",
    "\n",
    "data.head()"
   ]
  },
  {
   "cell_type": "code",
   "execution_count": 5,
   "id": "69c3c6c7",
   "metadata": {
    "collapsed": true,
    "jupyter": {
     "outputs_hidden": true
    },
    "tags": []
   },
   "outputs": [
    {
     "data": {
      "text/html": [
       "<div>\n",
       "<style scoped>\n",
       "    .dataframe tbody tr th:only-of-type {\n",
       "        vertical-align: middle;\n",
       "    }\n",
       "\n",
       "    .dataframe tbody tr th {\n",
       "        vertical-align: top;\n",
       "    }\n",
       "\n",
       "    .dataframe thead th {\n",
       "        text-align: right;\n",
       "    }\n",
       "</style>\n",
       "<table border=\"1\" class=\"dataframe\">\n",
       "  <thead>\n",
       "    <tr style=\"text-align: right;\">\n",
       "      <th></th>\n",
       "      <th>date</th>\n",
       "      <th>hour</th>\n",
       "      <th>PM10</th>\n",
       "      <th>PM2.5</th>\n",
       "      <th>ozone</th>\n",
       "      <th>temperature</th>\n",
       "      <th>precipitation</th>\n",
       "      <th>windspeed</th>\n",
       "      <th>humidity</th>\n",
       "      <th>visibility</th>\n",
       "      <th>count</th>\n",
       "    </tr>\n",
       "  </thead>\n",
       "  <tbody>\n",
       "    <tr>\n",
       "      <th>5822</th>\n",
       "      <td>2021-11-29</td>\n",
       "      <td>20</td>\n",
       "      <td>74.0</td>\n",
       "      <td>58.0</td>\n",
       "      <td>0.002</td>\n",
       "      <td>9.3</td>\n",
       "      <td>0</td>\n",
       "      <td>0.3</td>\n",
       "      <td>66</td>\n",
       "      <td>1193</td>\n",
       "      <td>273</td>\n",
       "    </tr>\n",
       "    <tr>\n",
       "      <th>5823</th>\n",
       "      <td>2021-11-29</td>\n",
       "      <td>21</td>\n",
       "      <td>65.0</td>\n",
       "      <td>56.0</td>\n",
       "      <td>0.002</td>\n",
       "      <td>8.4</td>\n",
       "      <td>0</td>\n",
       "      <td>2.0</td>\n",
       "      <td>70</td>\n",
       "      <td>1233</td>\n",
       "      <td>228</td>\n",
       "    </tr>\n",
       "    <tr>\n",
       "      <th>5824</th>\n",
       "      <td>2021-11-29</td>\n",
       "      <td>22</td>\n",
       "      <td>51.0</td>\n",
       "      <td>41.0</td>\n",
       "      <td>0.002</td>\n",
       "      <td>8.6</td>\n",
       "      <td>0</td>\n",
       "      <td>1.9</td>\n",
       "      <td>70</td>\n",
       "      <td>1250</td>\n",
       "      <td>215</td>\n",
       "    </tr>\n",
       "    <tr>\n",
       "      <th>5825</th>\n",
       "      <td>2021-11-29</td>\n",
       "      <td>23</td>\n",
       "      <td>43.0</td>\n",
       "      <td>35.0</td>\n",
       "      <td>0.001</td>\n",
       "      <td>8.2</td>\n",
       "      <td>0</td>\n",
       "      <td>2.1</td>\n",
       "      <td>71</td>\n",
       "      <td>1262</td>\n",
       "      <td>125</td>\n",
       "    </tr>\n",
       "    <tr>\n",
       "      <th>5826</th>\n",
       "      <td>2021-11-30</td>\n",
       "      <td>0</td>\n",
       "      <td>39.0</td>\n",
       "      <td>31.0</td>\n",
       "      <td>0.004</td>\n",
       "      <td>7.9</td>\n",
       "      <td>0</td>\n",
       "      <td>2.3</td>\n",
       "      <td>71</td>\n",
       "      <td>1483</td>\n",
       "      <td>95</td>\n",
       "    </tr>\n",
       "  </tbody>\n",
       "</table>\n",
       "</div>"
      ],
      "text/plain": [
       "            date  hour  PM10  PM2.5  ozone  temperature  precipitation  \\\n",
       "5822  2021-11-29    20  74.0   58.0  0.002          9.3              0   \n",
       "5823  2021-11-29    21  65.0   56.0  0.002          8.4              0   \n",
       "5824  2021-11-29    22  51.0   41.0  0.002          8.6              0   \n",
       "5825  2021-11-29    23  43.0   35.0  0.001          8.2              0   \n",
       "5826  2021-11-30     0  39.0   31.0  0.004          7.9              0   \n",
       "\n",
       "      windspeed  humidity  visibility  count  \n",
       "5822        0.3        66        1193    273  \n",
       "5823        2.0        70        1233    228  \n",
       "5824        1.9        70        1250    215  \n",
       "5825        2.1        71        1262    125  \n",
       "5826        2.3        71        1483     95  "
      ]
     },
     "execution_count": 5,
     "metadata": {},
     "output_type": "execute_result"
    }
   ],
   "source": [
    "# 아래에 실습코드를 작성하고 결과를 확인합니다.\n",
    "\n",
    "data.tail()"
   ]
  },
  {
   "cell_type": "code",
   "execution_count": 6,
   "id": "3396bdcc",
   "metadata": {
    "collapsed": true,
    "jupyter": {
     "outputs_hidden": true
    },
    "tags": []
   },
   "outputs": [
    {
     "data": {
      "text/html": [
       "<div>\n",
       "<style scoped>\n",
       "    .dataframe tbody tr th:only-of-type {\n",
       "        vertical-align: middle;\n",
       "    }\n",
       "\n",
       "    .dataframe tbody tr th {\n",
       "        vertical-align: top;\n",
       "    }\n",
       "\n",
       "    .dataframe thead th {\n",
       "        text-align: right;\n",
       "    }\n",
       "</style>\n",
       "<table border=\"1\" class=\"dataframe\">\n",
       "  <thead>\n",
       "    <tr style=\"text-align: right;\">\n",
       "      <th></th>\n",
       "      <th>hour</th>\n",
       "      <th>PM10</th>\n",
       "      <th>PM2.5</th>\n",
       "      <th>ozone</th>\n",
       "      <th>temperature</th>\n",
       "      <th>precipitation</th>\n",
       "      <th>windspeed</th>\n",
       "      <th>humidity</th>\n",
       "      <th>visibility</th>\n",
       "      <th>count</th>\n",
       "    </tr>\n",
       "  </thead>\n",
       "  <tbody>\n",
       "    <tr>\n",
       "      <th>count</th>\n",
       "      <td>5827.000000</td>\n",
       "      <td>5725.000000</td>\n",
       "      <td>5732.000000</td>\n",
       "      <td>5699.000000</td>\n",
       "      <td>5827.000000</td>\n",
       "      <td>5827.000000</td>\n",
       "      <td>5827.000000</td>\n",
       "      <td>5827.000000</td>\n",
       "      <td>5827.000000</td>\n",
       "      <td>5827.000000</td>\n",
       "    </tr>\n",
       "    <tr>\n",
       "      <th>mean</th>\n",
       "      <td>11.506607</td>\n",
       "      <td>31.970655</td>\n",
       "      <td>15.666609</td>\n",
       "      <td>0.031811</td>\n",
       "      <td>19.376798</td>\n",
       "      <td>0.075511</td>\n",
       "      <td>2.237601</td>\n",
       "      <td>68.608718</td>\n",
       "      <td>1758.438648</td>\n",
       "      <td>215.117899</td>\n",
       "    </tr>\n",
       "    <tr>\n",
       "      <th>std</th>\n",
       "      <td>6.921963</td>\n",
       "      <td>42.987292</td>\n",
       "      <td>13.850990</td>\n",
       "      <td>0.018277</td>\n",
       "      <td>7.501572</td>\n",
       "      <td>0.264236</td>\n",
       "      <td>1.054516</td>\n",
       "      <td>17.277266</td>\n",
       "      <td>490.969394</td>\n",
       "      <td>185.972900</td>\n",
       "    </tr>\n",
       "    <tr>\n",
       "      <th>min</th>\n",
       "      <td>0.000000</td>\n",
       "      <td>3.000000</td>\n",
       "      <td>1.000000</td>\n",
       "      <td>0.001000</td>\n",
       "      <td>-3.500000</td>\n",
       "      <td>0.000000</td>\n",
       "      <td>0.000000</td>\n",
       "      <td>19.000000</td>\n",
       "      <td>60.000000</td>\n",
       "      <td>1.000000</td>\n",
       "    </tr>\n",
       "    <tr>\n",
       "      <th>25%</th>\n",
       "      <td>6.000000</td>\n",
       "      <td>16.000000</td>\n",
       "      <td>7.000000</td>\n",
       "      <td>0.019000</td>\n",
       "      <td>14.100000</td>\n",
       "      <td>0.000000</td>\n",
       "      <td>1.500000</td>\n",
       "      <td>56.000000</td>\n",
       "      <td>1935.500000</td>\n",
       "      <td>53.000000</td>\n",
       "    </tr>\n",
       "    <tr>\n",
       "      <th>50%</th>\n",
       "      <td>12.000000</td>\n",
       "      <td>25.000000</td>\n",
       "      <td>13.000000</td>\n",
       "      <td>0.031000</td>\n",
       "      <td>20.400000</td>\n",
       "      <td>0.000000</td>\n",
       "      <td>2.200000</td>\n",
       "      <td>70.000000</td>\n",
       "      <td>2000.000000</td>\n",
       "      <td>186.000000</td>\n",
       "    </tr>\n",
       "    <tr>\n",
       "      <th>75%</th>\n",
       "      <td>18.000000</td>\n",
       "      <td>37.000000</td>\n",
       "      <td>20.000000</td>\n",
       "      <td>0.041000</td>\n",
       "      <td>24.900000</td>\n",
       "      <td>0.000000</td>\n",
       "      <td>2.800000</td>\n",
       "      <td>82.000000</td>\n",
       "      <td>2000.000000</td>\n",
       "      <td>315.000000</td>\n",
       "    </tr>\n",
       "    <tr>\n",
       "      <th>max</th>\n",
       "      <td>23.000000</td>\n",
       "      <td>827.000000</td>\n",
       "      <td>125.000000</td>\n",
       "      <td>0.137000</td>\n",
       "      <td>36.300000</td>\n",
       "      <td>1.000000</td>\n",
       "      <td>8.300000</td>\n",
       "      <td>100.000000</td>\n",
       "      <td>2000.000000</td>\n",
       "      <td>1746.000000</td>\n",
       "    </tr>\n",
       "  </tbody>\n",
       "</table>\n",
       "</div>"
      ],
      "text/plain": [
       "              hour         PM10        PM2.5        ozone  temperature  \\\n",
       "count  5827.000000  5725.000000  5732.000000  5699.000000  5827.000000   \n",
       "mean     11.506607    31.970655    15.666609     0.031811    19.376798   \n",
       "std       6.921963    42.987292    13.850990     0.018277     7.501572   \n",
       "min       0.000000     3.000000     1.000000     0.001000    -3.500000   \n",
       "25%       6.000000    16.000000     7.000000     0.019000    14.100000   \n",
       "50%      12.000000    25.000000    13.000000     0.031000    20.400000   \n",
       "75%      18.000000    37.000000    20.000000     0.041000    24.900000   \n",
       "max      23.000000   827.000000   125.000000     0.137000    36.300000   \n",
       "\n",
       "       precipitation    windspeed     humidity   visibility        count  \n",
       "count    5827.000000  5827.000000  5827.000000  5827.000000  5827.000000  \n",
       "mean        0.075511     2.237601    68.608718  1758.438648   215.117899  \n",
       "std         0.264236     1.054516    17.277266   490.969394   185.972900  \n",
       "min         0.000000     0.000000    19.000000    60.000000     1.000000  \n",
       "25%         0.000000     1.500000    56.000000  1935.500000    53.000000  \n",
       "50%         0.000000     2.200000    70.000000  2000.000000   186.000000  \n",
       "75%         0.000000     2.800000    82.000000  2000.000000   315.000000  \n",
       "max         1.000000     8.300000   100.000000  2000.000000  1746.000000  "
      ]
     },
     "execution_count": 6,
     "metadata": {},
     "output_type": "execute_result"
    }
   ],
   "source": [
    "# 아래에 실습코드를 작성하고 결과를 확인합니다.\n",
    "\n",
    "data.describe()"
   ]
  },
  {
   "cell_type": "code",
   "execution_count": 7,
   "id": "7b9a3238",
   "metadata": {
    "collapsed": true,
    "jupyter": {
     "outputs_hidden": true
    },
    "tags": []
   },
   "outputs": [
    {
     "name": "stdout",
     "output_type": "stream",
     "text": [
      "<class 'pandas.core.frame.DataFrame'>\n",
      "RangeIndex: 5827 entries, 0 to 5826\n",
      "Data columns (total 11 columns):\n",
      " #   Column         Non-Null Count  Dtype  \n",
      "---  ------         --------------  -----  \n",
      " 0   date           5827 non-null   object \n",
      " 1   hour           5827 non-null   int64  \n",
      " 2   PM10           5725 non-null   float64\n",
      " 3   PM2.5          5732 non-null   float64\n",
      " 4   ozone          5699 non-null   float64\n",
      " 5   temperature    5827 non-null   float64\n",
      " 6   precipitation  5827 non-null   int64  \n",
      " 7   windspeed      5827 non-null   float64\n",
      " 8   humidity       5827 non-null   int64  \n",
      " 9   visibility     5827 non-null   int64  \n",
      " 10  count          5827 non-null   int64  \n",
      "dtypes: float64(5), int64(5), object(1)\n",
      "memory usage: 500.9+ KB\n"
     ]
    }
   ],
   "source": [
    "# 아래에 실습코드를 작성하고 결과를 확인합니다.\n",
    "\n",
    "data.info()"
   ]
  },
  {
   "cell_type": "markdown",
   "id": "8e126a7d",
   "metadata": {},
   "source": [
    "## 2.EDA 1단계 - 데이터 기본 탐색\n",
    "\n",
    "* 단변량 분석은 데이터분석의 매우 기초적인 분석기법으로, 독립적인 개별 변수가 가지고있는 특성들을 이해하는 과정입니다.\n",
    "\n",
    "    * <span style=\"color: green\"> 개별 변수에 대해 아래 사항들을 분석해보세요. </span>\n",
    "\n",
    "        1. 변수가 내포하고 있는 의미\n",
    "        2. 변수가 수치형인지, 범주형인지\n",
    "        3. 결측치 존재 여부 및 조치 방안\n",
    "        4. 기초 통계량 확인\n",
    "        5. 데이터 분포 확인\n",
    "        6. 위 정보로부터 파악한 내용 정리\n",
    "        7. 추가 분석사항 도출"
   ]
  },
  {
   "cell_type": "markdown",
   "id": "dc63b28e",
   "metadata": {},
   "source": [
    "### (1) 변수별 단변량 분석"
   ]
  },
  {
   "cell_type": "markdown",
   "id": "e3fe59cc",
   "metadata": {},
   "source": [
    "#### 1) Feature1 : hour"
   ]
  },
  {
   "cell_type": "code",
   "execution_count": 20,
   "id": "d098623d",
   "metadata": {
    "tags": []
   },
   "outputs": [
    {
     "data": {
      "text/plain": [
       "array([ 1,  2,  3,  4,  5,  6,  7,  8,  9, 10, 11, 12, 13, 14, 15, 16, 17,\n",
       "       18, 19, 20, 21, 22, 23,  0], dtype=int64)"
      ]
     },
     "execution_count": 20,
     "metadata": {},
     "output_type": "execute_result"
    }
   ],
   "source": [
    "# 아래에 실습코드를 작성하고 결과를 확인합니다.\n",
    "\n",
    "data['hour'].unique()"
   ]
  },
  {
   "cell_type": "markdown",
   "id": "74305cdf",
   "metadata": {},
   "source": [
    "변수가 내포하고 있는 의미\n",
    "- 시간을 24시로 표현"
   ]
  },
  {
   "cell_type": "markdown",
   "id": "f5598656",
   "metadata": {},
   "source": [
    "변수가 수치형인지 범주형인지\n",
    "- 시간은 범주형? 수치형?\n",
    "-> 수치형이다."
   ]
  },
  {
   "cell_type": "code",
   "execution_count": 9,
   "id": "17431249",
   "metadata": {
    "tags": []
   },
   "outputs": [
    {
     "data": {
      "text/plain": [
       "dtype('int64')"
      ]
     },
     "execution_count": 9,
     "metadata": {},
     "output_type": "execute_result"
    }
   ],
   "source": [
    "# 아래에 실습코드를 작성하고 결과를 확인합니다.\n",
    "\n",
    "data['hour'].dtype"
   ]
  },
  {
   "cell_type": "markdown",
   "id": "52aeba21",
   "metadata": {},
   "source": [
    "변수의 결측치 존재 여부 및 조치방안"
   ]
  },
  {
   "cell_type": "code",
   "execution_count": 14,
   "id": "b35f59ce",
   "metadata": {
    "tags": []
   },
   "outputs": [
    {
     "data": {
      "text/plain": [
       "0"
      ]
     },
     "execution_count": 14,
     "metadata": {},
     "output_type": "execute_result"
    }
   ],
   "source": [
    "# 아래에 실습코드를 작성하고 결과를 확인합니다.\n",
    "\n",
    "# 결측치 확인\n",
    "data['hour'].isnull().sum()"
   ]
  },
  {
   "cell_type": "markdown",
   "id": "2d9760fd",
   "metadata": {},
   "source": [
    "변수의 기초 통계량 확인"
   ]
  },
  {
   "cell_type": "code",
   "execution_count": 11,
   "id": "a749aab7",
   "metadata": {
    "tags": []
   },
   "outputs": [
    {
     "data": {
      "text/plain": [
       "count    5827.000000\n",
       "mean       11.506607\n",
       "std         6.921963\n",
       "min         0.000000\n",
       "25%         6.000000\n",
       "50%        12.000000\n",
       "75%        18.000000\n",
       "max        23.000000\n",
       "Name: hour, dtype: float64"
      ]
     },
     "execution_count": 11,
     "metadata": {},
     "output_type": "execute_result"
    }
   ],
   "source": [
    "# 아래에 실습코드를 작성하고 결과를 확인합니다.\n",
    "\n",
    "data['hour'].describe()"
   ]
  },
  {
   "cell_type": "markdown",
   "id": "4eb1b708",
   "metadata": {},
   "source": [
    "변수의 분포 확인\n",
    "* kdeplot 활용"
   ]
  },
  {
   "cell_type": "code",
   "execution_count": 19,
   "id": "ad5e55cb",
   "metadata": {
    "tags": []
   },
   "outputs": [
    {
     "data": {
      "image/png": "[encoded data removed]",
      "text/plain": [
       "<Figure size 640x480 with 1 Axes>"
      ]
     },
     "metadata": {},
     "output_type": "display_data"
    }
   ],
   "source": [
    "# 아래에 실습코드를 작성하고 결과를 확인합니다.\n",
    "\n",
    "sns.kdeplot(data=data['hour'])\n",
    "plt.xlabel('hour')\n",
    "plt.ylabel('Density')\n",
    "plt.title('Distribution of Hour Variable')\n",
    "plt.show()"
   ]
  },
  {
   "cell_type": "markdown",
   "id": "314284e2",
   "metadata": {},
   "source": [
    "위 정보로 부터 파악한 내용 정리\n",
    "- 데이터의 '시간' 열은 5827개 row로 구성되어있으며 결측치는 없음\n",
    "- 0시 및 일부 중간시간대 데이터가 비어있음"
   ]
  },
  {
   "cell_type": "markdown",
   "id": "a3ce1e2a",
   "metadata": {},
   "source": [
    "#### 2) Feature2 : temperature"
   ]
  },
  {
   "cell_type": "markdown",
   "id": "bdf00b61",
   "metadata": {},
   "source": [
    "변수가 내포하고 있는 의미\n",
    "- 따릉이 대여 시점의 온도\n"
   ]
  },
  {
   "cell_type": "code",
   "execution_count": 21,
   "id": "ad088ce4",
   "metadata": {
    "collapsed": true,
    "jupyter": {
     "outputs_hidden": true
    },
    "tags": []
   },
   "outputs": [
    {
     "data": {
      "text/plain": [
       "array([13.1, 12.4, 13. , 12.6, 12. , 14. , 16.2, 18.2, 20.2, 21.7, 22.6,\n",
       "       23.6, 23.2, 23.5, 23. , 22.3, 20.6, 19.2, 18.1, 16.5, 15.4, 14.6,\n",
       "       14.2, 13.7, 12.9, 12.8, 12.7, 13.6, 17.4, 18.9, 20.7, 21.6, 22. ,\n",
       "       22.9, 21. , 19.9, 19.4, 19. , 18.8, 18.4, 18. , 17.7, 17.6, 17.3,\n",
       "       17.5, 16.8, 15.8, 14.9, 14.8, 14.5, 14.4, 14.3, 13.5, 12.5, 11.7,\n",
       "       11.4, 10.9, 10.5, 10.3, 10.4, 10.2,  9.7,  9.5,  9.6, 10. , 10.7,\n",
       "       11.6, 14.7, 15.5, 15. , 12.3,  9. ,  8.1,  7.4,  6.8,  6.5,  6.1,\n",
       "        5.5,  5.4,  7.9, 16.6, 17.9, 15.9, 13.3, 10.6, 10.8,  9.4, 16.1,\n",
       "       17. , 18.6, 16. , 15.1, 12.1,  8.7,  8.2,  8.3, 16.7, 19.3, 20.4,\n",
       "       19.7, 13.8, 11.3, 10.1,  8.9,  7.6,  7.2, 13.9, 17.8, 11.2,  8.6,\n",
       "        7.8,  7.7,  8.8, 17.2, 19.5, 18.5,  9.8,  9.1,  8. , 15.2, 18.3,\n",
       "       11.8,  8.4, 12.2, 17.1, 20.8, 21.2, 21.5, 16.9, 11. , 11.1, 11.9,\n",
       "       11.5,  5.7,  5. ,  4.6,  3.9,  3.4,  3.1,  7.1,  6.6,  6.4,  6.7,\n",
       "        6.9,  7. ,  7.3,  6.2, 13.2,  5.8,  5.6,  8.5, 14.1,  9.9,  9.2,\n",
       "        6.3, 16.3, 16.4, 15.6, 21.8, 20.3, 21.1, 23.1, 24.7, 26.4, 27.6,\n",
       "       28.1, 27.8, 26.1, 24.1, 22.7, 19.8, 18.7, 26.2, 27.5, 27.4, 25.4,\n",
       "       23.7, 22.8, 20.5, 15.7, 20.1, 20.9, 15.3, 19.6, 22.5, 23.9, 20. ,\n",
       "       13.4,  9.3, 22.1, 22.2, 21.4, 24.3, 25. , 25.5, 25.3, 19.1, 24.6,\n",
       "       25.2, 26.6, 27. , 21.9, 23.8, 25.7, 27.2, 27.9, 28.9, 29.5, 29. ,\n",
       "       28. , 24. , 24.2, 28.7, 29.9, 30.3, 30.6, 30.2, 29.4, 24.8, 24.9,\n",
       "       26. , 25.9, 22.4, 23.4, 23.3, 24.5, 21.3, 26.8, 28.8, 26.5, 25.1,\n",
       "       26.3, 27.3, 27.7, 28.6, 29.3, 25.6, 31. , 31.3, 31.4, 30.9, 29.8,\n",
       "       28.3, 28.4, 26.7, 30. , 29.6, 25.8, 24.4, 28.2, 29.1, 29.2, 30.1,\n",
       "       28.5, 26.9, 27.1, 30.4, 30.5, 30.8, 31.7, 31.2, 29.7, 31.5, 32.2,\n",
       "       32.3, 32. , 31.6, 30.7, 32.6, 33.1, 32.5, 32.4, 33.9, 33.8, 32.7,\n",
       "       33.2, 33.3, 34.2, 35. , 32.8, 34. , 33.7, 31.9, 33.6, 34.3, 34.8,\n",
       "       35.1, 34.7, 33.4, 34.4, 35.2, 35.7, 34.9, 31.8, 31.1, 35.4, 35.3,\n",
       "       33. , 35.6, 36.3, 36. , 36.1, 32.9, 34.5, 32.1, 34.1, 33.5,  4.4,\n",
       "        4.2,  3.6,  3.2,  2.5,  2.4,  2.1,  1.6,  1.3,  2.9,  4.8,  3.5,\n",
       "        3. ,  4.3,  5.1,  5.2,  6. ,  5.3,  5.9,  7.5,  4.7,  4.5,  3.8,\n",
       "        3.7,  4.1,  1.9,  1.4,  1.2,  0.7,  4. ,  3.3,  2.3,  2.6,  2.7,\n",
       "        1.5,  2.8,  4.9,  2. ,  1.8,  0.9,  0.6,  0.8,  1.1,  0.3, -0.1,\n",
       "       -0.4, -0.6, -0.9, -1.2, -1.8, -2.4, -2.7, -3.2, -3.5, -2.2, -1. ,\n",
       "        0. ,  1. , -0.7, -1.1, -1.6, -2. , -2.3, -2.5,  0.1,  0.2, -0.3,\n",
       "       -1.3,  2.2, -0.8])"
      ]
     },
     "execution_count": 21,
     "metadata": {},
     "output_type": "execute_result"
    }
   ],
   "source": [
    "# 아래에 실습코드를 작성하고 결과를 확인합니다.\n",
    "\n",
    "data['temperature'].unique()"
   ]
  },
  {
   "cell_type": "markdown",
   "id": "3946f54b",
   "metadata": {},
   "source": [
    "변수가 수치형인지 범주형인지\n",
    "- 기온은 수치형? 범주형? -> 수치형"
   ]
  },
  {
   "cell_type": "code",
   "execution_count": 22,
   "id": "49361356",
   "metadata": {
    "tags": []
   },
   "outputs": [
    {
     "data": {
      "text/plain": [
       "dtype('float64')"
      ]
     },
     "execution_count": 22,
     "metadata": {},
     "output_type": "execute_result"
    }
   ],
   "source": [
    "# 아래에 실습코드를 작성하고 결과를 확인합니다.\n",
    "\n",
    "data['temperature'].dtype"
   ]
  },
  {
   "cell_type": "markdown",
   "id": "070e7647",
   "metadata": {},
   "source": [
    "변수의 결측치 존재 여부 및 조치방안"
   ]
  },
  {
   "cell_type": "code",
   "execution_count": 24,
   "id": "66e3ae24",
   "metadata": {
    "tags": []
   },
   "outputs": [
    {
     "data": {
      "text/plain": [
       "0"
      ]
     },
     "execution_count": 24,
     "metadata": {},
     "output_type": "execute_result"
    }
   ],
   "source": [
    "# 아래에 실습코드를 작성하고 결과를 확인합니다.\n",
    "\n",
    "# 결측치 확인\n",
    "data['temperature'].isnull().sum()"
   ]
  },
  {
   "cell_type": "markdown",
   "id": "3504f38b",
   "metadata": {},
   "source": [
    "변수의 기초 통계량 확인"
   ]
  },
  {
   "cell_type": "code",
   "execution_count": 25,
   "id": "eb897079",
   "metadata": {
    "tags": []
   },
   "outputs": [
    {
     "data": {
      "text/plain": [
       "count    5827.000000\n",
       "mean       19.376798\n",
       "std         7.501572\n",
       "min        -3.500000\n",
       "25%        14.100000\n",
       "50%        20.400000\n",
       "75%        24.900000\n",
       "max        36.300000\n",
       "Name: temperature, dtype: float64"
      ]
     },
     "execution_count": 25,
     "metadata": {},
     "output_type": "execute_result"
    }
   ],
   "source": [
    "# 아래에 실습코드를 작성하고 결과를 확인합니다.\n",
    "\n",
    "data['temperature'].describe()"
   ]
  },
  {
   "cell_type": "markdown",
   "id": "f2654913",
   "metadata": {},
   "source": [
    "변수의 분포 확인"
   ]
  },
  {
   "cell_type": "code",
   "execution_count": 31,
   "id": "07d0fac6",
   "metadata": {
    "tags": []
   },
   "outputs": [
    {
     "name": "stderr",
     "output_type": "stream",
     "text": [
      "C:\\Users\\User\\anaconda3\\Lib\\site-packages\\IPython\\core\\pylabtools.py:152: UserWarning: Glyph 49884 (\\N{HANGUL SYLLABLE SI}) missing from current font.\n",
      "  fig.canvas.print_figure(bytes_io, **kw)\n",
      "C:\\Users\\User\\anaconda3\\Lib\\site-packages\\IPython\\core\\pylabtools.py:152: UserWarning: Glyph 44036 (\\N{HANGUL SYLLABLE GAN}) missing from current font.\n",
      "  fig.canvas.print_figure(bytes_io, **kw)\n",
      "C:\\Users\\User\\anaconda3\\Lib\\site-packages\\IPython\\core\\pylabtools.py:152: UserWarning: Glyph 48320 (\\N{HANGUL SYLLABLE BYEON}) missing from current font.\n",
      "  fig.canvas.print_figure(bytes_io, **kw)\n",
      "C:\\Users\\User\\anaconda3\\Lib\\site-packages\\IPython\\core\\pylabtools.py:152: UserWarning: Glyph 49688 (\\N{HANGUL SYLLABLE SU}) missing from current font.\n",
      "  fig.canvas.print_figure(bytes_io, **kw)\n",
      "C:\\Users\\User\\anaconda3\\Lib\\site-packages\\IPython\\core\\pylabtools.py:152: UserWarning: Glyph 51032 (\\N{HANGUL SYLLABLE YI}) missing from current font.\n",
      "  fig.canvas.print_figure(bytes_io, **kw)\n",
      "C:\\Users\\User\\anaconda3\\Lib\\site-packages\\IPython\\core\\pylabtools.py:152: UserWarning: Glyph 48516 (\\N{HANGUL SYLLABLE BUN}) missing from current font.\n",
      "  fig.canvas.print_figure(bytes_io, **kw)\n",
      "C:\\Users\\User\\anaconda3\\Lib\\site-packages\\IPython\\core\\pylabtools.py:152: UserWarning: Glyph 54252 (\\N{HANGUL SYLLABLE PO}) missing from current font.\n",
      "  fig.canvas.print_figure(bytes_io, **kw)\n"
     ]
    },
    {
     "data": {
      "image/png": "[encoded data removed]",
      "text/plain": [
       "<Figure size 640x480 with 1 Axes>"
      ]
     },
     "metadata": {},
     "output_type": "display_data"
    }
   ],
   "source": [
    "sns.kdeplot(data=data['temperature'])\n",
    "plt.xlabel('hour')\n",
    "plt.ylabel('Density')\n",
    "plt.title('Distribution of Hour Variable')\n",
    "plt.show()"
   ]
  },
  {
   "cell_type": "markdown",
   "id": "b7f63822",
   "metadata": {},
   "source": [
    "위 정보로 부터 파악한 내용 정리\n"
   ]
  },
  {
   "cell_type": "markdown",
   "id": "d28e0cb7",
   "metadata": {},
   "source": [
    "#### 3) Feature3 : precipitation"
   ]
  },
  {
   "cell_type": "markdown",
   "id": "2ce4d935",
   "metadata": {},
   "source": [
    "변수가 내포하고 있는 의미\n",
    "- 따릉이 대여 시점의 강우 여부 (비가 안왔으면 0, 왔으면 1)"
   ]
  },
  {
   "cell_type": "code",
   "execution_count": 27,
   "id": "3b797f2d",
   "metadata": {
    "tags": []
   },
   "outputs": [
    {
     "data": {
      "text/plain": [
       "array([0, 1], dtype=int64)"
      ]
     },
     "execution_count": 27,
     "metadata": {},
     "output_type": "execute_result"
    }
   ],
   "source": [
    "# 아래에 실습코드를 작성하고 결과를 확인합니다.\n",
    "\n",
    "data['precipitation'].unique()"
   ]
  },
  {
   "cell_type": "markdown",
   "id": "5255e1f1",
   "metadata": {},
   "source": [
    "변수가 수치형인지 범주형인지\n",
    "- 1시간 전 강우 유무는 범주형? 수치형? -> 범주형"
   ]
  },
  {
   "cell_type": "code",
   "execution_count": 28,
   "id": "377abde0",
   "metadata": {
    "tags": []
   },
   "outputs": [
    {
     "data": {
      "text/plain": [
       "dtype('int64')"
      ]
     },
     "execution_count": 28,
     "metadata": {},
     "output_type": "execute_result"
    }
   ],
   "source": [
    "# 아래에 실습코드를 작성하고 결과를 확인합니다.\n",
    "\n",
    "data['precipitation'].dtype"
   ]
  },
  {
   "cell_type": "markdown",
   "id": "30039c7e",
   "metadata": {},
   "source": [
    "변수의 결측치 존재 여부 및 조치 방안\n"
   ]
  },
  {
   "cell_type": "code",
   "execution_count": 29,
   "id": "f8650fec",
   "metadata": {
    "tags": []
   },
   "outputs": [
    {
     "data": {
      "text/plain": [
       "0"
      ]
     },
     "execution_count": 29,
     "metadata": {},
     "output_type": "execute_result"
    }
   ],
   "source": [
    "# 아래에 실습코드를 작성하고 결과를 확인합니다.\n",
    "\n",
    "data['precipitation'].isnull().sum()"
   ]
  },
  {
   "cell_type": "markdown",
   "id": "aa89a86f",
   "metadata": {},
   "source": [
    "변수의 기초 통계량 확인"
   ]
  },
  {
   "cell_type": "code",
   "execution_count": 30,
   "id": "80518c33",
   "metadata": {
    "collapsed": true,
    "jupyter": {
     "outputs_hidden": true
    },
    "tags": []
   },
   "outputs": [
    {
     "data": {
      "text/plain": [
       "count    5827.000000\n",
       "mean        0.075511\n",
       "std         0.264236\n",
       "min         0.000000\n",
       "25%         0.000000\n",
       "50%         0.000000\n",
       "75%         0.000000\n",
       "max         1.000000\n",
       "Name: precipitation, dtype: float64"
      ]
     },
     "execution_count": 30,
     "metadata": {},
     "output_type": "execute_result"
    }
   ],
   "source": [
    "# 아래에 실습코드를 작성하고 결과를 확인합니다.\n",
    "\n",
    "data['precipitation'].describe()"
   ]
  },
  {
   "cell_type": "markdown",
   "id": "ca1d3e86",
   "metadata": {},
   "source": [
    "변수의 분포 확인"
   ]
  },
  {
   "cell_type": "code",
   "execution_count": null,
   "id": "9694bb33",
   "metadata": {},
   "outputs": [],
   "source": [
    "# 아래에 실습코드를 작성하고 결과를 확인합니다.\n",
    "\n",
    "sns.kdeplot(data['precipitation'])\n"
   ]
  },
  {
   "cell_type": "markdown",
   "id": "ea7ffee6",
   "metadata": {},
   "source": [
    "위 정보로 부터 파악한 내용 정리\n"
   ]
  },
  {
   "cell_type": "markdown",
   "id": "c559e931",
   "metadata": {},
   "source": [
    "#### 4) Feature4 : windspeed"
   ]
  },
  {
   "cell_type": "markdown",
   "id": "414fcce3",
   "metadata": {},
   "source": [
    "변수가 내포하고 있는 의미\n",
    "- 따릉이 대여 시점의 풍속, 풍량"
   ]
  },
  {
   "cell_type": "code",
   "execution_count": null,
   "id": "24491c56",
   "metadata": {},
   "outputs": [],
   "source": [
    "# 아래에 실습코드를 작성하고 결과를 확인합니다.\n",
    "\n"
   ]
  },
  {
   "cell_type": "markdown",
   "id": "89a59834",
   "metadata": {},
   "source": [
    "변수가 수치형인지 범주형인지\n"
   ]
  },
  {
   "cell_type": "code",
   "execution_count": null,
   "id": "01bc4b8f",
   "metadata": {},
   "outputs": [],
   "source": [
    "# 아래에 실습코드를 작성하고 결과를 확인합니다.\n",
    "\n"
   ]
  },
  {
   "cell_type": "markdown",
   "id": "062f03ae",
   "metadata": {},
   "source": [
    "변수의 결측치 존재 여부 및 조치방안"
   ]
  },
  {
   "cell_type": "code",
   "execution_count": null,
   "id": "388e5f1c",
   "metadata": {},
   "outputs": [],
   "source": [
    "# 아래에 실습코드를 작성하고 결과를 확인합니다.\n",
    "\n"
   ]
  },
  {
   "cell_type": "markdown",
   "id": "c5684936",
   "metadata": {},
   "source": [
    "변수의 기초 통계량 확인"
   ]
  },
  {
   "cell_type": "code",
   "execution_count": null,
   "id": "37b3d9d1",
   "metadata": {},
   "outputs": [],
   "source": [
    "# 아래에 실습코드를 작성하고 결과를 확인합니다.\n",
    "\n"
   ]
  },
  {
   "cell_type": "markdown",
   "id": "72b17bbc",
   "metadata": {},
   "source": [
    "변수의 분포 확인"
   ]
  },
  {
   "cell_type": "code",
   "execution_count": null,
   "id": "6a3caeb7",
   "metadata": {},
   "outputs": [],
   "source": [
    "# 아래에 실습코드를 작성하고 결과를 확인합니다.\n",
    "\n"
   ]
  },
  {
   "cell_type": "markdown",
   "id": "c4efd45c",
   "metadata": {},
   "source": [
    "위 정보로 부터 파악한 내용 정리\n"
   ]
  },
  {
   "cell_type": "markdown",
   "id": "33900fb6",
   "metadata": {},
   "source": [
    "#### 5) Feature5 : humidity"
   ]
  },
  {
   "cell_type": "markdown",
   "id": "1551d74b",
   "metadata": {},
   "source": [
    "변수가 내포하고 있는 의미\n",
    "- 따릉이 대여 시점의 습도"
   ]
  },
  {
   "cell_type": "code",
   "execution_count": null,
   "id": "84ddd9fe",
   "metadata": {},
   "outputs": [],
   "source": [
    "# 아래에 실습코드를 작성하고 결과를 확인합니다.\n",
    "\n"
   ]
  },
  {
   "cell_type": "markdown",
   "id": "a869b245",
   "metadata": {},
   "source": [
    "변수가 수치형인지 범주형인지\n"
   ]
  },
  {
   "cell_type": "code",
   "execution_count": null,
   "id": "47247eb1",
   "metadata": {},
   "outputs": [],
   "source": [
    "# 아래에 실습코드를 작성하고 결과를 확인합니다.\n",
    "\n"
   ]
  },
  {
   "cell_type": "markdown",
   "id": "079cec11",
   "metadata": {},
   "source": [
    "변수의 결측치 존재 여부 및 조치방안"
   ]
  },
  {
   "cell_type": "code",
   "execution_count": null,
   "id": "438fa120",
   "metadata": {},
   "outputs": [],
   "source": [
    "# 아래에 실습코드를 작성하고 결과를 확인합니다.\n",
    "\n"
   ]
  },
  {
   "cell_type": "markdown",
   "id": "a132b5df",
   "metadata": {},
   "source": [
    "변수의 기초 통계량 확인"
   ]
  },
  {
   "cell_type": "code",
   "execution_count": null,
   "id": "e17c8683",
   "metadata": {},
   "outputs": [],
   "source": [
    "# 아래에 실습코드를 작성하고 결과를 확인합니다.\n",
    "\n"
   ]
  },
  {
   "cell_type": "markdown",
   "id": "fcc7cb3a",
   "metadata": {},
   "source": [
    "변수의 분포 확인"
   ]
  },
  {
   "cell_type": "code",
   "execution_count": null,
   "id": "c991830c",
   "metadata": {},
   "outputs": [],
   "source": [
    "# 아래에 실습코드를 작성하고 결과를 확인합니다.\n",
    "\n"
   ]
  },
  {
   "cell_type": "markdown",
   "id": "7b879858",
   "metadata": {},
   "source": [
    "위 정보로 부터 파악한 내용 정리\n"
   ]
  },
  {
   "cell_type": "markdown",
   "id": "96c9800b",
   "metadata": {},
   "source": [
    "#### 6) Feature6 : visibility"
   ]
  },
  {
   "cell_type": "markdown",
   "id": "09c3520e",
   "metadata": {},
   "source": [
    "변수가 내포하고 있는 의미\n",
    "- 대여 시점의 시계 (시정 거리)"
   ]
  },
  {
   "cell_type": "code",
   "execution_count": null,
   "id": "1ef8cc22",
   "metadata": {},
   "outputs": [],
   "source": [
    "# 아래에 실습코드를 작성하고 결과를 확인합니다.\n",
    "\n"
   ]
  },
  {
   "cell_type": "markdown",
   "id": "9b1f608f",
   "metadata": {},
   "source": [
    "변수가 수치형인지 범주형인지"
   ]
  },
  {
   "cell_type": "code",
   "execution_count": null,
   "id": "6cc30a3d",
   "metadata": {},
   "outputs": [],
   "source": [
    "# 아래에 실습코드를 작성하고 결과를 확인합니다.\n",
    "\n"
   ]
  },
  {
   "cell_type": "markdown",
   "id": "661d41c7",
   "metadata": {},
   "source": [
    "변수의 결측치 존재 여부 및 조치방안"
   ]
  },
  {
   "cell_type": "code",
   "execution_count": null,
   "id": "83edfc7c",
   "metadata": {},
   "outputs": [],
   "source": [
    "# 아래에 실습코드를 작성하고 결과를 확인합니다.\n",
    "\n"
   ]
  },
  {
   "cell_type": "markdown",
   "id": "01b30d45",
   "metadata": {},
   "source": [
    "변수의 기초 통계량 확인"
   ]
  },
  {
   "cell_type": "code",
   "execution_count": null,
   "id": "1a3676b6",
   "metadata": {},
   "outputs": [],
   "source": [
    "# 아래에 실습코드를 작성하고 결과를 확인합니다.\n",
    "\n"
   ]
  },
  {
   "cell_type": "markdown",
   "id": "a8040687",
   "metadata": {},
   "source": [
    "변수의 분포 확인"
   ]
  },
  {
   "cell_type": "code",
   "execution_count": null,
   "id": "f8e15d94",
   "metadata": {},
   "outputs": [],
   "source": [
    "# 아래에 실습코드를 작성하고 결과를 확인합니다.\n",
    "\n"
   ]
  },
  {
   "cell_type": "markdown",
   "id": "7ea273ed",
   "metadata": {},
   "source": [
    "위 정보로 부터 파악한 내용 정리\n"
   ]
  },
  {
   "cell_type": "markdown",
   "id": "64034e28",
   "metadata": {},
   "source": [
    "#### 7) Feature7 : ozone"
   ]
  },
  {
   "cell_type": "markdown",
   "id": "b30d35f6",
   "metadata": {},
   "source": [
    "변수가 내포하고 있는 의미\n",
    "- 따릉이 대여 시점의 오존 수치"
   ]
  },
  {
   "cell_type": "code",
   "execution_count": null,
   "id": "bd8814e1",
   "metadata": {},
   "outputs": [],
   "source": [
    "# 아래에 실습코드를 작성하고 결과를 확인합니다.\n",
    "\n"
   ]
  },
  {
   "cell_type": "markdown",
   "id": "afd96628",
   "metadata": {},
   "source": [
    "변수가 수치형인지 범주형인지\n"
   ]
  },
  {
   "cell_type": "code",
   "execution_count": null,
   "id": "33aef33f",
   "metadata": {},
   "outputs": [],
   "source": [
    "# 아래에 실습코드를 작성하고 결과를 확인합니다.\n",
    "\n"
   ]
  },
  {
   "cell_type": "markdown",
   "id": "abe8baa3",
   "metadata": {},
   "source": [
    "변수의 결측치 존재 여부 및 조치방안"
   ]
  },
  {
   "cell_type": "code",
   "execution_count": null,
   "id": "a5d6b8b9",
   "metadata": {},
   "outputs": [],
   "source": [
    "# 아래에 실습코드를 작성하고 결과를 확인합니다.\n",
    "\n"
   ]
  },
  {
   "cell_type": "markdown",
   "id": "8b97cd3f",
   "metadata": {},
   "source": [
    "만약 결측치가 존재한다면?-> 어떻게 처리할 것인가?"
   ]
  },
  {
   "cell_type": "code",
   "execution_count": null,
   "id": "8e567c88",
   "metadata": {},
   "outputs": [],
   "source": [
    "# 아래에 실습코드를 작성하고 결과를 확인합니다.\n",
    "\n"
   ]
  },
  {
   "cell_type": "markdown",
   "id": "6f72275b",
   "metadata": {},
   "source": [
    "변수의 기초 통계량 확인"
   ]
  },
  {
   "cell_type": "code",
   "execution_count": null,
   "id": "2d56b151",
   "metadata": {},
   "outputs": [],
   "source": [
    "# 아래에 실습코드를 작성하고 결과를 확인합니다.\n",
    "\n"
   ]
  },
  {
   "cell_type": "markdown",
   "id": "32194953",
   "metadata": {},
   "source": [
    "변수의 분포 확인"
   ]
  },
  {
   "cell_type": "code",
   "execution_count": null,
   "id": "a1497ae2",
   "metadata": {},
   "outputs": [],
   "source": [
    "# 아래에 실습코드를 작성하고 결과를 확인합니다.\n",
    "\n"
   ]
  },
  {
   "cell_type": "markdown",
   "id": "5489d90c",
   "metadata": {},
   "source": [
    "위 정보로 부터 파악한 내용 정리\n"
   ]
  },
  {
   "cell_type": "markdown",
   "id": "0c47e8df",
   "metadata": {},
   "source": [
    "#### 8) Feature8 : PM10"
   ]
  },
  {
   "cell_type": "markdown",
   "id": "73a92867",
   "metadata": {},
   "source": [
    "변수가 내포하고 있는 의미\n",
    "- 따릉이 대여 시점의 미세먼지 농도"
   ]
  },
  {
   "cell_type": "code",
   "execution_count": null,
   "id": "b66959f6",
   "metadata": {},
   "outputs": [],
   "source": [
    "# 아래에 실습코드를 작성하고 결과를 확인합니다.\n",
    "\n"
   ]
  },
  {
   "cell_type": "markdown",
   "id": "91f8c45c",
   "metadata": {},
   "source": [
    "변수가 수치형인지 범주형인지\n"
   ]
  },
  {
   "cell_type": "code",
   "execution_count": 1,
   "id": "de5b5bfa",
   "metadata": {},
   "outputs": [],
   "source": [
    "# 아래에 실습코드를 작성하고 결과를 확인합니다.\n",
    "\n"
   ]
  },
  {
   "cell_type": "markdown",
   "id": "700c2840",
   "metadata": {},
   "source": [
    "변수의 결측치 존재 여부 및 조치방안"
   ]
  },
  {
   "cell_type": "code",
   "execution_count": null,
   "id": "b49e5c2e",
   "metadata": {},
   "outputs": [],
   "source": [
    "# 아래에 실습코드를 작성하고 결과를 확인합니다.\n",
    "\n"
   ]
  },
  {
   "cell_type": "markdown",
   "id": "e3662ff6",
   "metadata": {},
   "source": [
    "변수의 기초 통계량 확인"
   ]
  },
  {
   "cell_type": "code",
   "execution_count": null,
   "id": "eb502d3b",
   "metadata": {},
   "outputs": [],
   "source": [
    "# 아래에 실습코드를 작성하고 결과를 확인합니다.\n",
    "\n"
   ]
  },
  {
   "cell_type": "markdown",
   "id": "5d61ff51",
   "metadata": {},
   "source": [
    "변수의 분포 확인"
   ]
  },
  {
   "cell_type": "code",
   "execution_count": null,
   "id": "4cb67eb0",
   "metadata": {},
   "outputs": [],
   "source": [
    "# 아래에 실습코드를 작성하고 결과를 확인합니다.\n",
    "\n"
   ]
  },
  {
   "cell_type": "markdown",
   "id": "587ea220",
   "metadata": {},
   "source": [
    "위 정보로 부터 파악한 내용 정리\n"
   ]
  },
  {
   "cell_type": "markdown",
   "id": "027f491c",
   "metadata": {},
   "source": [
    "#### 9) Feature9 : PM2.5"
   ]
  },
  {
   "cell_type": "markdown",
   "id": "c0e0e903",
   "metadata": {},
   "source": [
    "변수가 내포하고 있는 의미\n",
    "- 따릉이 대여시점의 초미세먼지 수치"
   ]
  },
  {
   "cell_type": "code",
   "execution_count": null,
   "id": "94a68658",
   "metadata": {},
   "outputs": [],
   "source": [
    "# 아래에 실습코드를 작성하고 결과를 확인합니다.\n",
    "\n"
   ]
  },
  {
   "cell_type": "markdown",
   "id": "bf7bee19",
   "metadata": {},
   "source": [
    "변수가 수치형인지 범주형인지\n"
   ]
  },
  {
   "cell_type": "code",
   "execution_count": null,
   "id": "79b22b10",
   "metadata": {},
   "outputs": [],
   "source": [
    "# 아래에 실습코드를 작성하고 결과를 확인합니다.\n",
    "\n"
   ]
  },
  {
   "cell_type": "markdown",
   "id": "eb43f973",
   "metadata": {},
   "source": [
    "변수의 결측치 존재 여부 및 조치방안"
   ]
  },
  {
   "cell_type": "code",
   "execution_count": null,
   "id": "5e47c7d9",
   "metadata": {},
   "outputs": [],
   "source": [
    "# 아래에 실습코드를 작성하고 결과를 확인합니다.\n",
    "\n"
   ]
  },
  {
   "cell_type": "markdown",
   "id": "d0691974",
   "metadata": {},
   "source": [
    "변수의 기초 통계량 확인"
   ]
  },
  {
   "cell_type": "code",
   "execution_count": null,
   "id": "8e92f0f4",
   "metadata": {},
   "outputs": [],
   "source": [
    "# 아래에 실습코드를 작성하고 결과를 확인합니다.\n",
    "\n"
   ]
  },
  {
   "cell_type": "markdown",
   "id": "da492261",
   "metadata": {},
   "source": [
    "변수의 분포 확인"
   ]
  },
  {
   "cell_type": "code",
   "execution_count": null,
   "id": "82611940",
   "metadata": {},
   "outputs": [],
   "source": [
    "# 아래에 실습코드를 작성하고 결과를 확인합니다.\n",
    "\n"
   ]
  },
  {
   "cell_type": "markdown",
   "id": "884cf275",
   "metadata": {},
   "source": [
    "위 정보로 부터 파악한 내용 정리\n"
   ]
  },
  {
   "cell_type": "markdown",
   "id": "13cf9192",
   "metadata": {},
   "source": [
    "#### 10) Count (Target)"
   ]
  },
  {
   "cell_type": "code",
   "execution_count": null,
   "id": "2a027d4c",
   "metadata": {},
   "outputs": [],
   "source": [
    "# 아래에 실습코드를 작성하고 결과를 확인합니다.\n",
    "\n"
   ]
  },
  {
   "cell_type": "markdown",
   "id": "7007298b",
   "metadata": {},
   "source": [
    "변수가 내포하고 있는 의미\n",
    "- 따릉이의 대여량 -> 우리가 예측해야 할 변수!"
   ]
  },
  {
   "cell_type": "code",
   "execution_count": null,
   "id": "da1b23c4",
   "metadata": {},
   "outputs": [],
   "source": [
    "# 아래에 실습코드를 작성하고 결과를 확인합니다.\n",
    "\n"
   ]
  },
  {
   "cell_type": "markdown",
   "id": "56219b68",
   "metadata": {},
   "source": [
    "변수가 수치형인지 범주형인지\n"
   ]
  },
  {
   "cell_type": "markdown",
   "id": "9f1bf19c",
   "metadata": {},
   "source": [
    "변수의 결측치 존재 여부 및 조치 방안"
   ]
  },
  {
   "cell_type": "code",
   "execution_count": null,
   "id": "502c4c8d",
   "metadata": {},
   "outputs": [],
   "source": [
    "# 아래에 실습코드를 작성하고 결과를 확인합니다.\n",
    "\n"
   ]
  },
  {
   "cell_type": "markdown",
   "id": "fd336e86",
   "metadata": {},
   "source": [
    "변수의 기초 통계량 확인"
   ]
  },
  {
   "cell_type": "code",
   "execution_count": null,
   "id": "2a1ba541",
   "metadata": {},
   "outputs": [],
   "source": [
    "# 아래에 실습코드를 작성하고 결과를 확인합니다.\n",
    "\n"
   ]
  },
  {
   "cell_type": "markdown",
   "id": "3b3e68a5",
   "metadata": {},
   "source": [
    "변수의 분포 확인"
   ]
  },
  {
   "cell_type": "code",
   "execution_count": null,
   "id": "395e2996",
   "metadata": {},
   "outputs": [],
   "source": [
    "# 아래에 실습코드를 작성하고 결과를 확인합니다.\n",
    "\n"
   ]
  },
  {
   "cell_type": "markdown",
   "id": "531dc5e3",
   "metadata": {},
   "source": [
    "위 정보로 부터 파악한 내용 정리\n"
   ]
  }
 ],
 "metadata": {
  "colab": {
   "name": "1. 데이터 불러오기 및 분석(EDA).ipynb",
   "provenance": []
  },
  "kernelspec": {
   "display_name": "Python 3 (ipykernel)",
   "language": "python",
   "name": "python3"
  },
  "language_info": {
   "codemirror_mode": {
    "name": "ipython",
    "version": 3
   },
   "file_extension": ".py",
   "mimetype": "text/x-python",
   "name": "python",
   "nbconvert_exporter": "python",
   "pygments_lexer": "ipython3",
   "version": "3.11.5"
  },
  "vscode": {
   "interpreter": {
    "hash": "cf92aa13fedf815d5c8dd192b8d835913fde3e8bc926b2a0ad6cc74ef2ba3ca2"
   }
  }
 },
 "nbformat": 4,
 "nbformat_minor": 5
}
